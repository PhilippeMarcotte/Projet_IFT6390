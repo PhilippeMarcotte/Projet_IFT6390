{
  "nbformat": 4,
  "nbformat_minor": 0,
  "metadata": {
    "colab": {
      "name": "KNN_Wine_Projet_IFT6390_Wine_Quality.ipynb",
      "version": "0.3.2",
      "provenance": [],
      "collapsed_sections": [
        "HFJUV_YuttbL",
        "bgayxaPnwT3S",
        "ui9wUgNLUDqX",
        "RRuj97NCB9cn",
        "LbDS25eF9Znu"
      ]
    },
    "kernelspec": {
      "display_name": "Python 3",
      "language": "python",
      "name": "python3"
    }
  },
  "cells": [
    {
      "metadata": {
        "colab_type": "text",
        "id": "HFJUV_YuttbL"
      },
      "cell_type": "markdown",
      "source": [
        "## I) Importation des données"
      ]
    },
    {
      "metadata": {
        "colab_type": "code",
        "id": "Nej3AdS0tmDJ",
        "colab": {}
      },
      "cell_type": "code",
      "source": [
        "import pandas as pd\n",
        "import numpy as np\n",
        "import matplotlib.pyplot as plt\n",
        "from sklearn.preprocessing import StandardScaler\n",
        "from sklearn.utils import resample\n",
        "\n",
        "# Classe de gestion du dataset\n",
        "class data_set:\n",
        "    \n",
        "    # chargement des données via le constructeur\n",
        "    def __init__(self, name_to_print, *names_of_file):\n",
        "        self.wine_name = name_to_print\n",
        "        if(len(names_of_file)==2):\n",
        "            df1 = pd.read_csv(names_of_file[0],\n",
        "                            sep=\";\",\n",
        "                            header=0)\n",
        "            df2 = pd.read_csv(names_of_file[1],\n",
        "                            sep=\";\",\n",
        "                            header=0)\n",
        "            self.wine_data = pd.concat([df1, df2])  \n",
        "        else:\n",
        "            self.wine_data = pd.read_csv(names_of_file[0],\n",
        "                          sep=\";\",\n",
        "                          header=0)\n",
        "        \n",
        "        self.NB_RECORDS_WINE_DATA_INITIAL = self.wine_data.shape[0]\n",
        "        self.COLUMNS_NAMES = self.wine_data.columns\n",
        "        # Nb of categories in quality label\n",
        "        self.k = 0\n",
        "        \n",
        "    # Affichage du Shape du dataset\n",
        "    def print_shape(self):\n",
        "        print(self.wine_name, self.wine_data.shape)\n",
        "\n",
        "    # Affichage des 1ères lignes du dataset\n",
        "    def print_head(self):\n",
        "        print(self.wine_name)\n",
        "        return self.wine_data.head()\n",
        "        \n",
        "    # Affichage des noms de colonnes du dataset\n",
        "    def print_columns_names(self):\n",
        "        print(self.wine_name)\n",
        "        return self.COLUMNS_NAMES\n",
        "    \n",
        "    # Description statistique des features du dataset\n",
        "    def print_describe_stats_of_data(self):\n",
        "        print(self.wine_name)\n",
        "        return self.wine_data.describe()\n",
        "\n",
        "    # Indique s'il y a des valeurs manquantes\n",
        "    def print_is_missing_values_by_columns(self):\n",
        "        print(self.wine_name, \"nb de vals manquantes par colonne :\\n\", wine_data.isna().sum())        \n",
        "        \n",
        "    # Compte les occurrences par catégorie de la valeur cible\n",
        "    def print_count_occurences_by_target_variable(self):\n",
        "        print(self.wine_name + \"\\n\", self.wine_data[\"quality\"].value_counts())\n",
        "    \n",
        "    # Split du dataset en X_data et y_data\n",
        "    def split_data_to_X_and_y(self):\n",
        "        self.X_data = self.wine_data.as_matrix(self.wine_data.columns[:-1])\n",
        "        self.y_data = self.wine_data.as_matrix([self.wine_data.columns[-1]])\n",
        "        self.y_data = self.y_data.flatten()\n",
        "        \n",
        "        print(\"=============== New shape of \"+self.wine_name+ \" Data after split=============\")\n",
        "        # Split du dataset en X_data (features prédictives) et y_data (variable cible à prédire)\n",
        "        print(self.X_data.shape)\n",
        "        print(self.y_data.shape)        \n",
        "\n",
        "    # Affiche l'histogramme des features\n",
        "    def show_histogram_of_features(self):\n",
        "        # On créé un histogramme pour chacun des features pour voir leur distribution\n",
        "        fig = plt.figure(figsize=(16, 12))\n",
        "        for feature_index in range(self.X_data.shape[1]):\n",
        "            # 12 figures d'histogrammes en 3 rows et 4 colonnes \n",
        "            ax = fig.add_subplot(3,4, (feature_index+1))\n",
        "            # Histogramme bleu de 50 bins\n",
        "            h = ax.hist(self.X_data[:, feature_index], bins=50, color='steelblue',\n",
        "                    normed=True, edgecolor='none')\n",
        "            # On met un titre à chaque histogram\n",
        "            ax.set_title(self.COLUMNS_NAMES[feature_index], fontsize=14)\n",
        "    \n",
        "    # Affiche l'histogramme montrant la répartition des catégories de la target variable\n",
        "    def show_target_variable_histogram(self):\n",
        "        abscisse = range(np.min(self.y_data), np.max(self.y_data)+1)\n",
        "        abscisse_categ_list = [(self.y_data == a).sum() for a in abscisse]\n",
        "        b = plt.bar(abscisse, abscisse_categ_list, color=\"steelblue\")\n",
        "        title_to_show = \"Repartition des labels \\\"Quality\\\" \" + \"for \"+self.wine_name\n",
        "        plt.title(title_to_show, fontsize=14)\n",
        "        plt.show()\n",
        "\n",
        "        unique_label, counts_elements = np.unique(self.y_data, return_counts=True)\n",
        "        # Dictionnaire de \"label : count_of_occurrence\"\n",
        "        print(\"Repartition des : (label, count_of_occurence) \", dict(zip(unique_label, counts_elements)))        \n",
        "    \n",
        "    # Split de manière équilibrée le dataset en k catégories \n",
        "    def convert_ylabel_into_k_categories_equilibre(self, k_categ = 3):\n",
        "        if(k_categ == 2):\n",
        "            np.place(self.wine_data[\"quality\"].values, self.wine_data[\"quality\"].values < 6, 0)\n",
        "            np.place(self.wine_data[\"quality\"].values, self.wine_data[\"quality\"].values >= 6, 1)\n",
        "            \n",
        "        else:\n",
        "            np.place(self.wine_data[\"quality\"].values, self.wine_data[\"quality\"].values < 6, 0)\n",
        "            np.place(self.wine_data[\"quality\"].values, self.wine_data[\"quality\"].values == 6, 1)\n",
        "            np.place(self.wine_data[\"quality\"].values, self.wine_data[\"quality\"].values > 6, 2)\n",
        "\n",
        "        unique_label, counts_elements = np.unique(self.wine_data[\"quality\"].values, return_counts=True)\n",
        "        my_dict = dict(zip(unique_label, counts_elements))\n",
        "        print(my_dict)\n",
        "        label_of_minor_class = min(my_dict.keys(), key=(lambda k: my_dict[k]))\n",
        "        size_of_minor_class =  my_dict[label_of_minor_class]\n",
        "\n",
        "        print(\"label_of_minor_class :\", label_of_minor_class, \"size_of_minor_class\", size_of_minor_class)\n",
        "\n",
        "        df_minority = self.wine_data[self.wine_data[\"quality\"].values==label_of_minor_class]\n",
        "        \n",
        "        if(k_categ == 2):\n",
        "            df_non_minority_1 = self.wine_data[self.wine_data[\"quality\"].values!=label_of_minor_class]\n",
        "            \n",
        "            # Downsample majority class\n",
        "            df_non_minority_1_downsampled = resample(df_non_minority_1, \n",
        "                                             replace=False,    # sample without replacement\n",
        "                                             n_samples=size_of_minor_class,     # to match minority class\n",
        "                                             random_state=123) # reproducible results\n",
        "\n",
        "            # Combine minority class with downsampled majority class\n",
        "            df_downsampled = pd.concat([df_non_minority_1_downsampled, df_minority])\n",
        "            \n",
        "        else:\n",
        "            df_non_minority_1 = self.wine_data[self.wine_data[\"quality\"].values==0]\n",
        "            df_non_minority_2 =  self.wine_data[self.wine_data[\"quality\"].values==1]\n",
        "            \n",
        "            # Downsample majority class\n",
        "            df_non_minority_1_downsampled = resample(df_non_minority_1, \n",
        "                                             replace=False,    # sample without replacement\n",
        "                                             n_samples=size_of_minor_class,     # to match minority class\n",
        "                                             random_state=123) # reproducible results\n",
        "\n",
        "            # Downsample majority class\n",
        "            df_non_minority_2_downsampled = resample(df_non_minority_2, \n",
        "                                             replace=False,    # sample without replacement\n",
        "                                             n_samples=size_of_minor_class,     # to match minority class\n",
        "                                             random_state=123) # reproducible results\n",
        "\n",
        "            # Combine minority class with downsampled majority class\n",
        "            df_downsampled = pd.concat([df_non_minority_1_downsampled, df_non_minority_2_downsampled, df_minority])\n",
        "            \n",
        "        # new target values data after downsampling\n",
        "        self.wine_data = df_downsampled\n",
        "        self.split_data_to_X_and_y()\n",
        "        \n",
        "    # Split de manière déséquilibrée le dataset en k catégories\n",
        "    def convert_ylabel_into_k_categories_desequilibre(self, k_categ=3):\n",
        "        self.k = k_categ\n",
        "        if(self.k == 2):\n",
        "            np.place(self.y_data, self.y_data < 6, 0)\n",
        "            np.place(self.y_data, self.y_data >= 6, 1)\n",
        "\n",
        "        if(self.k == 3):\n",
        "            np.place(self.y_data, self.y_data < 6, 0)\n",
        "            np.place(self.y_data, self.y_data == 6, 1)\n",
        "            np.place(self.y_data, self.y_data > 6, 2)\n",
        "            \n",
        "    # Affiche la répartition de la qualité après le split en k catégories            \n",
        "    def show_ylabel_repartition_info(self):\n",
        "        self.show_target_variable_histogram()\n",
        "      \n",
        "        if(self.k == 2):\n",
        "            category_of_quality = [\"Low quality\", \"High quality\"]\n",
        "        if(self.k == 3):\n",
        "            category_of_quality = [\"Low quality\", \"Medium quality\", \"High quality\"]\n",
        "\n",
        "        print(\"======= If Quality of {} Wine was splited into {} categories =======\".format(self.wine_name, self.k))    \n",
        "        if(self.k > 0):\n",
        "            for idx, category in enumerate(category_of_quality):\n",
        "                count_of_quality_categ_in_wine = len(np.where(self.y_data == idx)[0])\n",
        "                count = count_of_quality_categ_in_wine/len(self.y_data)\n",
        "                print(\"{} : {} rows ({:.2f}%)\".format(category, count_of_quality_categ_in_wine, count*100) )              \n",
        "        \n",
        "    # Split du dataset en X_train, X_test, y_train, y_test\n",
        "    def split_into_train_test(self, size_of_test_set=0.2):\n",
        "        # split test et training set\n",
        "        from sklearn.model_selection import train_test_split        \n",
        "        self.X_train, self.X_test, self.y_train, self.y_test  = train_test_split(self.X_data, self.y_data, test_size = size_of_test_set, random_state = 42)        \n",
        "      \n",
        "        print(\"=============== New shape of \"+self.wine_name+ \" Data after X_{train, test} and y_{train, test} split=============\")\n",
        "        print(\"X_\"+self.wine_name+\"_train \", self.X_train.shape)\n",
        "        print(\"X_\"+self.wine_name+\"_test \", self.X_test.shape)      \n",
        "        print(\"y_\"+self.wine_name+\"_train \", self.y_train.shape)\n",
        "        print(\"y_\"+self.wine_name+\"_test \", self.y_test.shape)\n",
        "    \n",
        "    # Preprocessing des features de X_train et X_test\n",
        "    def preprocessing_feature_scaling_for_Xtrain_Xtest(self):\n",
        "        scaler_wine = StandardScaler()\n",
        "        self.X_train = scaler_wine.fit_transform(self.X_train)\n",
        "        self.X_test = scaler_wine.transform(self.X_test)    \n",
        "\n",
        "                    "
      ],
      "execution_count": 0,
      "outputs": []
    },
    {
      "metadata": {
        "colab_type": "code",
        "id": "W6z-ZLBWv3u4",
        "outputId": "39689b5c-ca14-4c93-f118-2676b2e743e3",
        "colab": {
          "base_uri": "https://localhost:8080/",
          "height": 89
        }
      },
      "cell_type": "code",
      "source": [
        "print(\"=================== Dimensions des dataset White et Red simples en 10 classes ==============\")\n",
        "wine_white_data = data_set(\"White\", \"winequality-white.csv\")\n",
        "wine_red_data = data_set(\"Red\", \"winequality-red.csv\")\n",
        "wine_combine_data = data_set(\"White-Red\", \"winequality-white.csv\", \"winequality-red.csv\")\n",
        "\n",
        "wine_white_data.print_shape()\n",
        "wine_red_data.print_shape()\n",
        "wine_combine_data.print_shape()"
      ],
      "execution_count": 0,
      "outputs": [
        {
          "output_type": "stream",
          "text": [
            "=================== Dimensions des dataset White et Red simples en 10 classes ==============\n",
            "White (4898, 12)\n",
            "Red (1599, 12)\n",
            "White-Red (6497, 12)\n"
          ],
          "name": "stdout"
        }
      ]
    },
    {
      "metadata": {
        "id": "p-YvxZ3Z9Zlj",
        "colab_type": "code",
        "outputId": "04e9f4a5-2173-4088-e8ac-1362004a5e0f",
        "colab": {
          "base_uri": "https://localhost:8080/",
          "height": 143
        }
      },
      "cell_type": "code",
      "source": [
        "print(\"=================== Dimensions des dataset White, Red et combine pour les cas equilibres ===============\")\n",
        "wine_white_data_2_kind_of_quality_equilibrees = data_set(\"White_2_Quality_equilibre\", \"winequality-white.csv\")\n",
        "wine_white_data_3_kind_of_quality_equilibrees = data_set(\"White_3_Quality_equilibre\", \"winequality-white.csv\")\n",
        "\n",
        "wine_red_data_2_kind_of_quality_equilibrees = data_set(\"Red_2_Quality_equilibre\", \"winequality-red.csv\")\n",
        "wine_red_data_3_kind_of_quality_equilibrees = data_set(\"Red_3_Quality_equilibre\", \"winequality-red.csv\")\n",
        "\n",
        "wine_combine_data_2_kind_of_quality_equilibrees = data_set(\"White-Red_2_Quality_equilibre\", \"winequality-white.csv\", \"winequality-red.csv\")\n",
        "wine_combine_data_3_kind_of_quality_equilibrees = data_set(\"White-Red_3_Quality_equilibre\", \"winequality-white.csv\", \"winequality-red.csv\")\n",
        "\n",
        "\n",
        "wine_white_data_2_kind_of_quality_equilibrees.print_shape()\n",
        "wine_white_data_3_kind_of_quality_equilibrees.print_shape()\n",
        "\n",
        "wine_red_data_2_kind_of_quality_equilibrees.print_shape()\n",
        "wine_red_data_3_kind_of_quality_equilibrees.print_shape()\n",
        "\n",
        "wine_combine_data_2_kind_of_quality_equilibrees.print_shape()\n",
        "wine_combine_data_3_kind_of_quality_equilibrees.print_shape()\n"
      ],
      "execution_count": 0,
      "outputs": [
        {
          "output_type": "stream",
          "text": [
            "=================== Dimensions des dataset White, Red et combine pour les cas equilibres ===============\n",
            "White_2_Quality_equilibre (4898, 12)\n",
            "White_3_Quality_equilibre (4898, 12)\n",
            "Red_2_Quality_equilibre (1599, 12)\n",
            "Red_3_Quality_equilibre (1599, 12)\n",
            "White-Red_2_Quality_equilibre (6497, 12)\n",
            "White-Red_3_Quality_equilibre (6497, 12)\n"
          ],
          "name": "stdout"
        }
      ]
    },
    {
      "metadata": {
        "colab_type": "code",
        "id": "onyUBQl5_2Bg",
        "outputId": "3bdd2566-84e9-4cd5-9a14-9a17a2edbf76",
        "colab": {
          "base_uri": "https://localhost:8080/",
          "height": 89
        }
      },
      "cell_type": "code",
      "source": [
        "print(\"================================== Dimensions des dataset White, Red et combine pour les cas desequilibres =====================\")\n",
        "wine_white_data_3_kind_of_quality_desequilibrees = data_set(\"White_3_Quality_desequilibre\", \"winequality-white.csv\")\n",
        "wine_red_data_3_kind_of_quality_desequilibrees = data_set(\"Red_3_Quality_desequilibre\", \"winequality-red.csv\")\n",
        "wine_combine_data_3_kind_of_quality_desequilibrees = data_set(\"White-Red_3_Quality_desequilibre\", \"winequality-white.csv\", \"winequality-red.csv\")\n",
        "\n",
        "wine_white_data_3_kind_of_quality_desequilibrees.print_shape()\n",
        "wine_red_data_3_kind_of_quality_desequilibrees.print_shape()\n",
        "wine_combine_data_3_kind_of_quality_desequilibrees.print_shape()"
      ],
      "execution_count": 0,
      "outputs": [
        {
          "output_type": "stream",
          "text": [
            "================================== Dimensions des dataset White, Red et combine pour les cas desequilibres =====================\n",
            "White_3_Quality_desequilibre (4898, 12)\n",
            "Red_3_Quality_desequilibre (1599, 12)\n",
            "White-Red_3_Quality_desequilibre (6497, 12)\n"
          ],
          "name": "stdout"
        }
      ]
    },
    {
      "metadata": {
        "colab_type": "text",
        "id": "bgayxaPnwT3S"
      },
      "cell_type": "markdown",
      "source": [
        "## II) Analyse exploratoire de données"
      ]
    },
    {
      "metadata": {
        "colab_type": "code",
        "id": "_HHoLwChv9IZ",
        "outputId": "183586d1-02ca-4092-d976-d1668b305764",
        "colab": {
          "base_uri": "https://localhost:8080/",
          "height": 107
        }
      },
      "cell_type": "code",
      "source": [
        "wine_white_data.print_columns_names()"
      ],
      "execution_count": 0,
      "outputs": [
        {
          "output_type": "stream",
          "text": [
            "White\n"
          ],
          "name": "stdout"
        },
        {
          "output_type": "execute_result",
          "data": {
            "text/plain": [
              "Index(['fixed acidity', 'volatile acidity', 'citric acid', 'residual sugar',\n",
              "       'chlorides', 'free sulfur dioxide', 'total sulfur dioxide', 'density',\n",
              "       'pH', 'sulphates', 'alcohol', 'quality'],\n",
              "      dtype='object')"
            ]
          },
          "metadata": {
            "tags": []
          },
          "execution_count": 54
        }
      ]
    },
    {
      "metadata": {
        "colab_type": "code",
        "id": "ZUiaSTQ0v--V",
        "outputId": "8f096f96-a54b-4a9c-d950-5f13175cc01c",
        "colab": {
          "base_uri": "https://localhost:8080/",
          "height": 107
        }
      },
      "cell_type": "code",
      "source": [
        "wine_red_data.print_columns_names()"
      ],
      "execution_count": 0,
      "outputs": [
        {
          "output_type": "stream",
          "text": [
            "Red\n"
          ],
          "name": "stdout"
        },
        {
          "output_type": "execute_result",
          "data": {
            "text/plain": [
              "Index(['fixed acidity', 'volatile acidity', 'citric acid', 'residual sugar',\n",
              "       'chlorides', 'free sulfur dioxide', 'total sulfur dioxide', 'density',\n",
              "       'pH', 'sulphates', 'alcohol', 'quality'],\n",
              "      dtype='object')"
            ]
          },
          "metadata": {
            "tags": []
          },
          "execution_count": 55
        }
      ]
    },
    {
      "metadata": {
        "colab_type": "code",
        "id": "7eLc5x3PwAOF",
        "scrolled": true,
        "outputId": "b1a2c85d-4d0f-41af-ef24-9cc0af881ae1",
        "colab": {
          "base_uri": "https://localhost:8080/",
          "height": 239
        }
      },
      "cell_type": "code",
      "source": [
        "wine_white_data.print_head()"
      ],
      "execution_count": 0,
      "outputs": [
        {
          "output_type": "stream",
          "text": [
            "White\n"
          ],
          "name": "stdout"
        },
        {
          "output_type": "execute_result",
          "data": {
            "text/html": [
              "<div>\n",
              "<style scoped>\n",
              "    .dataframe tbody tr th:only-of-type {\n",
              "        vertical-align: middle;\n",
              "    }\n",
              "\n",
              "    .dataframe tbody tr th {\n",
              "        vertical-align: top;\n",
              "    }\n",
              "\n",
              "    .dataframe thead th {\n",
              "        text-align: right;\n",
              "    }\n",
              "</style>\n",
              "<table border=\"1\" class=\"dataframe\">\n",
              "  <thead>\n",
              "    <tr style=\"text-align: right;\">\n",
              "      <th></th>\n",
              "      <th>fixed acidity</th>\n",
              "      <th>volatile acidity</th>\n",
              "      <th>citric acid</th>\n",
              "      <th>residual sugar</th>\n",
              "      <th>chlorides</th>\n",
              "      <th>free sulfur dioxide</th>\n",
              "      <th>total sulfur dioxide</th>\n",
              "      <th>density</th>\n",
              "      <th>pH</th>\n",
              "      <th>sulphates</th>\n",
              "      <th>alcohol</th>\n",
              "      <th>quality</th>\n",
              "    </tr>\n",
              "  </thead>\n",
              "  <tbody>\n",
              "    <tr>\n",
              "      <th>0</th>\n",
              "      <td>7.0</td>\n",
              "      <td>0.27</td>\n",
              "      <td>0.36</td>\n",
              "      <td>20.7</td>\n",
              "      <td>0.045</td>\n",
              "      <td>45.0</td>\n",
              "      <td>170.0</td>\n",
              "      <td>1.0010</td>\n",
              "      <td>3.00</td>\n",
              "      <td>0.45</td>\n",
              "      <td>8.8</td>\n",
              "      <td>6</td>\n",
              "    </tr>\n",
              "    <tr>\n",
              "      <th>1</th>\n",
              "      <td>6.3</td>\n",
              "      <td>0.30</td>\n",
              "      <td>0.34</td>\n",
              "      <td>1.6</td>\n",
              "      <td>0.049</td>\n",
              "      <td>14.0</td>\n",
              "      <td>132.0</td>\n",
              "      <td>0.9940</td>\n",
              "      <td>3.30</td>\n",
              "      <td>0.49</td>\n",
              "      <td>9.5</td>\n",
              "      <td>6</td>\n",
              "    </tr>\n",
              "    <tr>\n",
              "      <th>2</th>\n",
              "      <td>8.1</td>\n",
              "      <td>0.28</td>\n",
              "      <td>0.40</td>\n",
              "      <td>6.9</td>\n",
              "      <td>0.050</td>\n",
              "      <td>30.0</td>\n",
              "      <td>97.0</td>\n",
              "      <td>0.9951</td>\n",
              "      <td>3.26</td>\n",
              "      <td>0.44</td>\n",
              "      <td>10.1</td>\n",
              "      <td>6</td>\n",
              "    </tr>\n",
              "    <tr>\n",
              "      <th>3</th>\n",
              "      <td>7.2</td>\n",
              "      <td>0.23</td>\n",
              "      <td>0.32</td>\n",
              "      <td>8.5</td>\n",
              "      <td>0.058</td>\n",
              "      <td>47.0</td>\n",
              "      <td>186.0</td>\n",
              "      <td>0.9956</td>\n",
              "      <td>3.19</td>\n",
              "      <td>0.40</td>\n",
              "      <td>9.9</td>\n",
              "      <td>6</td>\n",
              "    </tr>\n",
              "    <tr>\n",
              "      <th>4</th>\n",
              "      <td>7.2</td>\n",
              "      <td>0.23</td>\n",
              "      <td>0.32</td>\n",
              "      <td>8.5</td>\n",
              "      <td>0.058</td>\n",
              "      <td>47.0</td>\n",
              "      <td>186.0</td>\n",
              "      <td>0.9956</td>\n",
              "      <td>3.19</td>\n",
              "      <td>0.40</td>\n",
              "      <td>9.9</td>\n",
              "      <td>6</td>\n",
              "    </tr>\n",
              "  </tbody>\n",
              "</table>\n",
              "</div>"
            ],
            "text/plain": [
              "   fixed acidity  volatile acidity  citric acid  residual sugar  chlorides  \\\n",
              "0            7.0              0.27         0.36            20.7      0.045   \n",
              "1            6.3              0.30         0.34             1.6      0.049   \n",
              "2            8.1              0.28         0.40             6.9      0.050   \n",
              "3            7.2              0.23         0.32             8.5      0.058   \n",
              "4            7.2              0.23         0.32             8.5      0.058   \n",
              "\n",
              "   free sulfur dioxide  total sulfur dioxide  density    pH  sulphates  \\\n",
              "0                 45.0                 170.0   1.0010  3.00       0.45   \n",
              "1                 14.0                 132.0   0.9940  3.30       0.49   \n",
              "2                 30.0                  97.0   0.9951  3.26       0.44   \n",
              "3                 47.0                 186.0   0.9956  3.19       0.40   \n",
              "4                 47.0                 186.0   0.9956  3.19       0.40   \n",
              "\n",
              "   alcohol  quality  \n",
              "0      8.8        6  \n",
              "1      9.5        6  \n",
              "2     10.1        6  \n",
              "3      9.9        6  \n",
              "4      9.9        6  "
            ]
          },
          "metadata": {
            "tags": []
          },
          "execution_count": 56
        }
      ]
    },
    {
      "metadata": {
        "colab_type": "code",
        "id": "rWBBWcRWwBxo",
        "outputId": "059dd8a2-e712-4317-eb8b-daf780d6765c",
        "colab": {
          "base_uri": "https://localhost:8080/",
          "height": 239
        }
      },
      "cell_type": "code",
      "source": [
        "wine_red_data.print_head()"
      ],
      "execution_count": 0,
      "outputs": [
        {
          "output_type": "stream",
          "text": [
            "Red\n"
          ],
          "name": "stdout"
        },
        {
          "output_type": "execute_result",
          "data": {
            "text/html": [
              "<div>\n",
              "<style scoped>\n",
              "    .dataframe tbody tr th:only-of-type {\n",
              "        vertical-align: middle;\n",
              "    }\n",
              "\n",
              "    .dataframe tbody tr th {\n",
              "        vertical-align: top;\n",
              "    }\n",
              "\n",
              "    .dataframe thead th {\n",
              "        text-align: right;\n",
              "    }\n",
              "</style>\n",
              "<table border=\"1\" class=\"dataframe\">\n",
              "  <thead>\n",
              "    <tr style=\"text-align: right;\">\n",
              "      <th></th>\n",
              "      <th>fixed acidity</th>\n",
              "      <th>volatile acidity</th>\n",
              "      <th>citric acid</th>\n",
              "      <th>residual sugar</th>\n",
              "      <th>chlorides</th>\n",
              "      <th>free sulfur dioxide</th>\n",
              "      <th>total sulfur dioxide</th>\n",
              "      <th>density</th>\n",
              "      <th>pH</th>\n",
              "      <th>sulphates</th>\n",
              "      <th>alcohol</th>\n",
              "      <th>quality</th>\n",
              "    </tr>\n",
              "  </thead>\n",
              "  <tbody>\n",
              "    <tr>\n",
              "      <th>0</th>\n",
              "      <td>7.4</td>\n",
              "      <td>0.70</td>\n",
              "      <td>0.00</td>\n",
              "      <td>1.9</td>\n",
              "      <td>0.076</td>\n",
              "      <td>11.0</td>\n",
              "      <td>34.0</td>\n",
              "      <td>0.9978</td>\n",
              "      <td>3.51</td>\n",
              "      <td>0.56</td>\n",
              "      <td>9.4</td>\n",
              "      <td>5</td>\n",
              "    </tr>\n",
              "    <tr>\n",
              "      <th>1</th>\n",
              "      <td>7.8</td>\n",
              "      <td>0.88</td>\n",
              "      <td>0.00</td>\n",
              "      <td>2.6</td>\n",
              "      <td>0.098</td>\n",
              "      <td>25.0</td>\n",
              "      <td>67.0</td>\n",
              "      <td>0.9968</td>\n",
              "      <td>3.20</td>\n",
              "      <td>0.68</td>\n",
              "      <td>9.8</td>\n",
              "      <td>5</td>\n",
              "    </tr>\n",
              "    <tr>\n",
              "      <th>2</th>\n",
              "      <td>7.8</td>\n",
              "      <td>0.76</td>\n",
              "      <td>0.04</td>\n",
              "      <td>2.3</td>\n",
              "      <td>0.092</td>\n",
              "      <td>15.0</td>\n",
              "      <td>54.0</td>\n",
              "      <td>0.9970</td>\n",
              "      <td>3.26</td>\n",
              "      <td>0.65</td>\n",
              "      <td>9.8</td>\n",
              "      <td>5</td>\n",
              "    </tr>\n",
              "    <tr>\n",
              "      <th>3</th>\n",
              "      <td>11.2</td>\n",
              "      <td>0.28</td>\n",
              "      <td>0.56</td>\n",
              "      <td>1.9</td>\n",
              "      <td>0.075</td>\n",
              "      <td>17.0</td>\n",
              "      <td>60.0</td>\n",
              "      <td>0.9980</td>\n",
              "      <td>3.16</td>\n",
              "      <td>0.58</td>\n",
              "      <td>9.8</td>\n",
              "      <td>6</td>\n",
              "    </tr>\n",
              "    <tr>\n",
              "      <th>4</th>\n",
              "      <td>7.4</td>\n",
              "      <td>0.70</td>\n",
              "      <td>0.00</td>\n",
              "      <td>1.9</td>\n",
              "      <td>0.076</td>\n",
              "      <td>11.0</td>\n",
              "      <td>34.0</td>\n",
              "      <td>0.9978</td>\n",
              "      <td>3.51</td>\n",
              "      <td>0.56</td>\n",
              "      <td>9.4</td>\n",
              "      <td>5</td>\n",
              "    </tr>\n",
              "  </tbody>\n",
              "</table>\n",
              "</div>"
            ],
            "text/plain": [
              "   fixed acidity  volatile acidity  citric acid  residual sugar  chlorides  \\\n",
              "0            7.4              0.70         0.00             1.9      0.076   \n",
              "1            7.8              0.88         0.00             2.6      0.098   \n",
              "2            7.8              0.76         0.04             2.3      0.092   \n",
              "3           11.2              0.28         0.56             1.9      0.075   \n",
              "4            7.4              0.70         0.00             1.9      0.076   \n",
              "\n",
              "   free sulfur dioxide  total sulfur dioxide  density    pH  sulphates  \\\n",
              "0                 11.0                  34.0   0.9978  3.51       0.56   \n",
              "1                 25.0                  67.0   0.9968  3.20       0.68   \n",
              "2                 15.0                  54.0   0.9970  3.26       0.65   \n",
              "3                 17.0                  60.0   0.9980  3.16       0.58   \n",
              "4                 11.0                  34.0   0.9978  3.51       0.56   \n",
              "\n",
              "   alcohol  quality  \n",
              "0      9.4        5  \n",
              "1      9.8        5  \n",
              "2      9.8        5  \n",
              "3      9.8        6  \n",
              "4      9.4        5  "
            ]
          },
          "metadata": {
            "tags": []
          },
          "execution_count": 57
        }
      ]
    },
    {
      "metadata": {
        "id": "0NT35bwq9Zl-",
        "colab_type": "code",
        "outputId": "fa1384af-ef4f-4d50-a342-ebd71903a226",
        "colab": {
          "base_uri": "https://localhost:8080/",
          "height": 239
        }
      },
      "cell_type": "code",
      "source": [
        "wine_combine_data.print_head()"
      ],
      "execution_count": 0,
      "outputs": [
        {
          "output_type": "stream",
          "text": [
            "White-Red\n"
          ],
          "name": "stdout"
        },
        {
          "output_type": "execute_result",
          "data": {
            "text/html": [
              "<div>\n",
              "<style scoped>\n",
              "    .dataframe tbody tr th:only-of-type {\n",
              "        vertical-align: middle;\n",
              "    }\n",
              "\n",
              "    .dataframe tbody tr th {\n",
              "        vertical-align: top;\n",
              "    }\n",
              "\n",
              "    .dataframe thead th {\n",
              "        text-align: right;\n",
              "    }\n",
              "</style>\n",
              "<table border=\"1\" class=\"dataframe\">\n",
              "  <thead>\n",
              "    <tr style=\"text-align: right;\">\n",
              "      <th></th>\n",
              "      <th>fixed acidity</th>\n",
              "      <th>volatile acidity</th>\n",
              "      <th>citric acid</th>\n",
              "      <th>residual sugar</th>\n",
              "      <th>chlorides</th>\n",
              "      <th>free sulfur dioxide</th>\n",
              "      <th>total sulfur dioxide</th>\n",
              "      <th>density</th>\n",
              "      <th>pH</th>\n",
              "      <th>sulphates</th>\n",
              "      <th>alcohol</th>\n",
              "      <th>quality</th>\n",
              "    </tr>\n",
              "  </thead>\n",
              "  <tbody>\n",
              "    <tr>\n",
              "      <th>0</th>\n",
              "      <td>7.0</td>\n",
              "      <td>0.27</td>\n",
              "      <td>0.36</td>\n",
              "      <td>20.7</td>\n",
              "      <td>0.045</td>\n",
              "      <td>45.0</td>\n",
              "      <td>170.0</td>\n",
              "      <td>1.0010</td>\n",
              "      <td>3.00</td>\n",
              "      <td>0.45</td>\n",
              "      <td>8.8</td>\n",
              "      <td>6</td>\n",
              "    </tr>\n",
              "    <tr>\n",
              "      <th>1</th>\n",
              "      <td>6.3</td>\n",
              "      <td>0.30</td>\n",
              "      <td>0.34</td>\n",
              "      <td>1.6</td>\n",
              "      <td>0.049</td>\n",
              "      <td>14.0</td>\n",
              "      <td>132.0</td>\n",
              "      <td>0.9940</td>\n",
              "      <td>3.30</td>\n",
              "      <td>0.49</td>\n",
              "      <td>9.5</td>\n",
              "      <td>6</td>\n",
              "    </tr>\n",
              "    <tr>\n",
              "      <th>2</th>\n",
              "      <td>8.1</td>\n",
              "      <td>0.28</td>\n",
              "      <td>0.40</td>\n",
              "      <td>6.9</td>\n",
              "      <td>0.050</td>\n",
              "      <td>30.0</td>\n",
              "      <td>97.0</td>\n",
              "      <td>0.9951</td>\n",
              "      <td>3.26</td>\n",
              "      <td>0.44</td>\n",
              "      <td>10.1</td>\n",
              "      <td>6</td>\n",
              "    </tr>\n",
              "    <tr>\n",
              "      <th>3</th>\n",
              "      <td>7.2</td>\n",
              "      <td>0.23</td>\n",
              "      <td>0.32</td>\n",
              "      <td>8.5</td>\n",
              "      <td>0.058</td>\n",
              "      <td>47.0</td>\n",
              "      <td>186.0</td>\n",
              "      <td>0.9956</td>\n",
              "      <td>3.19</td>\n",
              "      <td>0.40</td>\n",
              "      <td>9.9</td>\n",
              "      <td>6</td>\n",
              "    </tr>\n",
              "    <tr>\n",
              "      <th>4</th>\n",
              "      <td>7.2</td>\n",
              "      <td>0.23</td>\n",
              "      <td>0.32</td>\n",
              "      <td>8.5</td>\n",
              "      <td>0.058</td>\n",
              "      <td>47.0</td>\n",
              "      <td>186.0</td>\n",
              "      <td>0.9956</td>\n",
              "      <td>3.19</td>\n",
              "      <td>0.40</td>\n",
              "      <td>9.9</td>\n",
              "      <td>6</td>\n",
              "    </tr>\n",
              "  </tbody>\n",
              "</table>\n",
              "</div>"
            ],
            "text/plain": [
              "   fixed acidity  volatile acidity  citric acid  residual sugar  chlorides  \\\n",
              "0            7.0              0.27         0.36            20.7      0.045   \n",
              "1            6.3              0.30         0.34             1.6      0.049   \n",
              "2            8.1              0.28         0.40             6.9      0.050   \n",
              "3            7.2              0.23         0.32             8.5      0.058   \n",
              "4            7.2              0.23         0.32             8.5      0.058   \n",
              "\n",
              "   free sulfur dioxide  total sulfur dioxide  density    pH  sulphates  \\\n",
              "0                 45.0                 170.0   1.0010  3.00       0.45   \n",
              "1                 14.0                 132.0   0.9940  3.30       0.49   \n",
              "2                 30.0                  97.0   0.9951  3.26       0.44   \n",
              "3                 47.0                 186.0   0.9956  3.19       0.40   \n",
              "4                 47.0                 186.0   0.9956  3.19       0.40   \n",
              "\n",
              "   alcohol  quality  \n",
              "0      8.8        6  \n",
              "1      9.5        6  \n",
              "2     10.1        6  \n",
              "3      9.9        6  \n",
              "4      9.9        6  "
            ]
          },
          "metadata": {
            "tags": []
          },
          "execution_count": 58
        }
      ]
    },
    {
      "metadata": {
        "colab_type": "code",
        "id": "iTmoM8dHwDKy",
        "outputId": "e4064551-b8d5-47e2-b453-7ba12c714ed6",
        "colab": {
          "base_uri": "https://localhost:8080/",
          "height": 349
        }
      },
      "cell_type": "code",
      "source": [
        "wine_white_data.print_describe_stats_of_data()"
      ],
      "execution_count": 0,
      "outputs": [
        {
          "output_type": "stream",
          "text": [
            "White\n"
          ],
          "name": "stdout"
        },
        {
          "output_type": "execute_result",
          "data": {
            "text/html": [
              "<div>\n",
              "<style scoped>\n",
              "    .dataframe tbody tr th:only-of-type {\n",
              "        vertical-align: middle;\n",
              "    }\n",
              "\n",
              "    .dataframe tbody tr th {\n",
              "        vertical-align: top;\n",
              "    }\n",
              "\n",
              "    .dataframe thead th {\n",
              "        text-align: right;\n",
              "    }\n",
              "</style>\n",
              "<table border=\"1\" class=\"dataframe\">\n",
              "  <thead>\n",
              "    <tr style=\"text-align: right;\">\n",
              "      <th></th>\n",
              "      <th>fixed acidity</th>\n",
              "      <th>volatile acidity</th>\n",
              "      <th>citric acid</th>\n",
              "      <th>residual sugar</th>\n",
              "      <th>chlorides</th>\n",
              "      <th>free sulfur dioxide</th>\n",
              "      <th>total sulfur dioxide</th>\n",
              "      <th>density</th>\n",
              "      <th>pH</th>\n",
              "      <th>sulphates</th>\n",
              "      <th>alcohol</th>\n",
              "      <th>quality</th>\n",
              "    </tr>\n",
              "  </thead>\n",
              "  <tbody>\n",
              "    <tr>\n",
              "      <th>count</th>\n",
              "      <td>4898.000000</td>\n",
              "      <td>4898.000000</td>\n",
              "      <td>4898.000000</td>\n",
              "      <td>4898.000000</td>\n",
              "      <td>4898.000000</td>\n",
              "      <td>4898.000000</td>\n",
              "      <td>4898.000000</td>\n",
              "      <td>4898.000000</td>\n",
              "      <td>4898.000000</td>\n",
              "      <td>4898.000000</td>\n",
              "      <td>4898.000000</td>\n",
              "      <td>4898.000000</td>\n",
              "    </tr>\n",
              "    <tr>\n",
              "      <th>mean</th>\n",
              "      <td>6.854788</td>\n",
              "      <td>0.278241</td>\n",
              "      <td>0.334192</td>\n",
              "      <td>6.391415</td>\n",
              "      <td>0.045772</td>\n",
              "      <td>35.308085</td>\n",
              "      <td>138.360657</td>\n",
              "      <td>0.994027</td>\n",
              "      <td>3.188267</td>\n",
              "      <td>0.489847</td>\n",
              "      <td>10.514267</td>\n",
              "      <td>5.877909</td>\n",
              "    </tr>\n",
              "    <tr>\n",
              "      <th>std</th>\n",
              "      <td>0.843868</td>\n",
              "      <td>0.100795</td>\n",
              "      <td>0.121020</td>\n",
              "      <td>5.072058</td>\n",
              "      <td>0.021848</td>\n",
              "      <td>17.007137</td>\n",
              "      <td>42.498065</td>\n",
              "      <td>0.002991</td>\n",
              "      <td>0.151001</td>\n",
              "      <td>0.114126</td>\n",
              "      <td>1.230621</td>\n",
              "      <td>0.885639</td>\n",
              "    </tr>\n",
              "    <tr>\n",
              "      <th>min</th>\n",
              "      <td>3.800000</td>\n",
              "      <td>0.080000</td>\n",
              "      <td>0.000000</td>\n",
              "      <td>0.600000</td>\n",
              "      <td>0.009000</td>\n",
              "      <td>2.000000</td>\n",
              "      <td>9.000000</td>\n",
              "      <td>0.987110</td>\n",
              "      <td>2.720000</td>\n",
              "      <td>0.220000</td>\n",
              "      <td>8.000000</td>\n",
              "      <td>3.000000</td>\n",
              "    </tr>\n",
              "    <tr>\n",
              "      <th>25%</th>\n",
              "      <td>6.300000</td>\n",
              "      <td>0.210000</td>\n",
              "      <td>0.270000</td>\n",
              "      <td>1.700000</td>\n",
              "      <td>0.036000</td>\n",
              "      <td>23.000000</td>\n",
              "      <td>108.000000</td>\n",
              "      <td>0.991723</td>\n",
              "      <td>3.090000</td>\n",
              "      <td>0.410000</td>\n",
              "      <td>9.500000</td>\n",
              "      <td>5.000000</td>\n",
              "    </tr>\n",
              "    <tr>\n",
              "      <th>50%</th>\n",
              "      <td>6.800000</td>\n",
              "      <td>0.260000</td>\n",
              "      <td>0.320000</td>\n",
              "      <td>5.200000</td>\n",
              "      <td>0.043000</td>\n",
              "      <td>34.000000</td>\n",
              "      <td>134.000000</td>\n",
              "      <td>0.993740</td>\n",
              "      <td>3.180000</td>\n",
              "      <td>0.470000</td>\n",
              "      <td>10.400000</td>\n",
              "      <td>6.000000</td>\n",
              "    </tr>\n",
              "    <tr>\n",
              "      <th>75%</th>\n",
              "      <td>7.300000</td>\n",
              "      <td>0.320000</td>\n",
              "      <td>0.390000</td>\n",
              "      <td>9.900000</td>\n",
              "      <td>0.050000</td>\n",
              "      <td>46.000000</td>\n",
              "      <td>167.000000</td>\n",
              "      <td>0.996100</td>\n",
              "      <td>3.280000</td>\n",
              "      <td>0.550000</td>\n",
              "      <td>11.400000</td>\n",
              "      <td>6.000000</td>\n",
              "    </tr>\n",
              "    <tr>\n",
              "      <th>max</th>\n",
              "      <td>14.200000</td>\n",
              "      <td>1.100000</td>\n",
              "      <td>1.660000</td>\n",
              "      <td>65.800000</td>\n",
              "      <td>0.346000</td>\n",
              "      <td>289.000000</td>\n",
              "      <td>440.000000</td>\n",
              "      <td>1.038980</td>\n",
              "      <td>3.820000</td>\n",
              "      <td>1.080000</td>\n",
              "      <td>14.200000</td>\n",
              "      <td>9.000000</td>\n",
              "    </tr>\n",
              "  </tbody>\n",
              "</table>\n",
              "</div>"
            ],
            "text/plain": [
              "       fixed acidity  volatile acidity  citric acid  residual sugar  \\\n",
              "count    4898.000000       4898.000000  4898.000000     4898.000000   \n",
              "mean        6.854788          0.278241     0.334192        6.391415   \n",
              "std         0.843868          0.100795     0.121020        5.072058   \n",
              "min         3.800000          0.080000     0.000000        0.600000   \n",
              "25%         6.300000          0.210000     0.270000        1.700000   \n",
              "50%         6.800000          0.260000     0.320000        5.200000   \n",
              "75%         7.300000          0.320000     0.390000        9.900000   \n",
              "max        14.200000          1.100000     1.660000       65.800000   \n",
              "\n",
              "         chlorides  free sulfur dioxide  total sulfur dioxide      density  \\\n",
              "count  4898.000000          4898.000000           4898.000000  4898.000000   \n",
              "mean      0.045772            35.308085            138.360657     0.994027   \n",
              "std       0.021848            17.007137             42.498065     0.002991   \n",
              "min       0.009000             2.000000              9.000000     0.987110   \n",
              "25%       0.036000            23.000000            108.000000     0.991723   \n",
              "50%       0.043000            34.000000            134.000000     0.993740   \n",
              "75%       0.050000            46.000000            167.000000     0.996100   \n",
              "max       0.346000           289.000000            440.000000     1.038980   \n",
              "\n",
              "                pH    sulphates      alcohol      quality  \n",
              "count  4898.000000  4898.000000  4898.000000  4898.000000  \n",
              "mean      3.188267     0.489847    10.514267     5.877909  \n",
              "std       0.151001     0.114126     1.230621     0.885639  \n",
              "min       2.720000     0.220000     8.000000     3.000000  \n",
              "25%       3.090000     0.410000     9.500000     5.000000  \n",
              "50%       3.180000     0.470000    10.400000     6.000000  \n",
              "75%       3.280000     0.550000    11.400000     6.000000  \n",
              "max       3.820000     1.080000    14.200000     9.000000  "
            ]
          },
          "metadata": {
            "tags": []
          },
          "execution_count": 59
        }
      ]
    },
    {
      "metadata": {
        "colab_type": "code",
        "id": "6OMeR5FjwEr4",
        "outputId": "4b94b2ac-da32-43b8-82f3-53e58280899c",
        "colab": {
          "base_uri": "https://localhost:8080/",
          "height": 349
        }
      },
      "cell_type": "code",
      "source": [
        "wine_red_data.print_describe_stats_of_data()"
      ],
      "execution_count": 0,
      "outputs": [
        {
          "output_type": "stream",
          "text": [
            "Red\n"
          ],
          "name": "stdout"
        },
        {
          "output_type": "execute_result",
          "data": {
            "text/html": [
              "<div>\n",
              "<style scoped>\n",
              "    .dataframe tbody tr th:only-of-type {\n",
              "        vertical-align: middle;\n",
              "    }\n",
              "\n",
              "    .dataframe tbody tr th {\n",
              "        vertical-align: top;\n",
              "    }\n",
              "\n",
              "    .dataframe thead th {\n",
              "        text-align: right;\n",
              "    }\n",
              "</style>\n",
              "<table border=\"1\" class=\"dataframe\">\n",
              "  <thead>\n",
              "    <tr style=\"text-align: right;\">\n",
              "      <th></th>\n",
              "      <th>fixed acidity</th>\n",
              "      <th>volatile acidity</th>\n",
              "      <th>citric acid</th>\n",
              "      <th>residual sugar</th>\n",
              "      <th>chlorides</th>\n",
              "      <th>free sulfur dioxide</th>\n",
              "      <th>total sulfur dioxide</th>\n",
              "      <th>density</th>\n",
              "      <th>pH</th>\n",
              "      <th>sulphates</th>\n",
              "      <th>alcohol</th>\n",
              "      <th>quality</th>\n",
              "    </tr>\n",
              "  </thead>\n",
              "  <tbody>\n",
              "    <tr>\n",
              "      <th>count</th>\n",
              "      <td>1599.000000</td>\n",
              "      <td>1599.000000</td>\n",
              "      <td>1599.000000</td>\n",
              "      <td>1599.000000</td>\n",
              "      <td>1599.000000</td>\n",
              "      <td>1599.000000</td>\n",
              "      <td>1599.000000</td>\n",
              "      <td>1599.000000</td>\n",
              "      <td>1599.000000</td>\n",
              "      <td>1599.000000</td>\n",
              "      <td>1599.000000</td>\n",
              "      <td>1599.000000</td>\n",
              "    </tr>\n",
              "    <tr>\n",
              "      <th>mean</th>\n",
              "      <td>8.319637</td>\n",
              "      <td>0.527821</td>\n",
              "      <td>0.270976</td>\n",
              "      <td>2.538806</td>\n",
              "      <td>0.087467</td>\n",
              "      <td>15.874922</td>\n",
              "      <td>46.467792</td>\n",
              "      <td>0.996747</td>\n",
              "      <td>3.311113</td>\n",
              "      <td>0.658149</td>\n",
              "      <td>10.422983</td>\n",
              "      <td>5.636023</td>\n",
              "    </tr>\n",
              "    <tr>\n",
              "      <th>std</th>\n",
              "      <td>1.741096</td>\n",
              "      <td>0.179060</td>\n",
              "      <td>0.194801</td>\n",
              "      <td>1.409928</td>\n",
              "      <td>0.047065</td>\n",
              "      <td>10.460157</td>\n",
              "      <td>32.895324</td>\n",
              "      <td>0.001887</td>\n",
              "      <td>0.154386</td>\n",
              "      <td>0.169507</td>\n",
              "      <td>1.065668</td>\n",
              "      <td>0.807569</td>\n",
              "    </tr>\n",
              "    <tr>\n",
              "      <th>min</th>\n",
              "      <td>4.600000</td>\n",
              "      <td>0.120000</td>\n",
              "      <td>0.000000</td>\n",
              "      <td>0.900000</td>\n",
              "      <td>0.012000</td>\n",
              "      <td>1.000000</td>\n",
              "      <td>6.000000</td>\n",
              "      <td>0.990070</td>\n",
              "      <td>2.740000</td>\n",
              "      <td>0.330000</td>\n",
              "      <td>8.400000</td>\n",
              "      <td>3.000000</td>\n",
              "    </tr>\n",
              "    <tr>\n",
              "      <th>25%</th>\n",
              "      <td>7.100000</td>\n",
              "      <td>0.390000</td>\n",
              "      <td>0.090000</td>\n",
              "      <td>1.900000</td>\n",
              "      <td>0.070000</td>\n",
              "      <td>7.000000</td>\n",
              "      <td>22.000000</td>\n",
              "      <td>0.995600</td>\n",
              "      <td>3.210000</td>\n",
              "      <td>0.550000</td>\n",
              "      <td>9.500000</td>\n",
              "      <td>5.000000</td>\n",
              "    </tr>\n",
              "    <tr>\n",
              "      <th>50%</th>\n",
              "      <td>7.900000</td>\n",
              "      <td>0.520000</td>\n",
              "      <td>0.260000</td>\n",
              "      <td>2.200000</td>\n",
              "      <td>0.079000</td>\n",
              "      <td>14.000000</td>\n",
              "      <td>38.000000</td>\n",
              "      <td>0.996750</td>\n",
              "      <td>3.310000</td>\n",
              "      <td>0.620000</td>\n",
              "      <td>10.200000</td>\n",
              "      <td>6.000000</td>\n",
              "    </tr>\n",
              "    <tr>\n",
              "      <th>75%</th>\n",
              "      <td>9.200000</td>\n",
              "      <td>0.640000</td>\n",
              "      <td>0.420000</td>\n",
              "      <td>2.600000</td>\n",
              "      <td>0.090000</td>\n",
              "      <td>21.000000</td>\n",
              "      <td>62.000000</td>\n",
              "      <td>0.997835</td>\n",
              "      <td>3.400000</td>\n",
              "      <td>0.730000</td>\n",
              "      <td>11.100000</td>\n",
              "      <td>6.000000</td>\n",
              "    </tr>\n",
              "    <tr>\n",
              "      <th>max</th>\n",
              "      <td>15.900000</td>\n",
              "      <td>1.580000</td>\n",
              "      <td>1.000000</td>\n",
              "      <td>15.500000</td>\n",
              "      <td>0.611000</td>\n",
              "      <td>72.000000</td>\n",
              "      <td>289.000000</td>\n",
              "      <td>1.003690</td>\n",
              "      <td>4.010000</td>\n",
              "      <td>2.000000</td>\n",
              "      <td>14.900000</td>\n",
              "      <td>8.000000</td>\n",
              "    </tr>\n",
              "  </tbody>\n",
              "</table>\n",
              "</div>"
            ],
            "text/plain": [
              "       fixed acidity  volatile acidity  citric acid  residual sugar  \\\n",
              "count    1599.000000       1599.000000  1599.000000     1599.000000   \n",
              "mean        8.319637          0.527821     0.270976        2.538806   \n",
              "std         1.741096          0.179060     0.194801        1.409928   \n",
              "min         4.600000          0.120000     0.000000        0.900000   \n",
              "25%         7.100000          0.390000     0.090000        1.900000   \n",
              "50%         7.900000          0.520000     0.260000        2.200000   \n",
              "75%         9.200000          0.640000     0.420000        2.600000   \n",
              "max        15.900000          1.580000     1.000000       15.500000   \n",
              "\n",
              "         chlorides  free sulfur dioxide  total sulfur dioxide      density  \\\n",
              "count  1599.000000          1599.000000           1599.000000  1599.000000   \n",
              "mean      0.087467            15.874922             46.467792     0.996747   \n",
              "std       0.047065            10.460157             32.895324     0.001887   \n",
              "min       0.012000             1.000000              6.000000     0.990070   \n",
              "25%       0.070000             7.000000             22.000000     0.995600   \n",
              "50%       0.079000            14.000000             38.000000     0.996750   \n",
              "75%       0.090000            21.000000             62.000000     0.997835   \n",
              "max       0.611000            72.000000            289.000000     1.003690   \n",
              "\n",
              "                pH    sulphates      alcohol      quality  \n",
              "count  1599.000000  1599.000000  1599.000000  1599.000000  \n",
              "mean      3.311113     0.658149    10.422983     5.636023  \n",
              "std       0.154386     0.169507     1.065668     0.807569  \n",
              "min       2.740000     0.330000     8.400000     3.000000  \n",
              "25%       3.210000     0.550000     9.500000     5.000000  \n",
              "50%       3.310000     0.620000    10.200000     6.000000  \n",
              "75%       3.400000     0.730000    11.100000     6.000000  \n",
              "max       4.010000     2.000000    14.900000     8.000000  "
            ]
          },
          "metadata": {
            "tags": []
          },
          "execution_count": 60
        }
      ]
    },
    {
      "metadata": {
        "colab_type": "code",
        "id": "VTfcwqgMY3yb",
        "outputId": "3f5d3bdd-6dba-4c64-9365-abb627ebade9",
        "colab": {
          "base_uri": "https://localhost:8080/",
          "height": 349
        }
      },
      "cell_type": "code",
      "source": [
        "wine_combine_data.print_describe_stats_of_data()"
      ],
      "execution_count": 0,
      "outputs": [
        {
          "output_type": "stream",
          "text": [
            "White-Red\n"
          ],
          "name": "stdout"
        },
        {
          "output_type": "execute_result",
          "data": {
            "text/html": [
              "<div>\n",
              "<style scoped>\n",
              "    .dataframe tbody tr th:only-of-type {\n",
              "        vertical-align: middle;\n",
              "    }\n",
              "\n",
              "    .dataframe tbody tr th {\n",
              "        vertical-align: top;\n",
              "    }\n",
              "\n",
              "    .dataframe thead th {\n",
              "        text-align: right;\n",
              "    }\n",
              "</style>\n",
              "<table border=\"1\" class=\"dataframe\">\n",
              "  <thead>\n",
              "    <tr style=\"text-align: right;\">\n",
              "      <th></th>\n",
              "      <th>fixed acidity</th>\n",
              "      <th>volatile acidity</th>\n",
              "      <th>citric acid</th>\n",
              "      <th>residual sugar</th>\n",
              "      <th>chlorides</th>\n",
              "      <th>free sulfur dioxide</th>\n",
              "      <th>total sulfur dioxide</th>\n",
              "      <th>density</th>\n",
              "      <th>pH</th>\n",
              "      <th>sulphates</th>\n",
              "      <th>alcohol</th>\n",
              "      <th>quality</th>\n",
              "    </tr>\n",
              "  </thead>\n",
              "  <tbody>\n",
              "    <tr>\n",
              "      <th>count</th>\n",
              "      <td>6497.000000</td>\n",
              "      <td>6497.000000</td>\n",
              "      <td>6497.000000</td>\n",
              "      <td>6497.000000</td>\n",
              "      <td>6497.000000</td>\n",
              "      <td>6497.000000</td>\n",
              "      <td>6497.000000</td>\n",
              "      <td>6497.000000</td>\n",
              "      <td>6497.000000</td>\n",
              "      <td>6497.000000</td>\n",
              "      <td>6497.000000</td>\n",
              "      <td>6497.000000</td>\n",
              "    </tr>\n",
              "    <tr>\n",
              "      <th>mean</th>\n",
              "      <td>7.215307</td>\n",
              "      <td>0.339666</td>\n",
              "      <td>0.318633</td>\n",
              "      <td>5.443235</td>\n",
              "      <td>0.056034</td>\n",
              "      <td>30.525319</td>\n",
              "      <td>115.744574</td>\n",
              "      <td>0.994697</td>\n",
              "      <td>3.218501</td>\n",
              "      <td>0.531268</td>\n",
              "      <td>10.491801</td>\n",
              "      <td>5.818378</td>\n",
              "    </tr>\n",
              "    <tr>\n",
              "      <th>std</th>\n",
              "      <td>1.296434</td>\n",
              "      <td>0.164636</td>\n",
              "      <td>0.145318</td>\n",
              "      <td>4.757804</td>\n",
              "      <td>0.035034</td>\n",
              "      <td>17.749400</td>\n",
              "      <td>56.521855</td>\n",
              "      <td>0.002999</td>\n",
              "      <td>0.160787</td>\n",
              "      <td>0.148806</td>\n",
              "      <td>1.192712</td>\n",
              "      <td>0.873255</td>\n",
              "    </tr>\n",
              "    <tr>\n",
              "      <th>min</th>\n",
              "      <td>3.800000</td>\n",
              "      <td>0.080000</td>\n",
              "      <td>0.000000</td>\n",
              "      <td>0.600000</td>\n",
              "      <td>0.009000</td>\n",
              "      <td>1.000000</td>\n",
              "      <td>6.000000</td>\n",
              "      <td>0.987110</td>\n",
              "      <td>2.720000</td>\n",
              "      <td>0.220000</td>\n",
              "      <td>8.000000</td>\n",
              "      <td>3.000000</td>\n",
              "    </tr>\n",
              "    <tr>\n",
              "      <th>25%</th>\n",
              "      <td>6.400000</td>\n",
              "      <td>0.230000</td>\n",
              "      <td>0.250000</td>\n",
              "      <td>1.800000</td>\n",
              "      <td>0.038000</td>\n",
              "      <td>17.000000</td>\n",
              "      <td>77.000000</td>\n",
              "      <td>0.992340</td>\n",
              "      <td>3.110000</td>\n",
              "      <td>0.430000</td>\n",
              "      <td>9.500000</td>\n",
              "      <td>5.000000</td>\n",
              "    </tr>\n",
              "    <tr>\n",
              "      <th>50%</th>\n",
              "      <td>7.000000</td>\n",
              "      <td>0.290000</td>\n",
              "      <td>0.310000</td>\n",
              "      <td>3.000000</td>\n",
              "      <td>0.047000</td>\n",
              "      <td>29.000000</td>\n",
              "      <td>118.000000</td>\n",
              "      <td>0.994890</td>\n",
              "      <td>3.210000</td>\n",
              "      <td>0.510000</td>\n",
              "      <td>10.300000</td>\n",
              "      <td>6.000000</td>\n",
              "    </tr>\n",
              "    <tr>\n",
              "      <th>75%</th>\n",
              "      <td>7.700000</td>\n",
              "      <td>0.400000</td>\n",
              "      <td>0.390000</td>\n",
              "      <td>8.100000</td>\n",
              "      <td>0.065000</td>\n",
              "      <td>41.000000</td>\n",
              "      <td>156.000000</td>\n",
              "      <td>0.996990</td>\n",
              "      <td>3.320000</td>\n",
              "      <td>0.600000</td>\n",
              "      <td>11.300000</td>\n",
              "      <td>6.000000</td>\n",
              "    </tr>\n",
              "    <tr>\n",
              "      <th>max</th>\n",
              "      <td>15.900000</td>\n",
              "      <td>1.580000</td>\n",
              "      <td>1.660000</td>\n",
              "      <td>65.800000</td>\n",
              "      <td>0.611000</td>\n",
              "      <td>289.000000</td>\n",
              "      <td>440.000000</td>\n",
              "      <td>1.038980</td>\n",
              "      <td>4.010000</td>\n",
              "      <td>2.000000</td>\n",
              "      <td>14.900000</td>\n",
              "      <td>9.000000</td>\n",
              "    </tr>\n",
              "  </tbody>\n",
              "</table>\n",
              "</div>"
            ],
            "text/plain": [
              "       fixed acidity  volatile acidity  citric acid  residual sugar  \\\n",
              "count    6497.000000       6497.000000  6497.000000     6497.000000   \n",
              "mean        7.215307          0.339666     0.318633        5.443235   \n",
              "std         1.296434          0.164636     0.145318        4.757804   \n",
              "min         3.800000          0.080000     0.000000        0.600000   \n",
              "25%         6.400000          0.230000     0.250000        1.800000   \n",
              "50%         7.000000          0.290000     0.310000        3.000000   \n",
              "75%         7.700000          0.400000     0.390000        8.100000   \n",
              "max        15.900000          1.580000     1.660000       65.800000   \n",
              "\n",
              "         chlorides  free sulfur dioxide  total sulfur dioxide      density  \\\n",
              "count  6497.000000          6497.000000           6497.000000  6497.000000   \n",
              "mean      0.056034            30.525319            115.744574     0.994697   \n",
              "std       0.035034            17.749400             56.521855     0.002999   \n",
              "min       0.009000             1.000000              6.000000     0.987110   \n",
              "25%       0.038000            17.000000             77.000000     0.992340   \n",
              "50%       0.047000            29.000000            118.000000     0.994890   \n",
              "75%       0.065000            41.000000            156.000000     0.996990   \n",
              "max       0.611000           289.000000            440.000000     1.038980   \n",
              "\n",
              "                pH    sulphates      alcohol      quality  \n",
              "count  6497.000000  6497.000000  6497.000000  6497.000000  \n",
              "mean      3.218501     0.531268    10.491801     5.818378  \n",
              "std       0.160787     0.148806     1.192712     0.873255  \n",
              "min       2.720000     0.220000     8.000000     3.000000  \n",
              "25%       3.110000     0.430000     9.500000     5.000000  \n",
              "50%       3.210000     0.510000    10.300000     6.000000  \n",
              "75%       3.320000     0.600000    11.300000     6.000000  \n",
              "max       4.010000     2.000000    14.900000     9.000000  "
            ]
          },
          "metadata": {
            "tags": []
          },
          "execution_count": 61
        }
      ]
    },
    {
      "metadata": {
        "colab_type": "code",
        "id": "3omTHnGNwG81",
        "outputId": "e9ed91a1-52be-4049-dc02-321121000c36",
        "colab": {
          "base_uri": "https://localhost:8080/",
          "height": 179
        }
      },
      "cell_type": "code",
      "source": [
        "wine_white_data.print_count_occurences_by_target_variable()"
      ],
      "execution_count": 0,
      "outputs": [
        {
          "output_type": "stream",
          "text": [
            "White\n",
            " 6    2198\n",
            "5    1457\n",
            "7     880\n",
            "8     175\n",
            "4     163\n",
            "3      20\n",
            "9       5\n",
            "Name: quality, dtype: int64\n"
          ],
          "name": "stdout"
        }
      ]
    },
    {
      "metadata": {
        "colab_type": "code",
        "id": "bP_IKblNwG28",
        "outputId": "3c74710c-661c-4b64-9d19-645b2592bed3",
        "colab": {
          "base_uri": "https://localhost:8080/",
          "height": 161
        }
      },
      "cell_type": "code",
      "source": [
        "wine_red_data.print_count_occurences_by_target_variable()"
      ],
      "execution_count": 0,
      "outputs": [
        {
          "output_type": "stream",
          "text": [
            "Red\n",
            " 5    681\n",
            "6    638\n",
            "7    199\n",
            "4     53\n",
            "8     18\n",
            "3     10\n",
            "Name: quality, dtype: int64\n"
          ],
          "name": "stdout"
        }
      ]
    },
    {
      "metadata": {
        "colab_type": "code",
        "id": "5SHW7ZVWZBIw",
        "outputId": "64914f20-6048-4fce-d4d1-8f6fcc856a35",
        "colab": {
          "base_uri": "https://localhost:8080/",
          "height": 179
        }
      },
      "cell_type": "code",
      "source": [
        "wine_combine_data.print_count_occurences_by_target_variable()"
      ],
      "execution_count": 0,
      "outputs": [
        {
          "output_type": "stream",
          "text": [
            "White-Red\n",
            " 6    2836\n",
            "5    2138\n",
            "7    1079\n",
            "4     216\n",
            "8     193\n",
            "3      30\n",
            "9       5\n",
            "Name: quality, dtype: int64\n"
          ],
          "name": "stdout"
        }
      ]
    },
    {
      "metadata": {
        "colab_type": "text",
        "id": "BaoHGiVmVqB3"
      },
      "cell_type": "markdown",
      "source": [
        "### II.a) Y-a-t-il des valeurs manquantes ?"
      ]
    },
    {
      "metadata": {
        "id": "LIfdxPFE9Zmi",
        "colab_type": "code",
        "outputId": "0a7b997b-8ebf-48af-b6a7-75d35fb5d52d",
        "colab": {
          "base_uri": "https://localhost:8080/",
          "height": 197
        }
      },
      "cell_type": "code",
      "source": [
        "wine_white_data_2_kind_of_quality_equilibrees.convert_ylabel_into_k_categories_equilibre(2)\n",
        "wine_white_data_3_kind_of_quality_equilibrees.convert_ylabel_into_k_categories_equilibre(3)"
      ],
      "execution_count": 0,
      "outputs": [
        {
          "output_type": "stream",
          "text": [
            "{0: 1640, 1: 3258}\n",
            "label_of_minor_class : 0 size_of_minor_class 1640\n",
            "=============== New shape of White_2_Quality_equilibre Data after split=============\n",
            "(3280, 11)\n",
            "(3280,)\n",
            "{0: 1640, 1: 2198, 2: 1060}\n",
            "label_of_minor_class : 2 size_of_minor_class 1060\n",
            "=============== New shape of White_3_Quality_equilibre Data after split=============\n",
            "(3180, 11)\n",
            "(3180,)\n"
          ],
          "name": "stdout"
        }
      ]
    },
    {
      "metadata": {
        "id": "1jIrdD0_9Zmm",
        "colab_type": "code",
        "outputId": "d1fd34f8-1d6a-46b3-f69e-f6b64f6d99dc",
        "colab": {
          "base_uri": "https://localhost:8080/",
          "height": 197
        }
      },
      "cell_type": "code",
      "source": [
        "wine_red_data_2_kind_of_quality_equilibrees.convert_ylabel_into_k_categories_equilibre(2)\n",
        "wine_red_data_3_kind_of_quality_equilibrees.convert_ylabel_into_k_categories_equilibre(3)"
      ],
      "execution_count": 0,
      "outputs": [
        {
          "output_type": "stream",
          "text": [
            "{0: 744, 1: 855}\n",
            "label_of_minor_class : 0 size_of_minor_class 744\n",
            "=============== New shape of Red_2_Quality_equilibre Data after split=============\n",
            "(1488, 11)\n",
            "(1488,)\n",
            "{0: 744, 1: 638, 2: 217}\n",
            "label_of_minor_class : 2 size_of_minor_class 217\n",
            "=============== New shape of Red_3_Quality_equilibre Data after split=============\n",
            "(651, 11)\n",
            "(651,)\n"
          ],
          "name": "stdout"
        }
      ]
    },
    {
      "metadata": {
        "id": "PNeqIuKZ9Zmq",
        "colab_type": "code",
        "outputId": "16dfc726-48bc-421c-b9f5-fc475b7c1f0a",
        "colab": {
          "base_uri": "https://localhost:8080/",
          "height": 197
        }
      },
      "cell_type": "code",
      "source": [
        "wine_combine_data_2_kind_of_quality_equilibrees.convert_ylabel_into_k_categories_equilibre(2)\n",
        "wine_combine_data_3_kind_of_quality_equilibrees.convert_ylabel_into_k_categories_equilibre(3)"
      ],
      "execution_count": 0,
      "outputs": [
        {
          "output_type": "stream",
          "text": [
            "{0: 2384, 1: 4113}\n",
            "label_of_minor_class : 0 size_of_minor_class 2384\n",
            "=============== New shape of White-Red_2_Quality_equilibre Data after split=============\n",
            "(4768, 11)\n",
            "(4768,)\n",
            "{0: 2384, 1: 2836, 2: 1277}\n",
            "label_of_minor_class : 2 size_of_minor_class 1277\n",
            "=============== New shape of White-Red_3_Quality_equilibre Data after split=============\n",
            "(3831, 11)\n",
            "(3831,)\n"
          ],
          "name": "stdout"
        }
      ]
    },
    {
      "metadata": {
        "colab_type": "text",
        "id": "Jc3cNnDsXV1t"
      },
      "cell_type": "markdown",
      "source": [
        "### II.b) Split du dataset en X_data (features prédictives) et y_data (variable cible à prédire)"
      ]
    },
    {
      "metadata": {
        "colab_type": "code",
        "id": "pIMsy1qeXglB",
        "outputId": "d5b5e0f6-34b7-4430-9f31-b2598dc0713c",
        "colab": {
          "base_uri": "https://localhost:8080/",
          "height": 71
        }
      },
      "cell_type": "code",
      "source": [
        "wine_white_data.split_data_to_X_and_y()"
      ],
      "execution_count": 0,
      "outputs": [
        {
          "output_type": "stream",
          "text": [
            "=============== New shape of White Data after split=============\n",
            "(4898, 11)\n",
            "(4898,)\n"
          ],
          "name": "stdout"
        }
      ]
    },
    {
      "metadata": {
        "colab_type": "code",
        "id": "OuDGVt8rwkyw",
        "outputId": "079fd9d1-0ee7-45ed-ae7a-997ce09599ee",
        "colab": {
          "base_uri": "https://localhost:8080/",
          "height": 71
        }
      },
      "cell_type": "code",
      "source": [
        "wine_red_data.split_data_to_X_and_y()"
      ],
      "execution_count": 0,
      "outputs": [
        {
          "output_type": "stream",
          "text": [
            "=============== New shape of Red Data after split=============\n",
            "(1599, 11)\n",
            "(1599,)\n"
          ],
          "name": "stdout"
        }
      ]
    },
    {
      "metadata": {
        "colab_type": "code",
        "id": "pRYDY39_ZTx4",
        "outputId": "022a022f-3787-42da-e09a-e25befd5d410",
        "colab": {
          "base_uri": "https://localhost:8080/",
          "height": 71
        }
      },
      "cell_type": "code",
      "source": [
        "wine_combine_data.split_data_to_X_and_y()"
      ],
      "execution_count": 0,
      "outputs": [
        {
          "output_type": "stream",
          "text": [
            "=============== New shape of White-Red Data after split=============\n",
            "(6497, 11)\n",
            "(6497,)\n"
          ],
          "name": "stdout"
        }
      ]
    },
    {
      "metadata": {
        "colab_type": "code",
        "id": "nFRFYNeNBiBY",
        "outputId": "a22457ec-e225-469e-f7a3-1b742f00f759",
        "colab": {
          "base_uri": "https://localhost:8080/",
          "height": 71
        }
      },
      "cell_type": "code",
      "source": [
        "wine_white_data_3_kind_of_quality_desequilibrees.split_data_to_X_and_y()"
      ],
      "execution_count": 0,
      "outputs": [
        {
          "output_type": "stream",
          "text": [
            "=============== New shape of White_3_Quality_desequilibre Data after split=============\n",
            "(4898, 11)\n",
            "(4898,)\n"
          ],
          "name": "stdout"
        }
      ]
    },
    {
      "metadata": {
        "colab_type": "code",
        "id": "oE-CeuGjBht9",
        "outputId": "eef23b01-f0eb-44fa-bcf7-10b5a54779d7",
        "colab": {
          "base_uri": "https://localhost:8080/",
          "height": 71
        }
      },
      "cell_type": "code",
      "source": [
        "wine_red_data_3_kind_of_quality_desequilibrees.split_data_to_X_and_y()"
      ],
      "execution_count": 0,
      "outputs": [
        {
          "output_type": "stream",
          "text": [
            "=============== New shape of Red_3_Quality_desequilibre Data after split=============\n",
            "(1599, 11)\n",
            "(1599,)\n"
          ],
          "name": "stdout"
        }
      ]
    },
    {
      "metadata": {
        "id": "rUGDfdLI9ZnF",
        "colab_type": "code",
        "outputId": "1513a9db-f2e0-47fb-f9e4-cd321ce7474f",
        "colab": {
          "base_uri": "https://localhost:8080/",
          "height": 71
        }
      },
      "cell_type": "code",
      "source": [
        "wine_combine_data_3_kind_of_quality_desequilibrees.split_data_to_X_and_y()"
      ],
      "execution_count": 0,
      "outputs": [
        {
          "output_type": "stream",
          "text": [
            "=============== New shape of White-Red_3_Quality_desequilibre Data after split=============\n",
            "(6497, 11)\n",
            "(6497,)\n"
          ],
          "name": "stdout"
        }
      ]
    },
    {
      "metadata": {
        "colab_type": "text",
        "id": "ui9wUgNLUDqX"
      },
      "cell_type": "markdown",
      "source": [
        "## III) Visualisation graphique des données"
      ]
    },
    {
      "metadata": {
        "colab_type": "text",
        "id": "wB0cpuqmaeIi"
      },
      "cell_type": "markdown",
      "source": [
        "- On remarque en particulier que ces variables prennent des valeurs dans des ensembles différents. Par exemple, “sulphates” varie de 0 à 1 tandis que “total sulfur dioxide” varie de 0 à 440. Il va donc nous falloir standardiser les données pour que la deuxième ne domine pas complètement la première.\n",
        "\n"
      ]
    },
    {
      "metadata": {
        "colab_type": "text",
        "id": "En_Yc771mB_z"
      },
      "cell_type": "markdown",
      "source": [
        "### Plot des histogrammes de features pour le White Wine Dataset"
      ]
    },
    {
      "metadata": {
        "colab_type": "code",
        "id": "pHz0CaW55SmE",
        "colab": {}
      },
      "cell_type": "code",
      "source": [
        "#wine_white_data.show_histogram_of_features()\n",
        "#wine_white_data_3_kind_of_quality_desequilibrees.show_histogram_of_features()"
      ],
      "execution_count": 0,
      "outputs": []
    },
    {
      "metadata": {
        "colab_type": "text",
        "id": "ztxLoYlTmKwZ"
      },
      "cell_type": "markdown",
      "source": [
        "### Plot des histogrammes de features pour le Red Wine Dataset"
      ]
    },
    {
      "metadata": {
        "colab_type": "code",
        "id": "sH2yr7F-nMvu",
        "colab": {}
      },
      "cell_type": "code",
      "source": [
        "#wine_red_data.show_histogram_of_features()\n",
        "#wine_white_data_3_kind_of_quality_equilibrees.show_histogram_of_features()"
      ],
      "execution_count": 0,
      "outputs": []
    },
    {
      "metadata": {
        "id": "efNYRIu49ZnT",
        "colab_type": "text"
      },
      "cell_type": "markdown",
      "source": [
        "### Plot des histogrammes de features pour le White & Red Wine combines Dataset"
      ]
    },
    {
      "metadata": {
        "id": "wseOKjF19ZnU",
        "colab_type": "code",
        "colab": {}
      },
      "cell_type": "code",
      "source": [
        "#wine_combine_data.show_histogram_of_features()"
      ],
      "execution_count": 0,
      "outputs": []
    },
    {
      "metadata": {
        "colab_type": "text",
        "id": "tZsZBNVxnLEG"
      },
      "cell_type": "markdown",
      "source": [
        "### **Il serait peut être intéressant d'étudier (les performances de deux manières) :**  \n",
        "- 1) La possibilité de découper nos labels de prédiction en : {3, 4, 5} = **low quality**;  { 6 } = **medium quality**;  et {7, 8, 9} = **high quality**;\n",
        "- 2) La possibilité de découper nos labels de prédiction en : {3, 4, 5} = **low quality**;  { 6, 7, 8, 9} = **high quality**;\n",
        "- 3) Ou en laissant le label de qualité comme il était : {3, 4, 5, 6, 7, 8, 9}"
      ]
    },
    {
      "metadata": {
        "colab_type": "code",
        "id": "jPq_hU4jiUc2",
        "outputId": "7338b7df-9242-4118-ff99-e60d9a90c2c4",
        "colab": {
          "base_uri": "https://localhost:8080/",
          "height": 382
        }
      },
      "cell_type": "code",
      "source": [
        "wine_white_data.show_target_variable_histogram()"
      ],
      "execution_count": 0,
      "outputs": [
        {
          "output_type": "display_data",
          "data": {
            "image/png": "[encoded data removed]",
            "text/plain": [
              "<matplotlib.figure.Figure at 0x7f1363c269b0>"
            ]
          },
          "metadata": {
            "tags": []
          }
        },
        {
          "output_type": "stream",
          "text": [
            "Repartition des : (label, count_of_occurence)  {3: 20, 4: 163, 5: 1457, 6: 2198, 7: 880, 8: 175, 9: 5}\n"
          ],
          "name": "stdout"
        }
      ]
    },
    {
      "metadata": {
        "colab_type": "code",
        "id": "pZzVEChMn2Or",
        "outputId": "76cfed28-3cdc-44d2-c06b-3b99dd1892bf",
        "colab": {
          "base_uri": "https://localhost:8080/",
          "height": 382
        }
      },
      "cell_type": "code",
      "source": [
        "wine_red_data.show_target_variable_histogram()"
      ],
      "execution_count": 0,
      "outputs": [
        {
          "output_type": "display_data",
          "data": {
            "image/png": "[encoded data removed]",
            "text/plain": [
              "<matplotlib.figure.Figure at 0x7f1363c269e8>"
            ]
          },
          "metadata": {
            "tags": []
          }
        },
        {
          "output_type": "stream",
          "text": [
            "Repartition des : (label, count_of_occurence)  {3: 10, 4: 53, 5: 681, 6: 638, 7: 199, 8: 18}\n"
          ],
          "name": "stdout"
        }
      ]
    },
    {
      "metadata": {
        "colab_type": "code",
        "id": "uwxNp8wUZdRw",
        "outputId": "2bb1aaed-2d05-4444-8359-ebb22544a00e",
        "colab": {
          "base_uri": "https://localhost:8080/",
          "height": 382
        }
      },
      "cell_type": "code",
      "source": [
        "wine_combine_data.show_target_variable_histogram()"
      ],
      "execution_count": 0,
      "outputs": [
        {
          "output_type": "display_data",
          "data": {
            "image/png": "[encoded data removed]",
            "text/plain": [
              "<matplotlib.figure.Figure at 0x7f1363c26240>"
            ]
          },
          "metadata": {
            "tags": []
          }
        },
        {
          "output_type": "stream",
          "text": [
            "Repartition des : (label, count_of_occurence)  {3: 30, 4: 216, 5: 2138, 6: 2836, 7: 1079, 8: 193, 9: 5}\n"
          ],
          "name": "stdout"
        }
      ]
    },
    {
      "metadata": {
        "colab_type": "text",
        "id": "8UAx-aKnB45g"
      },
      "cell_type": "markdown",
      "source": [
        "## IV) Split du dataset en X_train, X_test, Y_train, Y_test\n"
      ]
    },
    {
      "metadata": {
        "colab_type": "text",
        "id": "RRuj97NCB9cn"
      },
      "cell_type": "markdown",
      "source": [
        "### IV.A) Repartition des datasets en labels EQUILIBRES pour \"White\", \"Red\" et la combinaison de \"White-Red\" wine.\n"
      ]
    },
    {
      "metadata": {
        "colab_type": "code",
        "id": "aT7_lH0-CXEI",
        "colab": {}
      },
      "cell_type": "code",
      "source": [
        "wine_combine_data_3_kind_of_quality_desequilibrees.convert_ylabel_into_k_categories_desequilibre(3)\n",
        "\n",
        "wine_white_data_3_kind_of_quality_desequilibrees.convert_ylabel_into_k_categories_desequilibre(3)\n",
        "\n",
        "wine_red_data_3_kind_of_quality_desequilibrees.convert_ylabel_into_k_categories_desequilibre(3)"
      ],
      "execution_count": 0,
      "outputs": []
    },
    {
      "metadata": {
        "colab_type": "code",
        "id": "L8ui-knYCW5F",
        "colab": {}
      },
      "cell_type": "code",
      "source": [
        "#wine_combine_data_2_kind_of_quality_equilibrees.show_ylabel_repartition_info()\n",
        "#wine_white_data_2_kind_of_quality_equilibrees.show_ylabel_repartition_info()\n",
        "#wine_red_data_2_kind_of_quality_equilibrees.show_ylabel_repartition_info()"
      ],
      "execution_count": 0,
      "outputs": []
    },
    {
      "metadata": {
        "colab_type": "code",
        "id": "I51N2oTGCWgy",
        "outputId": "63f7ce9f-ef39-4ebb-e94e-06f67d7ebfca",
        "colab": {
          "base_uri": "https://localhost:8080/",
          "height": 1328
        }
      },
      "cell_type": "code",
      "source": [
        "#wine_combine_data_3_kind_of_quality_equilibrees.show_ylabel_repartition_info()\n",
        "#wine_white_data_3_kind_of_quality_equilibrees.show_ylabel_repartition_info()\n",
        "#wine_red_data_3_kind_of_quality_equilibrees.show_ylabel_repartition_info()\n",
        "\n",
        "wine_combine_data_3_kind_of_quality_desequilibrees.show_ylabel_repartition_info()\n",
        "wine_white_data_3_kind_of_quality_desequilibrees.show_ylabel_repartition_info()\n",
        "wine_red_data_3_kind_of_quality_desequilibrees.show_ylabel_repartition_info()"
      ],
      "execution_count": 0,
      "outputs": [
        {
          "output_type": "display_data",
          "data": {
            "image/png": "[encoded data removed]",
            "text/plain": [
              "<matplotlib.figure.Figure at 0x7f1364ff9080>"
            ]
          },
          "metadata": {
            "tags": []
          }
        },
        {
          "output_type": "stream",
          "text": [
            "Repartition des : (label, count_of_occurence)  {0: 2384, 1: 2836, 2: 1277}\n",
            "======= If Quality of White-Red_3_Quality_desequilibre Wine was splited into 3 categories =======\n",
            "Low quality : 2384 rows (36.69%)\n",
            "Medium quality : 2836 rows (43.65%)\n",
            "High quality : 1277 rows (19.66%)\n"
          ],
          "name": "stdout"
        },
        {
          "output_type": "display_data",
          "data": {
            "image/png": "[encoded data removed]",
            "text/plain": [
              "<matplotlib.figure.Figure at 0x7f1363c11240>"
            ]
          },
          "metadata": {
            "tags": []
          }
        },
        {
          "output_type": "stream",
          "text": [
            "Repartition des : (label, count_of_occurence)  {0: 1640, 1: 2198, 2: 1060}\n",
            "======= If Quality of White_3_Quality_desequilibre Wine was splited into 3 categories =======\n",
            "Low quality : 1640 rows (33.48%)\n",
            "Medium quality : 2198 rows (44.88%)\n",
            "High quality : 1060 rows (21.64%)\n"
          ],
          "name": "stdout"
        },
        {
          "output_type": "display_data",
          "data": {
            "image/png": "[encoded data removed]",
            "text/plain": [
              "<matplotlib.figure.Figure at 0x7f1364f64588>"
            ]
          },
          "metadata": {
            "tags": []
          }
        },
        {
          "output_type": "stream",
          "text": [
            "Repartition des : (label, count_of_occurence)  {0: 744, 1: 638, 2: 217}\n",
            "======= If Quality of Red_3_Quality_desequilibre Wine was splited into 3 categories =======\n",
            "Low quality : 744 rows (46.53%)\n",
            "Medium quality : 638 rows (39.90%)\n",
            "High quality : 217 rows (13.57%)\n"
          ],
          "name": "stdout"
        }
      ]
    },
    {
      "metadata": {
        "id": "LbDS25eF9Znu",
        "colab_type": "text"
      },
      "cell_type": "markdown",
      "source": [
        "### IV.B) Split du dataset en X_train, X_test, Y_train, Y_test\n"
      ]
    },
    {
      "metadata": {
        "colab_type": "code",
        "id": "EgHVor3hCwcT",
        "scrolled": true,
        "outputId": "901f04dc-0cd8-4cd6-bf30-e8686b15b5d3",
        "colab": {
          "base_uri": "https://localhost:8080/",
          "height": 287
        }
      },
      "cell_type": "code",
      "source": [
        "wine_combine_data.split_into_train_test(0.2)\n",
        "wine_combine_data_2_kind_of_quality_equilibrees.split_into_train_test(0.2)\n",
        "wine_combine_data_3_kind_of_quality_equilibrees.split_into_train_test(0.2)"
      ],
      "execution_count": 0,
      "outputs": [
        {
          "output_type": "stream",
          "text": [
            "=============== New shape of White-Red Data after X_{train, test} and y_{train, test} split=============\n",
            "X_White-Red_train  (5197, 11)\n",
            "X_White-Red_test  (1300, 11)\n",
            "y_White-Red_train  (5197,)\n",
            "y_White-Red_test  (1300,)\n",
            "=============== New shape of White-Red_2_Quality_equilibre Data after X_{train, test} and y_{train, test} split=============\n",
            "X_White-Red_2_Quality_equilibre_train  (3814, 11)\n",
            "X_White-Red_2_Quality_equilibre_test  (954, 11)\n",
            "y_White-Red_2_Quality_equilibre_train  (3814,)\n",
            "y_White-Red_2_Quality_equilibre_test  (954,)\n",
            "=============== New shape of White-Red_3_Quality_equilibre Data after X_{train, test} and y_{train, test} split=============\n",
            "X_White-Red_3_Quality_equilibre_train  (3064, 11)\n",
            "X_White-Red_3_Quality_equilibre_test  (767, 11)\n",
            "y_White-Red_3_Quality_equilibre_train  (3064,)\n",
            "y_White-Red_3_Quality_equilibre_test  (767,)\n"
          ],
          "name": "stdout"
        }
      ]
    },
    {
      "metadata": {
        "id": "cZbHH6jX9Znx",
        "colab_type": "code",
        "outputId": "d33671e2-4184-4008-ffcd-5f9d3a6d5f0d",
        "colab": {
          "base_uri": "https://localhost:8080/",
          "height": 287
        }
      },
      "cell_type": "code",
      "source": [
        "wine_white_data.split_into_train_test(0.2)\n",
        "wine_white_data_2_kind_of_quality_equilibrees.split_into_train_test(0.2)\n",
        "wine_white_data_3_kind_of_quality_equilibrees.split_into_train_test(0.2)"
      ],
      "execution_count": 0,
      "outputs": [
        {
          "output_type": "stream",
          "text": [
            "=============== New shape of White Data after X_{train, test} and y_{train, test} split=============\n",
            "X_White_train  (3918, 11)\n",
            "X_White_test  (980, 11)\n",
            "y_White_train  (3918,)\n",
            "y_White_test  (980,)\n",
            "=============== New shape of White_2_Quality_equilibre Data after X_{train, test} and y_{train, test} split=============\n",
            "X_White_2_Quality_equilibre_train  (2624, 11)\n",
            "X_White_2_Quality_equilibre_test  (656, 11)\n",
            "y_White_2_Quality_equilibre_train  (2624,)\n",
            "y_White_2_Quality_equilibre_test  (656,)\n",
            "=============== New shape of White_3_Quality_equilibre Data after X_{train, test} and y_{train, test} split=============\n",
            "X_White_3_Quality_equilibre_train  (2544, 11)\n",
            "X_White_3_Quality_equilibre_test  (636, 11)\n",
            "y_White_3_Quality_equilibre_train  (2544,)\n",
            "y_White_3_Quality_equilibre_test  (636,)\n"
          ],
          "name": "stdout"
        }
      ]
    },
    {
      "metadata": {
        "id": "MhWZJ8PB9Zn2",
        "colab_type": "code",
        "outputId": "4995af81-8a4b-422a-d1af-26c51eb4595a",
        "colab": {
          "base_uri": "https://localhost:8080/",
          "height": 287
        }
      },
      "cell_type": "code",
      "source": [
        "wine_red_data.split_into_train_test(0.2)\n",
        "wine_red_data_2_kind_of_quality_equilibrees.split_into_train_test(0.2)\n",
        "wine_red_data_3_kind_of_quality_equilibrees.split_into_train_test(0.2)"
      ],
      "execution_count": 0,
      "outputs": [
        {
          "output_type": "stream",
          "text": [
            "=============== New shape of Red Data after X_{train, test} and y_{train, test} split=============\n",
            "X_Red_train  (1279, 11)\n",
            "X_Red_test  (320, 11)\n",
            "y_Red_train  (1279,)\n",
            "y_Red_test  (320,)\n",
            "=============== New shape of Red_2_Quality_equilibre Data after X_{train, test} and y_{train, test} split=============\n",
            "X_Red_2_Quality_equilibre_train  (1190, 11)\n",
            "X_Red_2_Quality_equilibre_test  (298, 11)\n",
            "y_Red_2_Quality_equilibre_train  (1190,)\n",
            "y_Red_2_Quality_equilibre_test  (298,)\n",
            "=============== New shape of Red_3_Quality_equilibre Data after X_{train, test} and y_{train, test} split=============\n",
            "X_Red_3_Quality_equilibre_train  (520, 11)\n",
            "X_Red_3_Quality_equilibre_test  (131, 11)\n",
            "y_Red_3_Quality_equilibre_train  (520,)\n",
            "y_Red_3_Quality_equilibre_test  (131,)\n"
          ],
          "name": "stdout"
        }
      ]
    },
    {
      "metadata": {
        "id": "C97Eqrdz9Zn7",
        "colab_type": "code",
        "outputId": "47f0f8b6-1f9d-4b36-9375-49f7a7cc8539",
        "colab": {
          "base_uri": "https://localhost:8080/",
          "height": 287
        }
      },
      "cell_type": "code",
      "source": [
        "# Rajouter le 28/11\n",
        "wine_combine_data_3_kind_of_quality_desequilibrees.split_into_train_test(0.2)\n",
        "wine_white_data_3_kind_of_quality_desequilibrees.split_into_train_test(0.2)\n",
        "wine_red_data_3_kind_of_quality_desequilibrees.split_into_train_test(0.2)"
      ],
      "execution_count": 0,
      "outputs": [
        {
          "output_type": "stream",
          "text": [
            "=============== New shape of White-Red_3_Quality_desequilibre Data after X_{train, test} and y_{train, test} split=============\n",
            "X_White-Red_3_Quality_desequilibre_train  (5197, 11)\n",
            "X_White-Red_3_Quality_desequilibre_test  (1300, 11)\n",
            "y_White-Red_3_Quality_desequilibre_train  (5197,)\n",
            "y_White-Red_3_Quality_desequilibre_test  (1300,)\n",
            "=============== New shape of White_3_Quality_desequilibre Data after X_{train, test} and y_{train, test} split=============\n",
            "X_White_3_Quality_desequilibre_train  (3918, 11)\n",
            "X_White_3_Quality_desequilibre_test  (980, 11)\n",
            "y_White_3_Quality_desequilibre_train  (3918,)\n",
            "y_White_3_Quality_desequilibre_test  (980,)\n",
            "=============== New shape of Red_3_Quality_desequilibre Data after X_{train, test} and y_{train, test} split=============\n",
            "X_Red_3_Quality_desequilibre_train  (1279, 11)\n",
            "X_Red_3_Quality_desequilibre_test  (320, 11)\n",
            "y_Red_3_Quality_desequilibre_train  (1279,)\n",
            "y_Red_3_Quality_desequilibre_test  (320,)\n"
          ],
          "name": "stdout"
        }
      ]
    },
    {
      "metadata": {
        "colab_type": "text",
        "id": "MN_TGlWgmVk6"
      },
      "cell_type": "markdown",
      "source": [
        "\n",
        "## V) Features scaling"
      ]
    },
    {
      "metadata": {
        "colab_type": "text",
        "id": "NpEMhL1s9r6b"
      },
      "cell_type": "markdown",
      "source": [
        "- On normalise les features de manière à ce que certain attribut ne prenne pas le dessus sur d'autres attributs (notamment lors des caculs de distance)"
      ]
    },
    {
      "metadata": {
        "colab_type": "code",
        "id": "vYqluch7iEvJ",
        "colab": {}
      },
      "cell_type": "code",
      "source": [
        "wine_combine_data.preprocessing_feature_scaling_for_Xtrain_Xtest()\n",
        "wine_combine_data_2_kind_of_quality_equilibrees.preprocessing_feature_scaling_for_Xtrain_Xtest()\n",
        "wine_combine_data_3_kind_of_quality_equilibrees.preprocessing_feature_scaling_for_Xtrain_Xtest()\n",
        "wine_combine_data_3_kind_of_quality_desequilibrees.preprocessing_feature_scaling_for_Xtrain_Xtest()\n",
        "\n",
        "wine_white_data.preprocessing_feature_scaling_for_Xtrain_Xtest()\n",
        "wine_white_data_2_kind_of_quality_equilibrees.preprocessing_feature_scaling_for_Xtrain_Xtest()\n",
        "wine_white_data_3_kind_of_quality_equilibrees.preprocessing_feature_scaling_for_Xtrain_Xtest()\n",
        "wine_white_data_3_kind_of_quality_desequilibrees.preprocessing_feature_scaling_for_Xtrain_Xtest()\n",
        "\n",
        "wine_red_data.preprocessing_feature_scaling_for_Xtrain_Xtest()\n",
        "wine_red_data_2_kind_of_quality_equilibrees.preprocessing_feature_scaling_for_Xtrain_Xtest()\n",
        "wine_red_data_3_kind_of_quality_equilibrees.preprocessing_feature_scaling_for_Xtrain_Xtest()\n",
        "wine_red_data_3_kind_of_quality_desequilibrees.preprocessing_feature_scaling_for_Xtrain_Xtest()\n"
      ],
      "execution_count": 0,
      "outputs": []
    },
    {
      "metadata": {
        "colab_type": "text",
        "id": "Nccfy8oY2h8o"
      },
      "cell_type": "markdown",
      "source": [
        "## VI) Prédiction de la qualité avec KNN"
      ]
    },
    {
      "metadata": {
        "id": "FIrRZVKV9Tob",
        "colab_type": "text"
      },
      "cell_type": "markdown",
      "source": [
        "### Model class"
      ]
    },
    {
      "metadata": {
        "colab_type": "code",
        "id": "fjqiMGV865kL",
        "colab": {}
      },
      "cell_type": "code",
      "source": [
        "import itertools\n",
        "from sklearn.neighbors import KNeighborsClassifier\n",
        "from sklearn.pipeline import Pipeline\n",
        "from sklearn.model_selection import GridSearchCV\n",
        "from sklearn.metrics import accuracy_score\n",
        "from sklearn.metrics import confusion_matrix\n",
        "from sklearn.metrics import classification_report\n",
        "\n",
        "\n",
        "class knn_model:\n",
        "    \n",
        "    def __init__(self, wine_data, nn = 5, w = 'uniform', p_value=2):\n",
        "        self.wine_data = wine_data\n",
        "        self.classifier = KNeighborsClassifier(n_neighbors = nn, weights = w, p = p_value, n_jobs=-1)\n",
        "    \n",
        "    def knn_train(self, X_train, y_train):\n",
        "        self.classifier.fit(X_train, y_train)\n",
        "\n",
        "    def knn_train(self):\n",
        "        self.classifier.fit(self.wine_data.X_train, self.wine_data.y_train)\n",
        "        \n",
        "    def knn_predict(self, X_test):\n",
        "        self.y_pred = self.classifier.predict(X_test)\n",
        "        \n",
        "    def knn_predict(self):\n",
        "        self.y_pred = self.classifier.predict(self.wine_data.X_test)\n",
        "        \n",
        "    def knn_print_accuracy_score(self, y_test):\n",
        "        print(\"\\n============= Summary of perf on \"+self.wine_data.wine_name+\" ==================\\n\")\n",
        "        print(\"Accuracy score : \", accuracy_score(y_test, self.y_pred))\n",
        "        #cm = confusion_matrix(y_test, self.y_pred)\n",
        "        #print(classification_report(y_test, self.y_pred))\n",
        "\n",
        "    def knn_print_accuracy_score(self):\n",
        "        print(\"\\n============= Summary of perf on \"+self.wine_data.wine_name+\" ==================\\n\")\n",
        "        print(\"Accuracy score : \", accuracy_score(self.wine_data.y_test, self.y_pred))\n",
        "        print(\"list of unique_predicted_class \", np.unique( self.y_pred ) )\n",
        "        self.plot_confusion_matrix()\n",
        "        print(classification_report(self.wine_data.y_test, self.y_pred))        \n",
        "      \n",
        "    def search_by_gridSearch(self, neighbours, weights, p, cv=10): \n",
        "        hyerparams = {'n_neighbors': neighbours, 'weights': weights, 'p': p}\n",
        "        self.grid_search = GridSearchCV(KNeighborsClassifier(),\n",
        "                                      param_grid = hyerparams,\n",
        "                                      scoring = 'accuracy',\n",
        "                                      cv = cv,\n",
        "                                      n_jobs = -1)\n",
        "        self.grid_search.fit(self.wine_data.X_train, self.wine_data.y_train)\n",
        "      \n",
        "    def print_best_score_find_by_gridSearch(self):\n",
        "        print(\"Meilleur résultat de la validation croisée :\", self.grid_search.best_score_)\n",
        "        print(\"Meilleur(s) hyperparamètre(s) sur le jeu d'entraînement:\", self.grid_search.best_params_)\n",
        "      \n",
        "    def print_score_of_generalisation_on_test_set(self):\n",
        "        # Après avoir trouvé la meilleure combinaison de paramètres, il est \n",
        "        # important de calculer l'erreur de généralisation sur le test_set\n",
        "        y_pred = self.grid_search.predict(self.wine_data.X_test)\n",
        "        print(\"\\nResultat sur le jeu de test : %0.3f\" % accuracy_score(self.wine_data.y_test, y_pred))\n",
        "        \n",
        "    def plot_confusion_matrix(self, normalize=False):\n",
        "        cm = confusion_matrix(self.wine_data.y_test, self.y_pred)\n",
        "        cmap=plt.cm.Blues\n",
        "        \n",
        "        plt.imshow(cm, interpolation='nearest', cmap=cmap)\n",
        "        plt.title('Confusion Matrix for Test Data')\n",
        "        plt.colorbar()\n",
        "        \n",
        "        fmt = '.2f' if normalize else 'd'\n",
        "        thresh = cm.max() / 2.\n",
        "        for i, j in itertools.product(range(cm.shape[0]), range(cm.shape[1])):\n",
        "            plt.text(j, i, format(cm[i, j], fmt),\n",
        "                     horizontalalignment=\"center\")\n",
        "\n",
        "        plt.ylabel('True label')\n",
        "        plt.xlabel('Predicted label')\n",
        "        plt.tight_layout()\n",
        "        plt.show()\n",
        "        \n",
        "    def compute_roc(self):\n",
        "        from sklearn.metrics import roc_auc_score                \n",
        "        print(\"roc :\",roc_auc_score(self.wine_data.y_test, self.y_pred))"
      ],
      "execution_count": 0,
      "outputs": []
    },
    {
      "metadata": {
        "id": "TzPaB7Eo9Zkw",
        "colab_type": "text"
      },
      "cell_type": "markdown",
      "source": [
        "### Combined wine predictions"
      ]
    },
    {
      "metadata": {
        "colab_type": "code",
        "id": "VSrAGbtbhXvx",
        "scrolled": false,
        "outputId": "0a727790-d8e8-431b-e29a-83674cfed68c",
        "colab": {
          "base_uri": "https://localhost:8080/",
          "height": 2599
        }
      },
      "cell_type": "code",
      "source": [
        "#===================== Prédiction Dataset combined wine ======================\n",
        "# Les 10 classes normales\n",
        "knn_wine_combine_data = knn_model(wine_combine_data)\n",
        "knn_wine_combine_data.knn_train()\n",
        "knn_wine_combine_data.knn_predict()\n",
        "knn_wine_combine_data.knn_print_accuracy_score()\n",
        "\n",
        "# Classes splitées en 2 qualités et équilibrées\n",
        "knn_wine_combine_data_2_kind_of_quality_equilibrees = knn_model(wine_combine_data_2_kind_of_quality_equilibrees)\n",
        "knn_wine_combine_data_2_kind_of_quality_equilibrees.knn_train()\n",
        "knn_wine_combine_data_2_kind_of_quality_equilibrees.knn_predict()\n",
        "knn_wine_combine_data_2_kind_of_quality_equilibrees.knn_print_accuracy_score()\n",
        "knn_wine_combine_data_2_kind_of_quality_equilibrees.compute_roc()\n",
        "\n",
        "# Classes splitées en 3 qualités et équilibrées\n",
        "knn_wine_combine_data_3_kind_of_quality_equilibrees = knn_model(wine_combine_data_3_kind_of_quality_equilibrees)\n",
        "knn_wine_combine_data_3_kind_of_quality_equilibrees.knn_train()\n",
        "knn_wine_combine_data_3_kind_of_quality_equilibrees.knn_predict()\n",
        "knn_wine_combine_data_3_kind_of_quality_equilibrees.knn_print_accuracy_score()\n",
        "\n",
        "# Classes splitées en 3 qualités et desequilibrées\n",
        "knn_wine_combine_data_3_kind_of_quality_desequilibrees = knn_model(wine_combine_data_3_kind_of_quality_desequilibrees)\n",
        "knn_wine_combine_data_3_kind_of_quality_desequilibrees.knn_train()\n",
        "knn_wine_combine_data_3_kind_of_quality_desequilibrees.knn_predict()\n",
        "knn_wine_combine_data_3_kind_of_quality_desequilibrees.knn_print_accuracy_score()"
      ],
      "execution_count": 0,
      "outputs": [
        {
          "output_type": "stream",
          "text": [
            "\n",
            "============= Summary of perf on White-Red ==================\n",
            "\n",
            "Accuracy score :  0.5576923076923077\n",
            "list of unique_predicted_class  [4 5 6 7 8]\n"
          ],
          "name": "stdout"
        },
        {
          "output_type": "display_data",
          "data": {
            "image/png": "[encoded data removed]",
            "text/plain": [
              "<matplotlib.figure.Figure at 0x7f137f000cf8>"
            ]
          },
          "metadata": {
            "tags": []
          }
        },
        {
          "output_type": "stream",
          "text": [
            "/usr/local/lib/python3.6/dist-packages/sklearn/metrics/classification.py:1135: UndefinedMetricWarning: Precision and F-score are ill-defined and being set to 0.0 in labels with no predicted samples.\n",
            "  'precision', 'predicted', average, warn_for)\n"
          ],
          "name": "stderr"
        },
        {
          "output_type": "stream",
          "text": [
            "             precision    recall  f1-score   support\n",
            "\n",
            "          3       0.00      0.00      0.00         2\n",
            "          4       0.29      0.11      0.16        46\n",
            "          5       0.57      0.65      0.61       420\n",
            "          6       0.57      0.62      0.59       579\n",
            "          7       0.52      0.40      0.45       221\n",
            "          8       0.13      0.06      0.09        32\n",
            "\n",
            "avg / total       0.54      0.56      0.55      1300\n",
            "\n",
            "\n",
            "============= Summary of perf on White-Red_2_Quality_equilibre ==================\n",
            "\n",
            "Accuracy score :  0.7389937106918238\n",
            "list of unique_predicted_class  [0 1]\n"
          ],
          "name": "stdout"
        },
        {
          "output_type": "display_data",
          "data": {
            "image/png": "[encoded data removed]",
            "text/plain": [
              "<matplotlib.figure.Figure at 0x7f1362d12518>"
            ]
          },
          "metadata": {
            "tags": []
          }
        },
        {
          "output_type": "stream",
          "text": [
            "             precision    recall  f1-score   support\n",
            "\n",
            "          0       0.72      0.77      0.74       473\n",
            "          1       0.76      0.71      0.73       481\n",
            "\n",
            "avg / total       0.74      0.74      0.74       954\n",
            "\n",
            "roc : 0.7392302857419137\n",
            "\n",
            "============= Summary of perf on White-Red_3_Quality_equilibre ==================\n",
            "\n",
            "Accuracy score :  0.5919165580182529\n",
            "list of unique_predicted_class  [0 1 2]\n"
          ],
          "name": "stdout"
        },
        {
          "output_type": "display_data",
          "data": {
            "image/png": "[encoded data removed]",
            "text/plain": [
              "<matplotlib.figure.Figure at 0x7f13679619b0>"
            ]
          },
          "metadata": {
            "tags": []
          }
        },
        {
          "output_type": "stream",
          "text": [
            "             precision    recall  f1-score   support\n",
            "\n",
            "          0       0.66      0.65      0.66       267\n",
            "          1       0.43      0.43      0.43       239\n",
            "          2       0.67      0.68      0.68       261\n",
            "\n",
            "avg / total       0.59      0.59      0.59       767\n",
            "\n",
            "\n",
            "============= Summary of perf on White-Red_3_Quality_desequilibre ==================\n",
            "\n",
            "Accuracy score :  0.61\n",
            "list of unique_predicted_class  [0 1 2]\n"
          ],
          "name": "stdout"
        },
        {
          "output_type": "display_data",
          "data": {
            "image/png": "[encoded data removed]",
            "text/plain": [
              "<matplotlib.figure.Figure at 0x7f1365093d68>"
            ]
          },
          "metadata": {
            "tags": []
          }
        },
        {
          "output_type": "stream",
          "text": [
            "             precision    recall  f1-score   support\n",
            "\n",
            "          0       0.63      0.68      0.66       468\n",
            "          1       0.59      0.60      0.60       579\n",
            "          2       0.60      0.49      0.54       253\n",
            "\n",
            "avg / total       0.61      0.61      0.61      1300\n",
            "\n"
          ],
          "name": "stdout"
        }
      ]
    },
    {
      "metadata": {
        "id": "UvVbYdga9fUU",
        "colab_type": "text"
      },
      "cell_type": "markdown",
      "source": [
        "### White wine predictions"
      ]
    },
    {
      "metadata": {
        "colab_type": "code",
        "id": "WzdNVjCVh8F6",
        "outputId": "54cd67ad-a74b-4fb7-bdad-97815484da1a",
        "colab": {
          "base_uri": "https://localhost:8080/",
          "height": 2543
        }
      },
      "cell_type": "code",
      "source": [
        "#===================== Prédiction Dataset white wine =========================\n",
        "# Les 10 classes normales\n",
        "knn_wine_white_data = knn_model(wine_white_data)\n",
        "knn_wine_white_data.knn_train()\n",
        "knn_wine_white_data.knn_predict()\n",
        "knn_wine_white_data.knn_print_accuracy_score()\n",
        "\n",
        "# Classes splitées en 2 qualités et équilibrées\n",
        "knn_wine_white_data_2_kind_of_quality_equilibrees = knn_model(wine_white_data_2_kind_of_quality_equilibrees)\n",
        "knn_wine_white_data_2_kind_of_quality_equilibrees.knn_train()\n",
        "knn_wine_white_data_2_kind_of_quality_equilibrees.knn_predict()\n",
        "knn_wine_white_data_2_kind_of_quality_equilibrees.knn_print_accuracy_score()\n",
        "knn_wine_white_data_2_kind_of_quality_equilibrees.compute_roc()\n",
        "\n",
        "# Classes splitées en 3 qualités et équilibrées\n",
        "knn_wine_white_data_3_kind_of_quality_equilibrees = knn_model(wine_white_data_3_kind_of_quality_equilibrees)\n",
        "knn_wine_white_data_3_kind_of_quality_equilibrees.knn_train()\n",
        "knn_wine_white_data_3_kind_of_quality_equilibrees.knn_predict()\n",
        "knn_wine_white_data_3_kind_of_quality_equilibrees.knn_print_accuracy_score()\n",
        "\n",
        "# Classes splitées en 3 qualités et desequilibrées\n",
        "knn_wine_white_data_3_kind_of_quality_desequilibrees = knn_model(wine_white_data_3_kind_of_quality_desequilibrees)\n",
        "knn_wine_white_data_3_kind_of_quality_desequilibrees.knn_train()\n",
        "knn_wine_white_data_3_kind_of_quality_desequilibrees.knn_predict()\n",
        "knn_wine_white_data_3_kind_of_quality_desequilibrees.knn_print_accuracy_score()\n"
      ],
      "execution_count": 0,
      "outputs": [
        {
          "output_type": "stream",
          "text": [
            "\n",
            "============= Summary of perf on White ==================\n",
            "\n",
            "Accuracy score :  0.5428571428571428\n",
            "list of unique_predicted_class  [3 4 5 6 7 8]\n"
          ],
          "name": "stdout"
        },
        {
          "output_type": "display_data",
          "data": {
            "image/png": "[encoded data removed]",
            "text/plain": [
              "<matplotlib.figure.Figure at 0x7f1363afe470>"
            ]
          },
          "metadata": {
            "tags": []
          }
        },
        {
          "output_type": "stream",
          "text": [
            "             precision    recall  f1-score   support\n",
            "\n",
            "          3       0.50      0.20      0.29         5\n",
            "          4       0.19      0.20      0.19        25\n",
            "          5       0.52      0.57      0.54       291\n",
            "          6       0.57      0.62      0.60       432\n",
            "          7       0.58      0.46      0.51       192\n",
            "          8       0.23      0.09      0.13        35\n",
            "\n",
            "avg / total       0.54      0.54      0.54       980\n",
            "\n",
            "\n",
            "============= Summary of perf on White_2_Quality_equilibre ==================\n",
            "\n",
            "Accuracy score :  0.760670731707317\n",
            "list of unique_predicted_class  [0 1]\n"
          ],
          "name": "stdout"
        },
        {
          "output_type": "display_data",
          "data": {
            "image/png": "[encoded data removed]",
            "text/plain": [
              "<matplotlib.figure.Figure at 0x7f136791cfd0>"
            ]
          },
          "metadata": {
            "tags": []
          }
        },
        {
          "output_type": "stream",
          "text": [
            "             precision    recall  f1-score   support\n",
            "\n",
            "          0       0.74      0.78      0.76       320\n",
            "          1       0.78      0.75      0.76       336\n",
            "\n",
            "avg / total       0.76      0.76      0.76       656\n",
            "\n",
            "roc : 0.7610119047619047\n",
            "\n",
            "============= Summary of perf on White_3_Quality_equilibre ==================\n",
            "\n",
            "Accuracy score :  0.5518867924528302\n",
            "list of unique_predicted_class  [0 1 2]\n"
          ],
          "name": "stdout"
        },
        {
          "output_type": "display_data",
          "data": {
            "image/png": "[encoded data removed]",
            "text/plain": [
              "<matplotlib.figure.Figure at 0x7f1363ca41d0>"
            ]
          },
          "metadata": {
            "tags": []
          }
        },
        {
          "output_type": "stream",
          "text": [
            "             precision    recall  f1-score   support\n",
            "\n",
            "          0       0.61      0.62      0.61       229\n",
            "          1       0.39      0.38      0.39       203\n",
            "          2       0.64      0.65      0.64       204\n",
            "\n",
            "avg / total       0.55      0.55      0.55       636\n",
            "\n",
            "\n",
            "============= Summary of perf on White_3_Quality_desequilibre ==================\n",
            "\n",
            "Accuracy score :  0.6\n",
            "list of unique_predicted_class  [0 1 2]\n"
          ],
          "name": "stdout"
        },
        {
          "output_type": "display_data",
          "data": {
            "image/png": "[encoded data removed]",
            "text/plain": [
              "<matplotlib.figure.Figure at 0x7f1368adb828>"
            ]
          },
          "metadata": {
            "tags": []
          }
        },
        {
          "output_type": "stream",
          "text": [
            "             precision    recall  f1-score   support\n",
            "\n",
            "          0       0.58      0.64      0.61       321\n",
            "          1       0.58      0.60      0.59       432\n",
            "          2       0.69      0.54      0.60       227\n",
            "\n",
            "avg / total       0.61      0.60      0.60       980\n",
            "\n"
          ],
          "name": "stdout"
        }
      ]
    },
    {
      "metadata": {
        "id": "CQjWo0049jLJ",
        "colab_type": "text"
      },
      "cell_type": "markdown",
      "source": [
        "### Red wine predictions"
      ]
    },
    {
      "metadata": {
        "colab_type": "code",
        "id": "XVTegT1zXWPh",
        "outputId": "c317be94-3993-424a-f2e1-5c1026b8a64d",
        "colab": {
          "base_uri": "https://localhost:8080/",
          "height": 2581
        }
      },
      "cell_type": "code",
      "source": [
        "#===================== Prédiction Dataset red wine =========================\n",
        "# Les 10 classes normales\n",
        "knn_wine_red_data = knn_model(wine_red_data)\n",
        "knn_wine_red_data.knn_train()\n",
        "knn_wine_red_data.knn_predict()\n",
        "knn_wine_red_data.knn_print_accuracy_score()\n",
        "\n",
        "# Classes splitées en 2 qualités et équilibrées\n",
        "knn_wine_red_data_2_kind_of_quality_equilibrees = knn_model(wine_red_data_2_kind_of_quality_equilibrees)\n",
        "knn_wine_red_data_2_kind_of_quality_equilibrees.knn_train()\n",
        "knn_wine_red_data_2_kind_of_quality_equilibrees.knn_predict()\n",
        "knn_wine_red_data_2_kind_of_quality_equilibrees.knn_print_accuracy_score()\n",
        "\n",
        "# Classes splitées en 3 qualités et équilibrées\n",
        "knn_wine_red_data_3_kind_of_quality_equilibrees = knn_model(wine_red_data_3_kind_of_quality_equilibrees)\n",
        "knn_wine_red_data_3_kind_of_quality_equilibrees.knn_train()\n",
        "knn_wine_red_data_3_kind_of_quality_equilibrees.knn_predict()\n",
        "knn_wine_red_data_3_kind_of_quality_equilibrees.knn_print_accuracy_score()\n",
        "\n",
        "# Classes splitées en 3 qualités et desequilibrées\n",
        "knn_wine_red_data_3_kind_of_quality_desequilibrees = knn_model(wine_red_data_3_kind_of_quality_desequilibrees)\n",
        "knn_wine_red_data_3_kind_of_quality_desequilibrees.knn_train()\n",
        "knn_wine_red_data_3_kind_of_quality_desequilibrees.knn_predict()\n",
        "knn_wine_red_data_3_kind_of_quality_desequilibrees.knn_print_accuracy_score()"
      ],
      "execution_count": 0,
      "outputs": [
        {
          "output_type": "stream",
          "text": [
            "\n",
            "============= Summary of perf on Red ==================\n",
            "\n",
            "Accuracy score :  0.546875\n",
            "list of unique_predicted_class  [3 4 5 6 7]\n"
          ],
          "name": "stdout"
        },
        {
          "output_type": "display_data",
          "data": {
            "image/png": "[encoded data removed]",
            "text/plain": [
              "<matplotlib.figure.Figure at 0x7f1367a49a58>"
            ]
          },
          "metadata": {
            "tags": []
          }
        },
        {
          "output_type": "stream",
          "text": [
            "/usr/local/lib/python3.6/dist-packages/sklearn/metrics/classification.py:1135: UndefinedMetricWarning: Precision and F-score are ill-defined and being set to 0.0 in labels with no predicted samples.\n",
            "  'precision', 'predicted', average, warn_for)\n"
          ],
          "name": "stderr"
        },
        {
          "output_type": "stream",
          "text": [
            "             precision    recall  f1-score   support\n",
            "\n",
            "          3       0.00      0.00      0.00         1\n",
            "          4       0.00      0.00      0.00        10\n",
            "          5       0.59      0.68      0.63       130\n",
            "          6       0.51      0.55      0.53       132\n",
            "          7       0.54      0.36      0.43        42\n",
            "          8       0.00      0.00      0.00         5\n",
            "\n",
            "avg / total       0.52      0.55      0.53       320\n",
            "\n",
            "\n",
            "============= Summary of perf on Red_2_Quality_equilibre ==================\n",
            "\n",
            "Accuracy score :  0.7214765100671141\n",
            "list of unique_predicted_class  [0 1]\n"
          ],
          "name": "stdout"
        },
        {
          "output_type": "display_data",
          "data": {
            "image/png": "[encoded data removed]",
            "text/plain": [
              "<matplotlib.figure.Figure at 0x7f1367916160>"
            ]
          },
          "metadata": {
            "tags": []
          }
        },
        {
          "output_type": "stream",
          "text": [
            "             precision    recall  f1-score   support\n",
            "\n",
            "          0       0.75      0.66      0.70       149\n",
            "          1       0.70      0.79      0.74       149\n",
            "\n",
            "avg / total       0.73      0.72      0.72       298\n",
            "\n",
            "\n",
            "============= Summary of perf on Red_3_Quality_equilibre ==================\n",
            "\n",
            "Accuracy score :  0.4961832061068702\n",
            "list of unique_predicted_class  [0 1 2]\n"
          ],
          "name": "stdout"
        },
        {
          "output_type": "display_data",
          "data": {
            "image/png": "[encoded data removed]",
            "text/plain": [
              "<matplotlib.figure.Figure at 0x7f1364f1e0b8>"
            ]
          },
          "metadata": {
            "tags": []
          }
        },
        {
          "output_type": "stream",
          "text": [
            "             precision    recall  f1-score   support\n",
            "\n",
            "          0       0.67      0.50      0.57        52\n",
            "          1       0.31      0.41      0.35        39\n",
            "          2       0.57      0.57      0.57        40\n",
            "\n",
            "avg / total       0.53      0.50      0.51       131\n",
            "\n",
            "\n",
            "============= Summary of perf on Red_3_Quality_desequilibre ==================\n",
            "\n",
            "Accuracy score :  0.584375\n",
            "list of unique_predicted_class  [0 1 2]\n"
          ],
          "name": "stdout"
        },
        {
          "output_type": "display_data",
          "data": {
            "image/png": "[encoded data removed]",
            "text/plain": [
              "<matplotlib.figure.Figure at 0x7f1363b11518>"
            ]
          },
          "metadata": {
            "tags": []
          }
        },
        {
          "output_type": "stream",
          "text": [
            "             precision    recall  f1-score   support\n",
            "\n",
            "          0       0.62      0.67      0.65       141\n",
            "          1       0.53      0.55      0.54       132\n",
            "          2       0.65      0.43      0.51        47\n",
            "\n",
            "avg / total       0.59      0.58      0.58       320\n",
            "\n"
          ],
          "name": "stdout"
        }
      ]
    },
    {
      "metadata": {
        "colab_type": "text",
        "id": "_uhXmM3Y3Ryf"
      },
      "cell_type": "markdown",
      "source": [
        "### VI.A.2) Recherche des meilleurs paramètres  pour le KNN sur le \"White Wine\""
      ]
    },
    {
      "metadata": {
        "id": "lpEKiLmSDxEF",
        "colab_type": "code",
        "colab": {}
      },
      "cell_type": "code",
      "source": [
        "neighbours = [1, 2, 3, 4, 5, 6, 7, 8, 9, 10]\n",
        "weights = ['uniform', 'distance']\n",
        "p = [1, 2, 3, 4, 5]\n"
      ],
      "execution_count": 0,
      "outputs": []
    },
    {
      "metadata": {
        "colab_type": "code",
        "id": "aBhjoOdN3RCT",
        "outputId": "a59d184c-7755-4b1b-f55c-a8e7a99670c9",
        "colab": {
          "base_uri": "https://localhost:8080/",
          "height": 145
        }
      },
      "cell_type": "code",
      "source": [
        "knn_wine_white_data.search_by_gridSearch(neighbours, weights, p)\n",
        "knn_wine_white_data.print_best_score_find_by_gridSearch()\n",
        "knn_wine_white_data.print_score_of_generalisation_on_test_set()"
      ],
      "execution_count": 0,
      "outputs": [
        {
          "output_type": "stream",
          "text": [
            "/usr/local/lib/python3.6/dist-packages/sklearn/model_selection/_split.py:605: Warning: The least populated class in y has only 5 members, which is too few. The minimum number of members in any class cannot be less than n_splits=10.\n",
            "  % (min_groups, self.n_splits)), Warning)\n"
          ],
          "name": "stderr"
        },
        {
          "output_type": "stream",
          "text": [
            "Meilleur résultat de la validation croisée : 0.6549259826442062\n",
            "Meilleur(s) hyperparamètre(s) sur le jeu d'entraînement: {'n_neighbors': 10, 'p': 1, 'weights': 'distance'}\n",
            "\n",
            "Resultat sur le jeu de test : 0.682\n"
          ],
          "name": "stdout"
        }
      ]
    },
    {
      "metadata": {
        "colab_type": "code",
        "id": "Najpm_yNRviW",
        "outputId": "ca2f3cdc-5df5-43fa-9a79-0bca6b96c44f",
        "colab": {
          "base_uri": "https://localhost:8080/",
          "height": 89
        }
      },
      "cell_type": "code",
      "source": [
        "knn_wine_white_data_2_kind_of_quality_equilibrees.search_by_gridSearch(neighbours, weights, p)\n",
        "knn_wine_white_data_2_kind_of_quality_equilibrees.print_best_score_find_by_gridSearch()\n",
        "knn_wine_white_data_2_kind_of_quality_equilibrees.print_score_of_generalisation_on_test_set()"
      ],
      "execution_count": 0,
      "outputs": [
        {
          "output_type": "stream",
          "text": [
            "Meilleur résultat de la validation croisée : 0.7999237804878049\n",
            "Meilleur(s) hyperparamètre(s) sur le jeu d'entraînement: {'n_neighbors': 10, 'p': 1, 'weights': 'distance'}\n",
            "\n",
            "Resultat sur le jeu de test : 0.799\n"
          ],
          "name": "stdout"
        }
      ]
    },
    {
      "metadata": {
        "colab_type": "code",
        "id": "rVnmc14bhjvY",
        "outputId": "a57c0a07-1ba6-4671-92b3-ce824c7304a3",
        "colab": {
          "base_uri": "https://localhost:8080/",
          "height": 89
        }
      },
      "cell_type": "code",
      "source": [
        "knn_wine_white_data_3_kind_of_quality_equilibrees.search_by_gridSearch(neighbours, weights, p)\n",
        "knn_wine_white_data_3_kind_of_quality_equilibrees.print_best_score_find_by_gridSearch()\n",
        "knn_wine_white_data_3_kind_of_quality_equilibrees.print_score_of_generalisation_on_test_set()"
      ],
      "execution_count": 0,
      "outputs": [
        {
          "output_type": "stream",
          "text": [
            "Meilleur résultat de la validation croisée : 0.6572327044025157\n",
            "Meilleur(s) hyperparamètre(s) sur le jeu d'entraînement: {'n_neighbors': 5, 'p': 1, 'weights': 'distance'}\n",
            "\n",
            "Resultat sur le jeu de test : 0.621\n"
          ],
          "name": "stdout"
        }
      ]
    },
    {
      "metadata": {
        "id": "7oDzmRopbusI",
        "colab_type": "code",
        "outputId": "8eed60dc-60db-44e7-8564-27462206c1ca",
        "colab": {
          "base_uri": "https://localhost:8080/",
          "height": 89
        }
      },
      "cell_type": "code",
      "source": [
        "knn_wine_white_data_3_kind_of_quality_desequilibrees.search_by_gridSearch(neighbours, weights, p)\n",
        "knn_wine_white_data_3_kind_of_quality_desequilibrees.print_best_score_find_by_gridSearch()\n",
        "knn_wine_white_data_3_kind_of_quality_desequilibrees.print_score_of_generalisation_on_test_set()"
      ],
      "execution_count": 0,
      "outputs": [
        {
          "output_type": "stream",
          "text": [
            "Meilleur résultat de la validation croisée : 0.6970393057682491\n",
            "Meilleur(s) hyperparamètre(s) sur le jeu d'entraînement: {'n_neighbors': 9, 'p': 2, 'weights': 'distance'}\n",
            "\n",
            "Resultat sur le jeu de test : 0.699\n"
          ],
          "name": "stdout"
        }
      ]
    },
    {
      "metadata": {
        "id": "Syms3Wmp9Zo4",
        "colab_type": "text"
      },
      "cell_type": "markdown",
      "source": [
        "### VI.B.2) Recherche des meilleurs paramètres  pour le knn sur le \"Red Wine\""
      ]
    },
    {
      "metadata": {
        "id": "JSW4WXLD9Zo5",
        "colab_type": "code",
        "outputId": "c27100eb-423d-43e8-9791-e7dc3d00e484",
        "colab": {
          "base_uri": "https://localhost:8080/",
          "height": 145
        }
      },
      "cell_type": "code",
      "source": [
        "knn_wine_red_data.search_by_gridSearch(neighbours, weights, p)\n",
        "knn_wine_red_data.print_best_score_find_by_gridSearch()\n",
        "knn_wine_red_data.print_score_of_generalisation_on_test_set()"
      ],
      "execution_count": 0,
      "outputs": [
        {
          "output_type": "stream",
          "text": [
            "/usr/local/lib/python3.6/dist-packages/sklearn/model_selection/_split.py:605: Warning: The least populated class in y has only 9 members, which is too few. The minimum number of members in any class cannot be less than n_splits=10.\n",
            "  % (min_groups, self.n_splits)), Warning)\n"
          ],
          "name": "stderr"
        },
        {
          "output_type": "stream",
          "text": [
            "Meilleur résultat de la validation croisée : 0.6825645035183737\n",
            "Meilleur(s) hyperparamètre(s) sur le jeu d'entraînement: {'n_neighbors': 10, 'p': 3, 'weights': 'distance'}\n",
            "\n",
            "Resultat sur le jeu de test : 0.656\n"
          ],
          "name": "stdout"
        }
      ]
    },
    {
      "metadata": {
        "id": "Alc4gncW9Zo9",
        "colab_type": "code",
        "outputId": "c137bc38-5736-4153-db46-b057452966ee",
        "colab": {
          "base_uri": "https://localhost:8080/",
          "height": 89
        }
      },
      "cell_type": "code",
      "source": [
        "knn_wine_red_data_2_kind_of_quality_equilibrees.search_by_gridSearch(neighbours, weights, p)\n",
        "knn_wine_red_data_2_kind_of_quality_equilibrees.print_best_score_find_by_gridSearch()\n",
        "knn_wine_red_data_2_kind_of_quality_equilibrees.print_score_of_generalisation_on_test_set()"
      ],
      "execution_count": 0,
      "outputs": [
        {
          "output_type": "stream",
          "text": [
            "Meilleur résultat de la validation croisée : 0.788235294117647\n",
            "Meilleur(s) hyperparamètre(s) sur le jeu d'entraînement: {'n_neighbors': 9, 'p': 1, 'weights': 'distance'}\n",
            "\n",
            "Resultat sur le jeu de test : 0.772\n"
          ],
          "name": "stdout"
        }
      ]
    },
    {
      "metadata": {
        "id": "sdrKOAJd9ZpC",
        "colab_type": "code",
        "outputId": "750461a3-ad75-4f42-86ac-873b93205863",
        "colab": {
          "base_uri": "https://localhost:8080/",
          "height": 89
        }
      },
      "cell_type": "code",
      "source": [
        "knn_wine_red_data_3_kind_of_quality_equilibrees.search_by_gridSearch(neighbours, weights, p)\n",
        "knn_wine_red_data_3_kind_of_quality_equilibrees.print_best_score_find_by_gridSearch()\n",
        "knn_wine_red_data_3_kind_of_quality_equilibrees.print_score_of_generalisation_on_test_set()"
      ],
      "execution_count": 0,
      "outputs": [
        {
          "output_type": "stream",
          "text": [
            "Meilleur résultat de la validation croisée : 0.6480769230769231\n",
            "Meilleur(s) hyperparamètre(s) sur le jeu d'entraînement: {'n_neighbors': 10, 'p': 2, 'weights': 'distance'}\n",
            "\n",
            "Resultat sur le jeu de test : 0.588\n"
          ],
          "name": "stdout"
        }
      ]
    },
    {
      "metadata": {
        "id": "pX1T9R1fbPIA",
        "colab_type": "code",
        "outputId": "9f6eabec-81c9-41c8-8f14-e79074e4dc92",
        "colab": {
          "base_uri": "https://localhost:8080/",
          "height": 89
        }
      },
      "cell_type": "code",
      "source": [
        "knn_wine_red_data_3_kind_of_quality_desequilibrees.search_by_gridSearch(neighbours, weights, p)\n",
        "knn_wine_red_data_3_kind_of_quality_desequilibrees.print_best_score_find_by_gridSearch()\n",
        "knn_wine_red_data_3_kind_of_quality_desequilibrees.print_score_of_generalisation_on_test_set()"
      ],
      "execution_count": 0,
      "outputs": [
        {
          "output_type": "stream",
          "text": [
            "Meilleur résultat de la validation croisée : 0.7122752150117279\n",
            "Meilleur(s) hyperparamètre(s) sur le jeu d'entraînement: {'n_neighbors': 10, 'p': 5, 'weights': 'distance'}\n",
            "\n",
            "Resultat sur le jeu de test : 0.647\n"
          ],
          "name": "stdout"
        }
      ]
    },
    {
      "metadata": {
        "id": "cp-TQlXX9ZpQ",
        "colab_type": "text"
      },
      "cell_type": "markdown",
      "source": [
        "### VI.C.2) Recherche des meilleurs paramètres  pour le knn sur la combinaison de \"White-Red Wine\""
      ]
    },
    {
      "metadata": {
        "id": "oo3nLR4s9ZpQ",
        "colab_type": "code",
        "outputId": "cb02e3b4-7798-473c-c287-9238b95e5ca3",
        "colab": {
          "base_uri": "https://localhost:8080/",
          "height": 145
        }
      },
      "cell_type": "code",
      "source": [
        "knn_wine_combine_data.search_by_gridSearch(neighbours, weights, p)\n",
        "knn_wine_combine_data.print_best_score_find_by_gridSearch()\n",
        "knn_wine_combine_data.print_score_of_generalisation_on_test_set()"
      ],
      "execution_count": 0,
      "outputs": [
        {
          "output_type": "stream",
          "text": [
            "/usr/local/lib/python3.6/dist-packages/sklearn/model_selection/_split.py:605: Warning: The least populated class in y has only 5 members, which is too few. The minimum number of members in any class cannot be less than n_splits=10.\n",
            "  % (min_groups, self.n_splits)), Warning)\n"
          ],
          "name": "stderr"
        },
        {
          "output_type": "stream",
          "text": [
            "Meilleur résultat de la validation croisée : 0.6563401962670772\n",
            "Meilleur(s) hyperparamètre(s) sur le jeu d'entraînement: {'n_neighbors': 10, 'p': 3, 'weights': 'distance'}\n",
            "\n",
            "Resultat sur le jeu de test : 0.675\n"
          ],
          "name": "stdout"
        }
      ]
    },
    {
      "metadata": {
        "id": "VXToIH049ZpS",
        "colab_type": "code",
        "outputId": "72776e41-ae4b-4709-d04b-2c4a1e805bb1",
        "colab": {
          "base_uri": "https://localhost:8080/",
          "height": 89
        }
      },
      "cell_type": "code",
      "source": [
        "knn_wine_combine_data_2_kind_of_quality_equilibrees.search_by_gridSearch(neighbours, weights, p)\n",
        "knn_wine_combine_data_2_kind_of_quality_equilibrees.print_best_score_find_by_gridSearch()\n",
        "knn_wine_combine_data_2_kind_of_quality_equilibrees.print_score_of_generalisation_on_test_set()"
      ],
      "execution_count": 0,
      "outputs": [
        {
          "output_type": "stream",
          "text": [
            "Meilleur résultat de la validation croisée : 0.7928683796539067\n",
            "Meilleur(s) hyperparamètre(s) sur le jeu d'entraînement: {'n_neighbors': 9, 'p': 1, 'weights': 'distance'}\n",
            "\n",
            "Resultat sur le jeu de test : 0.780\n"
          ],
          "name": "stdout"
        }
      ]
    },
    {
      "metadata": {
        "id": "oX3rvkJB9ZpX",
        "colab_type": "code",
        "outputId": "3cda4fb6-84f0-4a36-82b0-3028cfb074eb",
        "colab": {
          "base_uri": "https://localhost:8080/",
          "height": 89
        }
      },
      "cell_type": "code",
      "source": [
        "knn_wine_combine_data_3_kind_of_quality_equilibrees.search_by_gridSearch(neighbours, weights, p)\n",
        "knn_wine_combine_data_3_kind_of_quality_equilibrees.print_best_score_find_by_gridSearch()\n",
        "knn_wine_combine_data_3_kind_of_quality_equilibrees.print_score_of_generalisation_on_test_set()"
      ],
      "execution_count": 0,
      "outputs": [
        {
          "output_type": "stream",
          "text": [
            "Meilleur résultat de la validation croisée : 0.6491514360313316\n",
            "Meilleur(s) hyperparamètre(s) sur le jeu d'entraînement: {'n_neighbors': 10, 'p': 1, 'weights': 'distance'}\n",
            "\n",
            "Resultat sur le jeu de test : 0.675\n"
          ],
          "name": "stdout"
        }
      ]
    },
    {
      "metadata": {
        "id": "GHQuk-3La7U7",
        "colab_type": "code",
        "outputId": "083a87b6-d021-41cb-e828-09cc1cda08a4",
        "colab": {
          "base_uri": "https://localhost:8080/",
          "height": 89
        }
      },
      "cell_type": "code",
      "source": [
        "knn_wine_combine_data_3_kind_of_quality_desequilibrees.search_by_gridSearch(neighbours, weights, p)\n",
        "knn_wine_combine_data_3_kind_of_quality_desequilibrees.print_best_score_find_by_gridSearch()\n",
        "knn_wine_combine_data_3_kind_of_quality_desequilibrees.print_score_of_generalisation_on_test_set()"
      ],
      "execution_count": 0,
      "outputs": [
        {
          "output_type": "stream",
          "text": [
            "Meilleur résultat de la validation croisée : 0.6934770059649797\n",
            "Meilleur(s) hyperparamètre(s) sur le jeu d'entraînement: {'n_neighbors': 10, 'p': 1, 'weights': 'distance'}\n",
            "\n",
            "Resultat sur le jeu de test : 0.714\n"
          ],
          "name": "stdout"
        }
      ]
    }
  ]
}