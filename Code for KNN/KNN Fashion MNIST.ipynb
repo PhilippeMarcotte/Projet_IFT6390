{
  "nbformat": 4,
  "nbformat_minor": 0,
  "metadata": {
    "colab": {
      "name": "IFT6390 KNN Projet MNIST",
      "version": "0.3.2",
      "provenance": [],
      "collapsed_sections": []
    },
    "kernelspec": {
      "name": "python3",
      "display_name": "Python 3"
    },
    "accelerator": "GPU"
  },
  "cells": [
    {
      "metadata": {
        "id": "BeFLnWwwVHTX",
        "colab_type": "code",
        "colab": {}
      },
      "cell_type": "code",
      "source": [
        "import sklearn\n",
        "import numpy as np\n",
        "import matplotlib.pyplot as plt\n",
        "import itertools\n",
        "\n",
        "from sklearn import datasets\n",
        "from sklearn.neighbors import KNeighborsClassifier\n",
        "from sklearn.metrics import confusion_matrix"
      ],
      "execution_count": 0,
      "outputs": []
    },
    {
      "metadata": {
        "id": "BsPFqOeWhVW5",
        "colab_type": "code",
        "colab": {}
      },
      "cell_type": "code",
      "source": [
        "# Importing MNIST Fashion dataset through Tensorflow\n",
        "\n",
        "import tensorflow as tf\n",
        "from tensorflow import keras\n",
        "fashion_mnist = keras.datasets.fashion_mnist\n",
        "\n",
        "(train_images, train_labels), (test_images, test_labels) = fashion_mnist.load_data()\n",
        "\n",
        "#normalize\n",
        "train_images = train_images / 255.0 \n",
        "test_images = test_images / 255.0\n",
        "\n",
        "# Converting train images\n",
        "trainImages = np.zeros((train_images.shape[0],train_images.shape[1]*train_images.shape[1]))\n",
        "for i, train_image in enumerate(train_images):\n",
        "  trainImages[i] = train_image.flatten()\n",
        "\n",
        "trainLabels = train_labels   # onehotEncode(train_labels) is ok\n",
        "\n",
        "# Creating test set and validation set (10% of train set)\n",
        "validationImages = trainImages[0:6000, :]\n",
        "validationLabels = trainLabels[0:6000]  \n",
        "trainImages = trainImages[6001:60000, :]\n",
        "trainLabels = trainLabels[6001:60000]\n",
        "\n",
        "# Converting test images\n",
        "testImages = np.zeros((test_images.shape[0],test_images.shape[1]*test_images.shape[1]))\n",
        "for i, test_image in enumerate(test_images):\n",
        "  testImages[i] = test_image.flatten()\n",
        "testLabels = test_labels "
      ],
      "execution_count": 0,
      "outputs": []
    },
    {
      "metadata": {
        "id": "i3CtsbmCWBx7",
        "colab_type": "text"
      },
      "cell_type": "markdown",
      "source": [
        "### Utility Functions"
      ]
    },
    {
      "metadata": {
        "id": "GbSL06IbV7rj",
        "colab_type": "code",
        "colab": {}
      },
      "cell_type": "code",
      "source": [
        "def show_target_variable_histogram(y_data, title):\n",
        "  abscisse = range(np.min(y_data), np.max(y_data)+1)\n",
        "  abscisse_categ_list = [(y_data == a).sum() for a in abscisse]\n",
        "  b = plt.bar(abscisse, abscisse_categ_list, color=\"steelblue\")\n",
        "  plt.title(title, fontsize=14)\n",
        "  plt.show()\n",
        "\n",
        "  unique_label, counts_elements = np.unique(y_data, return_counts=True)\n",
        "  # Dictionnaire de \"label : count_of_occurrence\"\n",
        "  print(\"Repartition des : (label, count_of_occurence) \", dict(zip(unique_label, counts_elements)))\n",
        "  \n",
        "def getAccuracyOfMikowskiDegrees(knn, testInputs, testTargets, rangeToLoop):\n",
        "  #reset other param\n",
        "  knn.set_params(n_neighbors = 5)\n",
        "  \n",
        "  cm = 0\n",
        "  accuracyScores = []\n",
        "  for degree in rangeToLoop:\n",
        "    knn.set_params(p = degree)\n",
        "    yPredictedTest = knn.predict(testInputs)\n",
        "    accuracyScores.append(sklearn.metrics.accuracy_score(testTargets, yPredictedTest))\n",
        "    cm = confusion_matrix(yPredictedTest, testTargets) + cm\n",
        "    \n",
        "  print(accuracyScores)\n",
        "  return cm / len(rangeToLoop)\n",
        "  \n",
        "def getAccuracyOfNNeighbors(knn, testInputs, testTargets, rangeToLoop):\n",
        "  #reset other param\n",
        "  knn.set_params(p = 2)\n",
        "  \n",
        "  cm = 0\n",
        "  accuracyScores = []\n",
        "  for n in rangeToLoop:\n",
        "    knn.set_params(n_neighbors = n)\n",
        "    yPredictedTest = knn.predict(testInputs)\n",
        "    accuracyScores.append(sklearn.metrics.accuracy_score(testTargets, yPredictedTest))\n",
        "    cm = confusion_matrix(yPredictedTest, testTargets) + cm\n",
        "\n",
        "  print(accuracyScores)\n",
        "  return cm / len(rangeToLoop)\n",
        "  \n",
        "def plot_confusion_matrix(cm, normalize=False):\n",
        "    classes = ['T-shirt/top', 'Trouser', 'Pullover', 'Dress', 'Coat', 'Sandal', 'Shirt', 'Sneaker', 'Bag', 'Ankle boot']\n",
        "    cmap=plt.cm.Blues\n",
        "\n",
        "    plt.imshow(cm, interpolation='nearest', cmap=cmap)\n",
        "    plt.title('Confusion matrix')\n",
        "    plt.colorbar()\n",
        "    tick_marks = np.arange(len(classes))\n",
        "    plt.xticks(tick_marks, classes, rotation=45)\n",
        "    plt.yticks(tick_marks, classes)\n",
        "\n",
        "    fmt = 'd'\n",
        "    thresh = cm.max() / 2.\n",
        "    for i, j in itertools.product(range(cm.shape[0]), range(cm.shape[1])):\n",
        "       plt.text(j, i, format(cm[i, j], fmt),\n",
        "                horizontalalignment=\"center\",\n",
        "                color=\"white\" if cm[i, j] > thresh else \"black\")\n",
        "\n",
        "    plt.tight_layout()\n",
        "    plt.ylabel('True label')\n",
        "    plt.xlabel('Predicted label')"
      ],
      "execution_count": 0,
      "outputs": []
    },
    {
      "metadata": {
        "id": "lU9pTlsVVnpj",
        "colab_type": "text"
      },
      "cell_type": "markdown",
      "source": [
        "### Label distribution"
      ]
    },
    {
      "metadata": {
        "id": "WyP9-xx0VnP6",
        "colab_type": "code",
        "outputId": "72156ab6-2d26-4cae-e3f1-eb94d4d5fe37",
        "colab": {
          "base_uri": "https://localhost:8080/",
          "height": 1112
        }
      },
      "cell_type": "code",
      "source": [
        "show_target_variable_histogram(trainLabels, \"Repartition des train labels\")\n",
        "show_target_variable_histogram(validationLabels, \"Repartition des validations labels\")\n",
        "show_target_variable_histogram(testLabels, \"Repartition des validations labels\")"
      ],
      "execution_count": 0,
      "outputs": [
        {
          "output_type": "display_data",
          "data": {
            "image/png": "[encoded data removed]",
            "text/plain": [
              "<matplotlib.figure.Figure at 0x7f319464ce48>"
            ]
          },
          "metadata": {
            "tags": []
          }
        },
        {
          "output_type": "stream",
          "text": [
            "Repartition des : (label, count_of_occurence)  {0: 6000, 1: 6000, 2: 6000, 3: 6000, 4: 6000, 5: 6000, 6: 6000, 7: 6000, 8: 6000, 9: 6000}\n"
          ],
          "name": "stdout"
        },
        {
          "output_type": "display_data",
          "data": {
            "image/png": "[encoded data removed]",
            "text/plain": [
              "<matplotlib.figure.Figure at 0x7f315639d390>"
            ]
          },
          "metadata": {
            "tags": []
          }
        },
        {
          "output_type": "stream",
          "text": [
            "Repartition des : (label, count_of_occurence)  {0: 107, 1: 105, 2: 111, 3: 93, 4: 115, 5: 87, 6: 97, 7: 95, 8: 95, 9: 95}\n"
          ],
          "name": "stdout"
        },
        {
          "output_type": "display_data",
          "data": {
            "image/png": "[encoded data removed]",
            "text/plain": [
              "<matplotlib.figure.Figure at 0x7f3194666588>"
            ]
          },
          "metadata": {
            "tags": []
          }
        },
        {
          "output_type": "stream",
          "text": [
            "Repartition des : (label, count_of_occurence)  {0: 892, 1: 895, 2: 889, 3: 907, 4: 885, 5: 913, 6: 903, 7: 905, 8: 905, 9: 905}\n"
          ],
          "name": "stdout"
        }
      ]
    },
    {
      "metadata": {
        "id": "cx6GuuWMVawd",
        "colab_type": "text"
      },
      "cell_type": "markdown",
      "source": [
        "## Hyperparameter search on Original Images dataset"
      ]
    },
    {
      "metadata": {
        "id": "8H56T0iJVYoB",
        "colab_type": "code",
        "outputId": "850970c1-c0a9-41aa-d8e0-4caf1ebe02e0",
        "colab": {
          "base_uri": "https://localhost:8080/",
          "height": 68
        }
      },
      "cell_type": "code",
      "source": [
        "knn = KNeighborsClassifier()\n",
        "knn.fit(trainImages, trainLabels)"
      ],
      "execution_count": 0,
      "outputs": [
        {
          "output_type": "execute_result",
          "data": {
            "text/plain": [
              "KNeighborsClassifier(algorithm='auto', leaf_size=30, metric='minkowski',\n",
              "           metric_params=None, n_jobs=1, n_neighbors=5, p=2,\n",
              "           weights='uniform')"
            ]
          },
          "metadata": {
            "tags": []
          },
          "execution_count": 29
        }
      ]
    },
    {
      "metadata": {
        "id": "yXY55zGroYlK",
        "colab_type": "code",
        "outputId": "d971690b-3e86-45e2-ccb0-48566fc559ed",
        "colab": {
          "base_uri": "https://localhost:8080/",
          "height": 51
        }
      },
      "cell_type": "code",
      "source": [
        "print(knn.get_params())\n",
        "\n",
        "knn.set_params(n_neighbors = 5)\n",
        "\n",
        "print(knn.get_params())"
      ],
      "execution_count": 0,
      "outputs": [
        {
          "output_type": "stream",
          "text": [
            "{'algorithm': 'auto', 'leaf_size': 30, 'metric': 'minkowski', 'metric_params': None, 'n_jobs': 1, 'n_neighbors': 5, 'p': 2, 'weights': 'uniform'}\n",
            "{'algorithm': 'auto', 'leaf_size': 30, 'metric': 'minkowski', 'metric_params': None, 'n_jobs': 1, 'n_neighbors': 5, 'p': 2, 'weights': 'uniform'}\n"
          ],
          "name": "stdout"
        }
      ]
    },
    {
      "metadata": {
        "id": "rldATuLvrFKI",
        "colab_type": "code",
        "outputId": "a999511e-e2ce-443f-c2a5-d22bca9cfe25",
        "colab": {
          "base_uri": "https://localhost:8080/",
          "height": 204
        }
      },
      "cell_type": "code",
      "source": [
        "# Mikowsky degree p from 1 to 5\n",
        "getAccuracyOfMikowskiDegrees(knn, validationImages, validationLabels, range(1, 6))"
      ],
      "execution_count": 0,
      "outputs": [
        {
          "output_type": "stream",
          "text": [
            "[0.8606666666666667, 0.8606666666666667, 0.8606666666666667, 0.8606666666666667, 0.8606666666666667]\n"
          ],
          "name": "stdout"
        },
        {
          "output_type": "execute_result",
          "data": {
            "text/plain": [
              "array([[496.,   4.,   9.,  21.,   5.,   0., 122.,   0.,   2.,   0.],\n",
              "       [  2., 622.,   0.,   3.,   0.,   0.,   1.,   0.,   0.,   0.],\n",
              "       [  5.,   4., 493.,   8.,  74.,   0.,  88.,   0.,   6.,   0.],\n",
              "       [ 11.,  10.,   4., 538.,  16.,   0.,   9.,   0.,   6.,   0.],\n",
              "       [  2.,   0.,  60.,  19., 448.,   0.,  41.,   0.,   3.,   0.],\n",
              "       [  0.,   0.,   0.,   0.,   0., 505.,   0.,   1.,   1.,   0.],\n",
              "       [ 41.,   3.,  39.,  22.,  41.,   2., 323.,   0.,   5.,   0.],\n",
              "       [  0.,   0.,   1.,   0.,   0.,  60.,   0., 589.,   4.,  14.],\n",
              "       [  3.,   0.,   1.,   1.,   0.,   3.,   5.,   0., 562.,   0.],\n",
              "       [  0.,   0.,   1.,   0.,   0.,  24.,   1.,  27.,   1., 588.]])"
            ]
          },
          "metadata": {
            "tags": []
          },
          "execution_count": 33
        }
      ]
    },
    {
      "metadata": {
        "id": "SxyxjlZAv_6J",
        "colab_type": "code",
        "outputId": "3f556295-31cf-44ae-8d28-0377d3065f35",
        "colab": {
          "base_uri": "https://localhost:8080/",
          "height": 374
        }
      },
      "cell_type": "code",
      "source": [
        "# Scores of using 1 to 5 neighbors\n",
        "getAccuracyOfNNeighbors(knn, validationImages, validationLabels, range(1, 6))"
      ],
      "execution_count": 0,
      "outputs": [
        {
          "output_type": "stream",
          "text": [
            "[0.8561666666666666, 0.8525, 0.8585, 0.8615, 0.8606666666666667]\n"
          ],
          "name": "stdout"
        },
        {
          "output_type": "execute_result",
          "data": {
            "text/plain": [
              "array([[4.940e+02, 4.000e+00, 1.320e+01, 2.760e+01, 6.200e+00, 4.000e-01,\n",
              "        1.306e+02, 0.000e+00, 3.400e+00, 0.000e+00],\n",
              "       [2.200e+00, 6.248e+02, 4.000e-01, 4.200e+00, 6.000e-01, 0.000e+00,\n",
              "        6.000e-01, 0.000e+00, 2.000e-01, 0.000e+00],\n",
              "       [6.400e+00, 2.800e+00, 4.944e+02, 7.600e+00, 8.200e+01, 0.000e+00,\n",
              "        9.320e+01, 0.000e+00, 7.600e+00, 0.000e+00],\n",
              "       [1.160e+01, 7.400e+00, 5.200e+00, 5.376e+02, 2.060e+01, 0.000e+00,\n",
              "        9.800e+00, 0.000e+00, 4.000e+00, 0.000e+00],\n",
              "       [1.600e+00, 8.000e-01, 5.580e+01, 1.660e+01, 4.328e+02, 0.000e+00,\n",
              "        4.300e+01, 0.000e+00, 2.600e+00, 0.000e+00],\n",
              "       [0.000e+00, 0.000e+00, 0.000e+00, 0.000e+00, 0.000e+00, 5.230e+02,\n",
              "        0.000e+00, 2.800e+00, 1.000e+00, 3.000e+00],\n",
              "       [4.100e+01, 3.200e+00, 3.620e+01, 1.700e+01, 4.160e+01, 1.600e+00,\n",
              "        3.078e+02, 0.000e+00, 6.800e+00, 4.000e-01],\n",
              "       [0.000e+00, 0.000e+00, 1.000e+00, 0.000e+00, 2.000e-01, 4.560e+01,\n",
              "        0.000e+00, 5.932e+02, 4.000e+00, 1.860e+01],\n",
              "       [3.200e+00, 0.000e+00, 8.000e-01, 1.400e+00, 0.000e+00, 2.600e+00,\n",
              "        4.400e+00, 0.000e+00, 5.596e+02, 0.000e+00],\n",
              "       [0.000e+00, 0.000e+00, 1.000e+00, 0.000e+00, 0.000e+00, 2.080e+01,\n",
              "        6.000e-01, 2.100e+01, 8.000e-01, 5.800e+02]])"
            ]
          },
          "metadata": {
            "tags": []
          },
          "execution_count": 34
        }
      ]
    },
    {
      "metadata": {
        "id": "blrdYAqcwtfy",
        "colab_type": "code",
        "outputId": "addcd0e3-b38e-4bd0-c54b-a0c730159c10",
        "colab": {
          "base_uri": "https://localhost:8080/",
          "height": 374
        }
      },
      "cell_type": "code",
      "source": [
        "# Scores of using 6 to 10 neighbors\n",
        "getAccuracyOfNNeighbors(knn, validationImages, validationLabels, range(6, 11))"
      ],
      "execution_count": 0,
      "outputs": [
        {
          "output_type": "stream",
          "text": [
            "[0.8603333333333333, 0.8565, 0.8605, 0.8571666666666666, 0.8603333333333333]\n"
          ],
          "name": "stdout"
        },
        {
          "output_type": "execute_result",
          "data": {
            "text/plain": [
              "array([[4.952e+02, 3.200e+00, 1.100e+01, 2.040e+01, 5.000e+00, 0.000e+00,\n",
              "        1.300e+02, 0.000e+00, 1.200e+00, 0.000e+00],\n",
              "       [2.400e+00, 6.204e+02, 0.000e+00, 2.000e+00, 2.000e-01, 0.000e+00,\n",
              "        1.000e+00, 0.000e+00, 0.000e+00, 0.000e+00],\n",
              "       [6.600e+00, 4.000e+00, 4.822e+02, 7.000e+00, 7.000e+01, 0.000e+00,\n",
              "        8.040e+01, 0.000e+00, 9.200e+00, 0.000e+00],\n",
              "       [1.300e+01, 1.160e+01, 4.000e+00, 5.396e+02, 1.460e+01, 0.000e+00,\n",
              "        9.200e+00, 0.000e+00, 5.800e+00, 0.000e+00],\n",
              "       [1.800e+00, 0.000e+00, 5.880e+01, 1.700e+01, 4.522e+02, 0.000e+00,\n",
              "        4.020e+01, 0.000e+00, 4.000e+00, 0.000e+00],\n",
              "       [0.000e+00, 0.000e+00, 0.000e+00, 0.000e+00, 0.000e+00, 5.100e+02,\n",
              "        0.000e+00, 1.000e+00, 1.000e+00, 8.000e-01],\n",
              "       [3.740e+01, 3.800e+00, 4.820e+01, 2.500e+01, 4.200e+01, 2.000e+00,\n",
              "        3.228e+02, 0.000e+00, 7.200e+00, 1.000e+00],\n",
              "       [0.000e+00, 0.000e+00, 1.600e+00, 0.000e+00, 0.000e+00, 5.440e+01,\n",
              "        0.000e+00, 5.932e+02, 4.000e+00, 1.680e+01],\n",
              "       [3.600e+00, 0.000e+00, 1.200e+00, 1.000e+00, 0.000e+00, 3.000e+00,\n",
              "        5.400e+00, 1.000e+00, 5.548e+02, 0.000e+00],\n",
              "       [0.000e+00, 0.000e+00, 1.000e+00, 0.000e+00, 0.000e+00, 2.460e+01,\n",
              "        1.000e+00, 2.180e+01, 2.800e+00, 5.834e+02]])"
            ]
          },
          "metadata": {
            "tags": []
          },
          "execution_count": 35
        }
      ]
    },
    {
      "metadata": {
        "id": "hScAAD-ItWDs",
        "colab_type": "code",
        "outputId": "e4fdd399-8269-4a91-b4b2-3f2a1e6b46cc",
        "colab": {
          "base_uri": "https://localhost:8080/",
          "height": 374
        }
      },
      "cell_type": "code",
      "source": [
        "# Scores of using specific nbr of neighbors\n",
        "getAccuracyOfNNeighbors(knn, validationImages, validationLabels, [100, 200, 300, 400, 500])"
      ],
      "execution_count": 0,
      "outputs": [
        {
          "output_type": "stream",
          "text": [
            "[0.8235, 0.8088333333333333, 0.7993333333333333, 0.7915, 0.7871666666666667]\n"
          ],
          "name": "stdout"
        },
        {
          "output_type": "execute_result",
          "data": {
            "text/plain": [
              "array([[4.820e+02, 4.800e+00, 7.400e+00, 3.420e+01, 4.000e+00, 1.600e+00,\n",
              "        1.572e+02, 0.000e+00, 2.000e+00, 0.000e+00],\n",
              "       [1.000e+00, 6.042e+02, 0.000e+00, 4.000e+00, 0.000e+00, 0.000e+00,\n",
              "        2.000e+00, 0.000e+00, 8.000e-01, 0.000e+00],\n",
              "       [9.400e+00, 1.020e+01, 4.098e+02, 4.800e+00, 6.440e+01, 0.000e+00,\n",
              "        8.580e+01, 0.000e+00, 1.220e+01, 0.000e+00],\n",
              "       [2.860e+01, 1.220e+01, 2.000e+00, 5.244e+02, 1.020e+01, 0.000e+00,\n",
              "        1.200e+01, 0.000e+00, 1.060e+01, 0.000e+00],\n",
              "       [6.800e+00, 4.000e+00, 9.220e+01, 2.160e+01, 4.276e+02, 0.000e+00,\n",
              "        5.880e+01, 0.000e+00, 7.800e+00, 0.000e+00],\n",
              "       [0.000e+00, 0.000e+00, 0.000e+00, 0.000e+00, 0.000e+00, 4.294e+02,\n",
              "        0.000e+00, 2.000e+00, 1.000e+00, 1.600e+00],\n",
              "       [2.640e+01, 7.600e+00, 9.360e+01, 2.240e+01, 7.780e+01, 6.800e+00,\n",
              "        2.640e+02, 0.000e+00, 1.340e+01, 4.000e+00],\n",
              "       [6.000e-01, 0.000e+00, 1.000e+00, 0.000e+00, 0.000e+00, 1.018e+02,\n",
              "        6.000e-01, 5.698e+02, 1.460e+01, 1.980e+01],\n",
              "       [5.200e+00, 0.000e+00, 2.000e+00, 6.000e-01, 0.000e+00, 3.800e+00,\n",
              "        8.600e+00, 0.000e+00, 5.246e+02, 0.000e+00],\n",
              "       [0.000e+00, 0.000e+00, 0.000e+00, 0.000e+00, 0.000e+00, 5.060e+01,\n",
              "        1.000e+00, 4.520e+01, 3.000e+00, 5.766e+02]])"
            ]
          },
          "metadata": {
            "tags": []
          },
          "execution_count": 36
        }
      ]
    },
    {
      "metadata": {
        "id": "cvoSurXbDtgw",
        "colab_type": "text"
      },
      "cell_type": "markdown",
      "source": [
        "## Hyperparameter search on the Downsampled images dataset"
      ]
    },
    {
      "metadata": {
        "id": "SMq88zQuISgv",
        "colab_type": "text"
      },
      "cell_type": "markdown",
      "source": [
        "Import"
      ]
    },
    {
      "metadata": {
        "id": "61zyMXqfIKqg",
        "colab_type": "code",
        "outputId": "1cbd26ad-acb9-4f5d-bd97-e1bc4398f165",
        "colab": {
          "base_uri": "https://localhost:8080/",
          "height": 289
        }
      },
      "cell_type": "code",
      "source": [
        "!pip install -U scikit-image\n",
        "\n",
        "import skimage\n",
        "from skimage.transform import rescale"
      ],
      "execution_count": 0,
      "outputs": [
        {
          "output_type": "stream",
          "text": [
            "Requirement already up-to-date: scikit-image in /usr/local/lib/python3.6/dist-packages (0.14.1)\n",
            "Requirement already satisfied, skipping upgrade: six>=1.10.0 in /usr/local/lib/python3.6/dist-packages (from scikit-image) (1.11.0)\n",
            "Requirement already satisfied, skipping upgrade: matplotlib>=2.0.0 in /usr/local/lib/python3.6/dist-packages (from scikit-image) (2.1.2)\n",
            "Requirement already satisfied, skipping upgrade: dask[array]>=0.9.0 in /usr/local/lib/python3.6/dist-packages (from scikit-image) (1.0.0)\n",
            "Requirement already satisfied, skipping upgrade: networkx>=1.8 in /usr/local/lib/python3.6/dist-packages (from scikit-image) (2.2)\n",
            "Requirement already satisfied, skipping upgrade: scipy>=0.17.0 in /usr/local/lib/python3.6/dist-packages (from scikit-image) (1.1.0)\n",
            "Requirement already satisfied, skipping upgrade: PyWavelets>=0.4.0 in /usr/local/lib/python3.6/dist-packages (from scikit-image) (1.0.1)\n",
            "Requirement already satisfied, skipping upgrade: pillow>=4.3.0 in /usr/local/lib/python3.6/dist-packages (from scikit-image) (5.3.0)\n",
            "Requirement already satisfied, skipping upgrade: cloudpickle>=0.2.1 in /usr/local/lib/python3.6/dist-packages (from scikit-image) (0.6.1)\n",
            "Requirement already satisfied, skipping upgrade: pyparsing!=2.0.4,!=2.1.2,!=2.1.6,>=2.0.1 in /usr/local/lib/python3.6/dist-packages (from matplotlib>=2.0.0->scikit-image) (2.3.0)\n",
            "Requirement already satisfied, skipping upgrade: numpy>=1.7.1 in /usr/local/lib/python3.6/dist-packages (from matplotlib>=2.0.0->scikit-image) (1.14.6)\n",
            "Requirement already satisfied, skipping upgrade: pytz in /usr/local/lib/python3.6/dist-packages (from matplotlib>=2.0.0->scikit-image) (2018.7)\n",
            "Requirement already satisfied, skipping upgrade: cycler>=0.10 in /usr/local/lib/python3.6/dist-packages (from matplotlib>=2.0.0->scikit-image) (0.10.0)\n",
            "Requirement already satisfied, skipping upgrade: python-dateutil>=2.1 in /usr/local/lib/python3.6/dist-packages (from matplotlib>=2.0.0->scikit-image) (2.5.3)\n",
            "Requirement already satisfied, skipping upgrade: toolz>=0.7.3; extra == \"array\" in /usr/local/lib/python3.6/dist-packages (from dask[array]>=0.9.0->scikit-image) (0.9.0)\n",
            "Requirement already satisfied, skipping upgrade: decorator>=4.3.0 in /usr/local/lib/python3.6/dist-packages (from networkx>=1.8->scikit-image) (4.3.0)\n"
          ],
          "name": "stdout"
        }
      ]
    },
    {
      "metadata": {
        "id": "TEOcnCoyDyYs",
        "colab_type": "text"
      },
      "cell_type": "markdown",
      "source": [
        "Downsample the images"
      ]
    },
    {
      "metadata": {
        "id": "6j5xQmiNDxHu",
        "colab_type": "code",
        "outputId": "941ba597-2a78-44f2-ebc4-9c8a6ea91f1b",
        "colab": {
          "base_uri": "https://localhost:8080/",
          "height": 139
        }
      },
      "cell_type": "code",
      "source": [
        "# downsampling and flattening train images\n",
        "trainImagesDown = np.zeros((train_images.shape[0], 196))\n",
        "for i, train_image in enumerate(train_images):\n",
        "  trainImagesDown[i] = rescale(train_image, 0.5).flatten()\n",
        "\n",
        "# Creating test set and validation set (10% of train set)\n",
        "validationImagesDown = trainImagesDown[0:6000, :]\n",
        "trainImagesDown = trainImagesDown[6001:60000, :]\n",
        "\n",
        "# downsampling and flattening test images\n",
        "testImagesDown = np.zeros((test_images.shape[0], 196))\n",
        "for i, test_image in enumerate(test_images):\n",
        "  testImagesDown[i] = rescale(test_image, 0.5).flatten()"
      ],
      "execution_count": 0,
      "outputs": [
        {
          "output_type": "stream",
          "text": [
            "/usr/local/lib/python3.6/dist-packages/skimage/transform/_warps.py:24: UserWarning: The default multichannel argument (None) is deprecated.  Please specify either True or False explicitly.  multichannel will default to False starting with release 0.16.\n",
            "  warn('The default multichannel argument (None) is deprecated.  Please '\n",
            "/usr/local/lib/python3.6/dist-packages/skimage/transform/_warps.py:105: UserWarning: The default mode, 'constant', will be changed to 'reflect' in skimage 0.15.\n",
            "  warn(\"The default mode, 'constant', will be changed to 'reflect' in \"\n",
            "/usr/local/lib/python3.6/dist-packages/skimage/transform/_warps.py:110: UserWarning: Anti-aliasing will be enabled by default in skimage 0.15 to avoid aliasing artifacts when down-sampling images.\n",
            "  warn(\"Anti-aliasing will be enabled by default in skimage 0.15 to \"\n"
          ],
          "name": "stderr"
        }
      ]
    },
    {
      "metadata": {
        "id": "rB3iQippLGM7",
        "colab_type": "text"
      },
      "cell_type": "markdown",
      "source": [
        "Train"
      ]
    },
    {
      "metadata": {
        "id": "X5Qj-ueYLHjG",
        "colab_type": "code",
        "outputId": "338baa9c-2ad9-42de-afcd-05af34c2cfac",
        "colab": {
          "base_uri": "https://localhost:8080/",
          "height": 51
        }
      },
      "cell_type": "code",
      "source": [
        "knnDown = KNeighborsClassifier()\n",
        "knnDown.fit(trainImagesDown, trainLabels)\n",
        "print(trainImagesDown.shape)\n",
        "print(testImagesDown.shape)"
      ],
      "execution_count": 0,
      "outputs": [
        {
          "output_type": "stream",
          "text": [
            "(53999, 196)\n",
            "(10000, 196)\n"
          ],
          "name": "stdout"
        }
      ]
    },
    {
      "metadata": {
        "id": "faBhn0vELU5R",
        "colab_type": "text"
      },
      "cell_type": "markdown",
      "source": [
        "Test"
      ]
    },
    {
      "metadata": {
        "id": "HCy7q_-_RErO",
        "colab_type": "code",
        "outputId": "2afe2d9d-c2c1-430b-929e-16d77c72f64c",
        "colab": {
          "base_uri": "https://localhost:8080/",
          "height": 204
        }
      },
      "cell_type": "code",
      "source": [
        "# Mikowsky degree p from 1 to 5\n",
        "getAccuracyOfMikowskiDegrees(knnDown, validationImagesDown, validationLabels, range(1, 6))"
      ],
      "execution_count": 0,
      "outputs": [
        {
          "output_type": "stream",
          "text": [
            "[0.8646666666666667, 0.8646666666666667, 0.8646666666666667, 0.8646666666666667, 0.8646666666666667]\n"
          ],
          "name": "stdout"
        },
        {
          "output_type": "execute_result",
          "data": {
            "text/plain": [
              "array([[482.,   3.,   7.,  19.,   4.,   0., 116.,   0.,   2.,   0.],\n",
              "       [  2., 622.,   0.,   7.,   1.,   0.,   2.,   0.,   0.,   0.],\n",
              "       [  8.,   4., 490.,   6.,  71.,   0.,  84.,   0.,   6.,   0.],\n",
              "       [ 13.,  10.,   2., 548.,  15.,   0.,  10.,   0.,   4.,   0.],\n",
              "       [  3.,   2.,  66.,  15., 449.,   0.,  46.,   0.,   4.,   0.],\n",
              "       [  0.,   0.,   0.,   0.,   0., 533.,   0.,   3.,   1.,   2.],\n",
              "       [ 49.,   2.,  41.,  15.,  43.,   1., 326.,   0.,   5.,   1.],\n",
              "       [  0.,   0.,   1.,   0.,   0.,  37.,   0., 593.,   4.,  17.],\n",
              "       [  3.,   0.,   0.,   2.,   1.,   2.,   5.,   0., 563.,   0.],\n",
              "       [  0.,   0.,   1.,   0.,   0.,  21.,   1.,  21.,   1., 582.]])"
            ]
          },
          "metadata": {
            "tags": []
          },
          "execution_count": 40
        }
      ]
    },
    {
      "metadata": {
        "id": "rog4xdlvc8Cj",
        "colab_type": "code",
        "outputId": "309c725f-b735-4c66-c1df-5c3e952f4b51",
        "colab": {
          "base_uri": "https://localhost:8080/",
          "height": 374
        }
      },
      "cell_type": "code",
      "source": [
        "# Scores of using 1 to 5 neighbors\n",
        "getAccuracyOfNNeighbors(knnDown, validationImagesDown, validationLabels, range(1, 6))"
      ],
      "execution_count": 0,
      "outputs": [
        {
          "output_type": "stream",
          "text": [
            "[0.8526666666666667, 0.8483333333333334, 0.8621666666666666, 0.8666666666666667, 0.8646666666666667]\n"
          ],
          "name": "stdout"
        },
        {
          "output_type": "execute_result",
          "data": {
            "text/plain": [
              "array([[4.864e+02, 4.200e+00, 1.200e+01, 2.300e+01, 4.400e+00, 4.000e-01,\n",
              "        1.248e+02, 0.000e+00, 2.400e+00, 0.000e+00],\n",
              "       [2.800e+00, 6.242e+02, 0.000e+00, 1.280e+01, 1.000e+00, 0.000e+00,\n",
              "        1.400e+00, 0.000e+00, 0.000e+00, 0.000e+00],\n",
              "       [6.800e+00, 2.600e+00, 4.894e+02, 7.000e+00, 8.520e+01, 2.000e-01,\n",
              "        8.880e+01, 0.000e+00, 6.600e+00, 0.000e+00],\n",
              "       [1.360e+01, 8.200e+00, 3.600e+00, 5.374e+02, 2.000e+01, 0.000e+00,\n",
              "        1.220e+01, 0.000e+00, 3.200e+00, 0.000e+00],\n",
              "       [1.800e+00, 1.600e+00, 6.180e+01, 1.360e+01, 4.280e+02, 0.000e+00,\n",
              "        4.580e+01, 0.000e+00, 2.600e+00, 0.000e+00],\n",
              "       [2.000e-01, 0.000e+00, 0.000e+00, 0.000e+00, 0.000e+00, 5.424e+02,\n",
              "        0.000e+00, 5.200e+00, 1.000e+00, 5.000e+00],\n",
              "       [4.540e+01, 2.200e+00, 3.940e+01, 1.640e+01, 4.480e+01, 8.000e-01,\n",
              "        3.114e+02, 0.000e+00, 5.600e+00, 8.000e-01],\n",
              "       [0.000e+00, 0.000e+00, 1.000e+00, 0.000e+00, 2.000e-01, 3.100e+01,\n",
              "        0.000e+00, 5.934e+02, 4.400e+00, 1.900e+01],\n",
              "       [3.000e+00, 0.000e+00, 0.000e+00, 1.800e+00, 4.000e-01, 1.400e+00,\n",
              "        5.000e+00, 0.000e+00, 5.636e+02, 0.000e+00],\n",
              "       [0.000e+00, 0.000e+00, 8.000e-01, 0.000e+00, 0.000e+00, 1.780e+01,\n",
              "        6.000e-01, 1.840e+01, 6.000e-01, 5.772e+02]])"
            ]
          },
          "metadata": {
            "tags": []
          },
          "execution_count": 41
        }
      ]
    },
    {
      "metadata": {
        "id": "MqXLDVs-jrl3",
        "colab_type": "code",
        "outputId": "b1d4abdd-4ce8-4cc6-c6b8-a41ed10a3dc5",
        "colab": {
          "base_uri": "https://localhost:8080/",
          "height": 374
        }
      },
      "cell_type": "code",
      "source": [
        "# Scores of using 6 to 10 neighbors\n",
        "getAccuracyOfNNeighbors(knnDown, validationImagesDown, validationLabels, range(6, 11))"
      ],
      "execution_count": 0,
      "outputs": [
        {
          "output_type": "stream",
          "text": [
            "[0.863, 0.864, 0.8633333333333333, 0.8653333333333333, 0.8646666666666667]\n"
          ],
          "name": "stdout"
        },
        {
          "output_type": "execute_result",
          "data": {
            "text/plain": [
              "array([[4.864e+02, 3.200e+00, 9.800e+00, 1.660e+01, 2.400e+00, 6.000e-01,\n",
              "        1.240e+02, 0.000e+00, 1.000e+00, 0.000e+00],\n",
              "       [3.200e+00, 6.198e+02, 0.000e+00, 8.400e+00, 2.000e-01, 0.000e+00,\n",
              "        2.800e+00, 0.000e+00, 0.000e+00, 0.000e+00],\n",
              "       [8.600e+00, 3.400e+00, 4.858e+02, 5.400e+00, 6.620e+01, 0.000e+00,\n",
              "        8.240e+01, 0.000e+00, 6.800e+00, 0.000e+00],\n",
              "       [1.440e+01, 1.060e+01, 3.200e+00, 5.456e+02, 1.560e+01, 0.000e+00,\n",
              "        1.040e+01, 0.000e+00, 4.800e+00, 0.000e+00],\n",
              "       [3.000e+00, 2.600e+00, 6.840e+01, 1.400e+01, 4.566e+02, 0.000e+00,\n",
              "        4.580e+01, 0.000e+00, 2.200e+00, 0.000e+00],\n",
              "       [0.000e+00, 0.000e+00, 0.000e+00, 0.000e+00, 0.000e+00, 5.354e+02,\n",
              "        0.000e+00, 3.200e+00, 1.000e+00, 2.200e+00],\n",
              "       [4.100e+01, 3.400e+00, 3.840e+01, 1.960e+01, 4.200e+01, 4.000e-01,\n",
              "        3.162e+02, 0.000e+00, 5.000e+00, 2.000e-01],\n",
              "       [0.000e+00, 0.000e+00, 1.000e+00, 0.000e+00, 0.000e+00, 3.920e+01,\n",
              "        0.000e+00, 5.930e+02, 3.200e+00, 1.820e+01],\n",
              "       [3.400e+00, 0.000e+00, 4.000e-01, 2.400e+00, 1.000e+00, 2.600e+00,\n",
              "        7.400e+00, 0.000e+00, 5.642e+02, 0.000e+00],\n",
              "       [0.000e+00, 0.000e+00, 1.000e+00, 0.000e+00, 0.000e+00, 1.580e+01,\n",
              "        1.000e+00, 2.080e+01, 1.800e+00, 5.814e+02]])"
            ]
          },
          "metadata": {
            "tags": []
          },
          "execution_count": 42
        }
      ]
    },
    {
      "metadata": {
        "id": "wgP7L1ySlQos",
        "colab_type": "code",
        "outputId": "7e9ca0a6-e8d8-4b5f-9ac3-d728f94f9611",
        "colab": {
          "base_uri": "https://localhost:8080/",
          "height": 374
        }
      },
      "cell_type": "code",
      "source": [
        "# Scores of using specific nbr of neighbors\n",
        "getAccuracyOfNNeighbors(knnDown, validationImagesDown, validationLabels, [100, 200, 300, 400, 500])"
      ],
      "execution_count": 0,
      "outputs": [
        {
          "output_type": "stream",
          "text": [
            "[0.8275, 0.816, 0.8016666666666666, 0.7955, 0.7901666666666667]\n"
          ],
          "name": "stdout"
        },
        {
          "output_type": "execute_result",
          "data": {
            "text/plain": [
              "array([[4.744e+02, 4.800e+00, 5.600e+00, 2.680e+01, 2.600e+00, 1.200e+00,\n",
              "        1.466e+02, 0.000e+00, 1.800e+00, 0.000e+00],\n",
              "       [2.200e+00, 6.020e+02, 0.000e+00, 1.220e+01, 1.800e+00, 0.000e+00,\n",
              "        3.200e+00, 0.000e+00, 1.000e+00, 0.000e+00],\n",
              "       [9.200e+00, 1.140e+01, 4.082e+02, 4.600e+00, 6.960e+01, 0.000e+00,\n",
              "        8.140e+01, 0.000e+00, 1.300e+01, 0.000e+00],\n",
              "       [3.460e+01, 1.540e+01, 3.200e+00, 5.296e+02, 1.780e+01, 8.000e-01,\n",
              "        1.940e+01, 0.000e+00, 1.100e+01, 2.000e-01],\n",
              "       [5.800e+00, 5.000e+00, 1.004e+02, 1.660e+01, 4.162e+02, 0.000e+00,\n",
              "        5.320e+01, 0.000e+00, 5.000e+00, 0.000e+00],\n",
              "       [0.000e+00, 0.000e+00, 0.000e+00, 0.000e+00, 0.000e+00, 4.664e+02,\n",
              "        0.000e+00, 4.400e+00, 1.000e+00, 3.400e+00],\n",
              "       [2.820e+01, 4.400e+00, 8.720e+01, 2.120e+01, 7.460e+01, 1.200e+00,\n",
              "        2.752e+02, 0.000e+00, 1.260e+01, 3.400e+00],\n",
              "       [6.000e-01, 0.000e+00, 1.400e+00, 0.000e+00, 0.000e+00, 8.120e+01,\n",
              "        4.000e-01, 5.652e+02, 1.280e+01, 2.400e+01],\n",
              "       [5.000e+00, 0.000e+00, 2.000e+00, 1.000e+00, 1.400e+00, 4.600e+00,\n",
              "        9.600e+00, 0.000e+00, 5.288e+02, 0.000e+00],\n",
              "       [0.000e+00, 0.000e+00, 0.000e+00, 0.000e+00, 0.000e+00, 3.860e+01,\n",
              "        1.000e+00, 4.740e+01, 3.000e+00, 5.710e+02]])"
            ]
          },
          "metadata": {
            "tags": []
          },
          "execution_count": 43
        }
      ]
    },
    {
      "metadata": {
        "id": "wACZ-MA58dud",
        "colab_type": "text"
      },
      "cell_type": "markdown",
      "source": [
        "## Confusion matrices"
      ]
    },
    {
      "metadata": {
        "id": "zKPnACi0ToUW",
        "colab_type": "code",
        "colab": {}
      },
      "cell_type": "code",
      "source": [
        "## Confusion matrix on default hyper params that give good results\n",
        "\n",
        "##Downsampled\n",
        "\n",
        "knnDown.set_params(n_neighbors=5, p=2)\n",
        "yPredictedTestDown = knnDown.predict(testImagesDown)\n",
        "\n",
        "##Not Downsampled\n",
        "knn.set_params(n_neighbors=5, p=2)\n",
        "yPredictedTest = knn.predict(testImages)"
      ],
      "execution_count": 0,
      "outputs": []
    },
    {
      "metadata": {
        "id": "HC4_r6Gr8vO8",
        "colab_type": "text"
      },
      "cell_type": "markdown",
      "source": [
        "### Downsampled"
      ]
    },
    {
      "metadata": {
        "id": "qlNhqYewgHpB",
        "colab_type": "code",
        "outputId": "9b69bc78-3eed-4124-e911-b1cc648c62db",
        "colab": {
          "base_uri": "https://localhost:8080/",
          "height": 466
        }
      },
      "cell_type": "code",
      "source": [
        "##Downsampled\n",
        "print(yPredictedTestDown.shape)\n",
        "print(testLabels.shape)\n",
        "cm = confusion_matrix(testLabels, yPredictedTestDown)\n",
        "plot_confusion_matrix(cm)\n",
        "\n",
        "accuracyScore = sklearn.metrics.accuracy_score(testLabels, yPredictedTestDown)\n",
        "print(accuracyScore)"
      ],
      "execution_count": 0,
      "outputs": [
        {
          "output_type": "stream",
          "text": [
            "(10000,)\n",
            "(10000,)\n",
            "0.8502\n"
          ],
          "name": "stdout"
        },
        {
          "output_type": "display_data",
          "data": {
            "image/png": "[encoded data removed]",
            "text/plain": [
              "<matplotlib.figure.Figure at 0x7f42e15c30b8>"
            ]
          },
          "metadata": {
            "tags": []
          }
        }
      ]
    },
    {
      "metadata": {
        "id": "ynM7WTWj8onz",
        "colab_type": "text"
      },
      "cell_type": "markdown",
      "source": [
        "### Not downsampled"
      ]
    },
    {
      "metadata": {
        "id": "2HVosz4ygXML",
        "colab_type": "code",
        "outputId": "e992bf81-7874-43ae-e246-31d3f78597fc",
        "colab": {
          "base_uri": "https://localhost:8080/",
          "height": 466
        }
      },
      "cell_type": "code",
      "source": [
        "##Not Downsampled\n",
        "print(yPredictedTestDown.shape)\n",
        "print(testLabels.shape)\n",
        "cm = confusion_matrix(testLabels, yPredictedTest)\n",
        "plot_confusion_matrix(cm)\n",
        "\n",
        "accuracyScore = sklearn.metrics.accuracy_score(testLabels, yPredictedTest)\n",
        "print(accuracyScore)"
      ],
      "execution_count": 0,
      "outputs": [
        {
          "output_type": "stream",
          "text": [
            "(10000,)\n",
            "(10000,)\n",
            "0.8541\n"
          ],
          "name": "stdout"
        },
        {
          "output_type": "display_data",
          "data": {
            "image/png": "[encoded data removed]",
            "text/plain": [
              "<matplotlib.figure.Figure at 0x7f42e16f8fd0>"
            ]
          },
          "metadata": {
            "tags": []
          }
        }
      ]
    }
  ]
}