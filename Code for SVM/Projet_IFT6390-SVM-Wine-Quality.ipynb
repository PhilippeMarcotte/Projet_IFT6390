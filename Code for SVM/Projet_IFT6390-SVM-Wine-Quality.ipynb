{
 "cells": [
  {
   "cell_type": "markdown",
   "metadata": {
    "colab_type": "text",
    "id": "imvr5vFncj3Y"
   },
   "source": [
    "## **Le 16/11/2018 au soir**"
   ]
  },
  {
   "cell_type": "markdown",
   "metadata": {
    "colab_type": "text",
    "id": "HFJUV_YuttbL"
   },
   "source": [
    "## I) Importation des données \"White Wine\""
   ]
  },
  {
   "cell_type": "code",
   "execution_count": 1,
   "metadata": {
    "colab": {},
    "colab_type": "code",
    "id": "Nej3AdS0tmDJ"
   },
   "outputs": [],
   "source": [
    "import pandas as pd\n",
    "import numpy as np\n",
    "import matplotlib.pyplot as plt\n",
    "from sklearn.preprocessing import StandardScaler\n",
    "from sklearn.utils import resample\n",
    "\n",
    "# Classe de gestion du dataset\n",
    "class data_set:\n",
    "    \n",
    "    # chargement des données via le constructeur\n",
    "    def __init__(self, name_to_print, *names_of_file):\n",
    "        self.wine_name = name_to_print\n",
    "        if(len(names_of_file)==2):\n",
    "            df1 = pd.read_csv(names_of_file[0],\n",
    "                            sep=\";\",\n",
    "                            header=0)\n",
    "            df2 = pd.read_csv(names_of_file[1],\n",
    "                            sep=\";\",\n",
    "                            header=0)\n",
    "            self.wine_data = pd.concat([df1, df2])  \n",
    "        else:\n",
    "            self.wine_data = pd.read_csv(names_of_file[0],\n",
    "                          sep=\";\",\n",
    "                          header=0)\n",
    "        \n",
    "        self.NB_RECORDS_WINE_DATA_INITIAL = self.wine_data.shape[0]\n",
    "        self.COLUMNS_NAMES = self.wine_data.columns\n",
    "        # Nb of categories in quality label\n",
    "        self.k = 0\n",
    "        \n",
    "    # Affichage du Shape du dataset\n",
    "    def print_shape(self):\n",
    "        print(self.wine_name, self.wine_data.shape)\n",
    "\n",
    "    # Affichage des 1ères lignes du dataset\n",
    "    def print_head(self):\n",
    "        print(self.wine_name)\n",
    "        return self.wine_data.head()\n",
    "        \n",
    "    # Affichage des noms de colonnes du dataset\n",
    "    def print_columns_names(self):\n",
    "        print(self.wine_name)\n",
    "        return self.COLUMNS_NAMES\n",
    "    \n",
    "    # Description statistique des features du dataset\n",
    "    def print_describe_stats_of_data(self):\n",
    "        print(self.wine_name)\n",
    "        return self.wine_data.describe()\n",
    "\n",
    "    # Indique s'il y a des valeurs manquantes\n",
    "    def print_is_missing_values_by_columns(self):\n",
    "        print(self.wine_name, \"nb de vals manquantes par colonne :\\n\", wine_data.isna().sum())        \n",
    "        \n",
    "    # Compte les occurrences par catégorie de la valeur cible\n",
    "    def print_count_occurences_by_target_variable(self):\n",
    "        print(self.wine_name + \"\\n\", self.wine_data[\"quality\"].value_counts())\n",
    "    \n",
    "    # Split du dataset en X_data et y_data\n",
    "    def split_data_to_X_and_y(self):\n",
    "        self.X_data = self.wine_data.as_matrix(self.wine_data.columns[:-1])\n",
    "        self.y_data = self.wine_data.as_matrix([self.wine_data.columns[-1]])\n",
    "        self.y_data = self.y_data.flatten()\n",
    "        \n",
    "        print(\"=============== New shape of \"+self.wine_name+ \" Data after split=============\")\n",
    "        # Split du dataset en X_data (features prédictives) et y_data (variable cible à prédire)\n",
    "        print(self.X_data.shape)\n",
    "        print(self.y_data.shape)        \n",
    "\n",
    "    # Affiche l'histogramme des features\n",
    "    def show_histogram_of_features(self):\n",
    "        # On créé un histogramme pour chacun des features pour voir leur distribution\n",
    "        fig = plt.figure(figsize=(16, 12))\n",
    "        for feature_index in range(self.X_data.shape[1]):\n",
    "            # 12 figures d'histogrammes en 3 rows et 4 colonnes \n",
    "            ax = fig.add_subplot(3,4, (feature_index+1))\n",
    "            # Histogramme bleu de 50 bins\n",
    "            h = ax.hist(self.X_data[:, feature_index], bins=50, color='steelblue',\n",
    "                    normed=True, edgecolor='none')\n",
    "            # On met un titre à chaque histogram\n",
    "            ax.set_title(self.COLUMNS_NAMES[feature_index], fontsize=14)\n",
    "    \n",
    "    # Affiche l'histogramme montrant la répartition des catégories de la target variable\n",
    "    def show_target_variable_histogram(self):\n",
    "        abscisse = range(np.min(self.y_data), np.max(self.y_data)+1)\n",
    "        abscisse_categ_list = [(self.y_data == a).sum() for a in abscisse]\n",
    "        b = plt.bar(abscisse, abscisse_categ_list, color=\"steelblue\")\n",
    "        title_to_show = \"Repartition des labels \\\"Quality\\\" \" + \"for \"+self.wine_name\n",
    "        plt.title(title_to_show, fontsize=14)\n",
    "        plt.show()\n",
    "\n",
    "        unique_label, counts_elements = np.unique(self.y_data, return_counts=True)\n",
    "        # Dictionnaire de \"label : count_of_occurrence\"\n",
    "        print(\"Repartition des : (label, count_of_occurence) \", dict(zip(unique_label, counts_elements)))        \n",
    "    \n",
    "    # Split de manière équilibrée le dataset en k catégories \n",
    "    def convert_ylabel_into_k_categories_equilibre(self, k_categ = 3):\n",
    "        if(k_categ == 2):\n",
    "            np.place(self.wine_data[\"quality\"].values, self.wine_data[\"quality\"].values < 6, 0)\n",
    "            np.place(self.wine_data[\"quality\"].values, self.wine_data[\"quality\"].values >= 6, 1)\n",
    "            \n",
    "        else:\n",
    "            np.place(self.wine_data[\"quality\"].values, self.wine_data[\"quality\"].values < 6, 0)\n",
    "            np.place(self.wine_data[\"quality\"].values, self.wine_data[\"quality\"].values == 6, 1)\n",
    "            np.place(self.wine_data[\"quality\"].values, self.wine_data[\"quality\"].values > 6, 2)\n",
    "\n",
    "        unique_label, counts_elements = np.unique(self.wine_data[\"quality\"].values, return_counts=True)\n",
    "        my_dict = dict(zip(unique_label, counts_elements))\n",
    "        print(my_dict)\n",
    "        label_of_minor_class = min(my_dict.keys(), key=(lambda k: my_dict[k]))\n",
    "        size_of_minor_class =  my_dict[label_of_minor_class]\n",
    "\n",
    "        print(\"label_of_minor_class :\", label_of_minor_class, \"size_of_minor_class\", size_of_minor_class)\n",
    "\n",
    "        df_minority = self.wine_data[self.wine_data[\"quality\"].values==label_of_minor_class]\n",
    "        \n",
    "        if(k_categ == 2):\n",
    "            df_non_minority_1 = self.wine_data[self.wine_data[\"quality\"].values!=label_of_minor_class]\n",
    "            \n",
    "            # Downsample majority class\n",
    "            df_non_minority_1_downsampled = resample(df_non_minority_1, \n",
    "                                             replace=False,    # sample without replacement\n",
    "                                             n_samples=size_of_minor_class,     # to match minority class\n",
    "                                             random_state=123) # reproducible results\n",
    "\n",
    "            # Combine minority class with downsampled majority class\n",
    "            df_downsampled = pd.concat([df_non_minority_1_downsampled, df_minority])\n",
    "            \n",
    "        else:\n",
    "            df_non_minority_1 = self.wine_data[self.wine_data[\"quality\"].values==0]\n",
    "            df_non_minority_2 =  self.wine_data[self.wine_data[\"quality\"].values==1]\n",
    "            \n",
    "            # Downsample majority class\n",
    "            df_non_minority_1_downsampled = resample(df_non_minority_1, \n",
    "                                             replace=False,    # sample without replacement\n",
    "                                             n_samples=size_of_minor_class,     # to match minority class\n",
    "                                             random_state=123) # reproducible results\n",
    "\n",
    "            # Downsample majority class\n",
    "            df_non_minority_2_downsampled = resample(df_non_minority_2, \n",
    "                                             replace=False,    # sample without replacement\n",
    "                                             n_samples=size_of_minor_class,     # to match minority class\n",
    "                                             random_state=123) # reproducible results\n",
    "\n",
    "            # Combine minority class with downsampled majority class\n",
    "            df_downsampled = pd.concat([df_non_minority_1_downsampled, df_non_minority_2_downsampled, df_minority])\n",
    "            \n",
    "        # new target values data after downsampling\n",
    "        self.wine_data = df_downsampled\n",
    "        self.split_data_to_X_and_y()\n",
    "        \n",
    "    # Split de manière déséquilibrée le dataset en k catégories\n",
    "    def convert_ylabel_into_k_categories_desequilibre(self, k_categ=3):\n",
    "        self.k = k_categ\n",
    "        if(self.k == 2):\n",
    "            np.place(self.y_data, self.y_data < 6, 0)\n",
    "            np.place(self.y_data, self.y_data >= 6, 1)\n",
    "\n",
    "        if(self.k == 3):\n",
    "            np.place(self.y_data, self.y_data < 6, 0)\n",
    "            np.place(self.y_data, self.y_data == 6, 1)\n",
    "            np.place(self.y_data, self.y_data > 6, 2)\n",
    "            \n",
    "    # Affiche la répartition de la qualité après le split en k catégories            \n",
    "    def show_ylabel_repartition_info(self):\n",
    "        self.show_target_variable_histogram()\n",
    "      \n",
    "        if(self.k == 2):\n",
    "            category_of_quality = [\"Low quality\", \"High quality\"]\n",
    "        if(self.k == 3):\n",
    "            category_of_quality = [\"Low quality\", \"Medium quality\", \"High quality\"]\n",
    "\n",
    "        print(\"======= If Quality of {} Wine was splited into {} categories =======\".format(self.wine_name, self.k))    \n",
    "        if(self.k > 0):\n",
    "            for idx, category in enumerate(category_of_quality):\n",
    "                count_of_quality_categ_in_wine = len(np.where(self.y_data == idx)[0])\n",
    "                count = count_of_quality_categ_in_wine/len(self.y_data)\n",
    "                print(\"{} : {} rows ({:.2f}%)\".format(category, count_of_quality_categ_in_wine, count*100) )              \n",
    "        \n",
    "    # Split du dataset en X_train, X_test, y_train, y_test\n",
    "    def split_into_train_test(self, size_of_test_set=0.2):\n",
    "        # split test et training set\n",
    "        from sklearn.model_selection import train_test_split        \n",
    "        self.X_train, self.X_test, self.y_train, self.y_test  = train_test_split(self.X_data, self.y_data, test_size = size_of_test_set, random_state = 42)        \n",
    "      \n",
    "        print(\"=============== New shape of \"+self.wine_name+ \" Data after X_{train, test} and y_{train, test} split=============\")\n",
    "        print(\"X_\"+self.wine_name+\"_train \", self.X_train.shape)\n",
    "        print(\"X_\"+self.wine_name+\"_test \", self.X_test.shape)      \n",
    "        print(\"y_\"+self.wine_name+\"_train \", self.y_train.shape)\n",
    "        print(\"y_\"+self.wine_name+\"_test \", self.y_test.shape)\n",
    "    \n",
    "    # Preprocessing des features de X_train et X_test\n",
    "    def preprocessing_feature_scaling_for_Xtrain_Xtest(self):\n",
    "        scaler_wine = StandardScaler()\n",
    "        self.X_train = scaler_wine.fit_transform(self.X_train)\n",
    "        self.X_test = scaler_wine.transform(self.X_test)    \n",
    "\n",
    "                    "
   ]
  },
  {
   "cell_type": "code",
   "execution_count": 2,
   "metadata": {
    "colab": {
     "base_uri": "https://localhost:8080/",
     "height": 108
    },
    "colab_type": "code",
    "id": "W6z-ZLBWv3u4",
    "outputId": "490ecb8c-9fc1-45eb-88ce-a0efaf039fb5"
   },
   "outputs": [
    {
     "name": "stdout",
     "output_type": "stream",
     "text": [
      "=================== Dimensions des dataset White et Red simples en 10 classes ==============\n",
      "White (4898, 12)\n",
      "Red (1599, 12)\n",
      "White-Red (6497, 12)\n"
     ]
    }
   ],
   "source": [
    "print(\"=================== Dimensions des dataset White et Red simples en 10 classes ==============\")\n",
    "wine_white_data = data_set(\"White\", \".\\\\data\\\\wine\\\\winequality-white.csv\")\n",
    "wine_red_data = data_set(\"Red\", \".\\\\data\\\\wine\\\\winequality-red.csv\")\n",
    "wine_combine_data = data_set(\"White-Red\", \".\\\\data\\\\wine\\\\winequality-white.csv\", \".\\\\data\\\\wine\\\\winequality-red.csv\")\n",
    "\n",
    "wine_white_data.print_shape()\n",
    "wine_red_data.print_shape()\n",
    "wine_combine_data.print_shape()"
   ]
  },
  {
   "cell_type": "code",
   "execution_count": 3,
   "metadata": {},
   "outputs": [
    {
     "name": "stdout",
     "output_type": "stream",
     "text": [
      "=================== Dimensions des dataset White, Red et combine pour les cas equilibres ===============\n",
      "White_2_Quality_equilibre (4898, 12)\n",
      "White_3_Quality_equilibre (4898, 12)\n",
      "Red_2_Quality_equilibre (1599, 12)\n",
      "Red_3_Quality_equilibre (1599, 12)\n",
      "White-Red_2_Quality_equilibre (6497, 12)\n",
      "White-Red_3_Quality_equilibre (6497, 12)\n"
     ]
    }
   ],
   "source": [
    "print(\"=================== Dimensions des dataset White, Red et combine pour les cas equilibres ===============\")\n",
    "wine_white_data_2_kind_of_quality_equilibrees = data_set(\"White_2_Quality_equilibre\", \".\\\\data\\\\wine\\\\winequality-white.csv\")\n",
    "wine_white_data_3_kind_of_quality_equilibrees = data_set(\"White_3_Quality_equilibre\", \".\\\\data\\\\wine\\\\winequality-white.csv\")\n",
    "\n",
    "wine_red_data_2_kind_of_quality_equilibrees = data_set(\"Red_2_Quality_equilibre\", \".\\\\data\\\\wine\\\\winequality-red.csv\")\n",
    "wine_red_data_3_kind_of_quality_equilibrees = data_set(\"Red_3_Quality_equilibre\", \".\\\\data\\\\wine\\\\winequality-red.csv\")\n",
    "\n",
    "wine_combine_data_2_kind_of_quality_equilibrees = data_set(\"White-Red_2_Quality_equilibre\", \".\\\\data\\\\wine\\\\winequality-white.csv\", \".\\\\data\\\\wine\\\\winequality-red.csv\")\n",
    "wine_combine_data_3_kind_of_quality_equilibrees = data_set(\"White-Red_3_Quality_equilibre\", \".\\\\data\\\\wine\\\\winequality-white.csv\", \".\\\\data\\\\wine\\\\winequality-red.csv\")\n",
    "\n",
    "\n",
    "wine_white_data_2_kind_of_quality_equilibrees.print_shape()\n",
    "wine_white_data_3_kind_of_quality_equilibrees.print_shape()\n",
    "\n",
    "wine_red_data_2_kind_of_quality_equilibrees.print_shape()\n",
    "wine_red_data_3_kind_of_quality_equilibrees.print_shape()\n",
    "\n",
    "wine_combine_data_2_kind_of_quality_equilibrees.print_shape()\n",
    "wine_combine_data_3_kind_of_quality_equilibrees.print_shape()\n"
   ]
  },
  {
   "cell_type": "code",
   "execution_count": 4,
   "metadata": {
    "colab": {
     "base_uri": "https://localhost:8080/",
     "height": 126
    },
    "colab_type": "code",
    "id": "onyUBQl5_2Bg",
    "outputId": "1744d906-a2df-43de-9940-ceb2fed7a86e"
   },
   "outputs": [
    {
     "name": "stdout",
     "output_type": "stream",
     "text": [
      "================================== Dimensions des dataset White, Red et combine pour les cas desequilibres =====================\n",
      "White_3_Quality_desequilibre (4898, 12)\n",
      "Red_3_Quality_desequilibre (1599, 12)\n",
      "White-Red_3_Quality_desequilibre (6497, 12)\n"
     ]
    }
   ],
   "source": [
    "print(\"================================== Dimensions des dataset White, Red et combine pour les cas desequilibres =====================\")\n",
    "wine_white_data_3_kind_of_quality_desequilibrees = data_set(\"White_3_Quality_desequilibre\", \".\\\\data\\\\wine\\\\winequality-white.csv\")\n",
    "wine_red_data_3_kind_of_quality_desequilibrees = data_set(\"Red_3_Quality_desequilibre\", \".\\\\data\\\\wine\\\\winequality-red.csv\")\n",
    "wine_combine_data_3_kind_of_quality_desequilibrees = data_set(\"White-Red_3_Quality_desequilibre\", \".\\\\data\\\\wine\\\\winequality-white.csv\", \".\\\\data\\\\wine\\\\winequality-red.csv\")\n",
    "\n",
    "wine_white_data_3_kind_of_quality_desequilibrees.print_shape()\n",
    "wine_red_data_3_kind_of_quality_desequilibrees.print_shape()\n",
    "wine_combine_data_3_kind_of_quality_desequilibrees.print_shape()"
   ]
  },
  {
   "cell_type": "markdown",
   "metadata": {
    "colab_type": "text",
    "id": "bgayxaPnwT3S"
   },
   "source": [
    "## II) Analyse exploratoire de données"
   ]
  },
  {
   "cell_type": "code",
   "execution_count": 5,
   "metadata": {
    "colab": {
     "base_uri": "https://localhost:8080/",
     "height": 106
    },
    "colab_type": "code",
    "id": "_HHoLwChv9IZ",
    "outputId": "abf105e5-5638-4373-865f-61f5cbfaa269"
   },
   "outputs": [
    {
     "name": "stdout",
     "output_type": "stream",
     "text": [
      "White\n"
     ]
    },
    {
     "data": {
      "text/plain": [
       "Index(['fixed acidity', 'volatile acidity', 'citric acid', 'residual sugar',\n",
       "       'chlorides', 'free sulfur dioxide', 'total sulfur dioxide', 'density',\n",
       "       'pH', 'sulphates', 'alcohol', 'quality'],\n",
       "      dtype='object')"
      ]
     },
     "execution_count": 5,
     "metadata": {},
     "output_type": "execute_result"
    }
   ],
   "source": [
    "wine_white_data.print_columns_names()"
   ]
  },
  {
   "cell_type": "code",
   "execution_count": 6,
   "metadata": {
    "colab": {
     "base_uri": "https://localhost:8080/",
     "height": 106
    },
    "colab_type": "code",
    "id": "ZUiaSTQ0v--V",
    "outputId": "d51094e5-d6ac-45f2-f938-d302136c71d8"
   },
   "outputs": [
    {
     "name": "stdout",
     "output_type": "stream",
     "text": [
      "Red\n"
     ]
    },
    {
     "data": {
      "text/plain": [
       "Index(['fixed acidity', 'volatile acidity', 'citric acid', 'residual sugar',\n",
       "       'chlorides', 'free sulfur dioxide', 'total sulfur dioxide', 'density',\n",
       "       'pH', 'sulphates', 'alcohol', 'quality'],\n",
       "      dtype='object')"
      ]
     },
     "execution_count": 6,
     "metadata": {},
     "output_type": "execute_result"
    }
   ],
   "source": [
    "wine_red_data.print_columns_names()"
   ]
  },
  {
   "cell_type": "code",
   "execution_count": 7,
   "metadata": {
    "colab": {
     "base_uri": "https://localhost:8080/",
     "height": 240
    },
    "colab_type": "code",
    "id": "7eLc5x3PwAOF",
    "outputId": "29d3a152-98f7-4100-fcf4-f3c46833f491",
    "scrolled": true
   },
   "outputs": [
    {
     "name": "stdout",
     "output_type": "stream",
     "text": [
      "White\n"
     ]
    },
    {
     "data": {
      "text/html": [
       "<div>\n",
       "<style scoped>\n",
       "    .dataframe tbody tr th:only-of-type {\n",
       "        vertical-align: middle;\n",
       "    }\n",
       "\n",
       "    .dataframe tbody tr th {\n",
       "        vertical-align: top;\n",
       "    }\n",
       "\n",
       "    .dataframe thead th {\n",
       "        text-align: right;\n",
       "    }\n",
       "</style>\n",
       "<table border=\"1\" class=\"dataframe\">\n",
       "  <thead>\n",
       "    <tr style=\"text-align: right;\">\n",
       "      <th></th>\n",
       "      <th>fixed acidity</th>\n",
       "      <th>volatile acidity</th>\n",
       "      <th>citric acid</th>\n",
       "      <th>residual sugar</th>\n",
       "      <th>chlorides</th>\n",
       "      <th>free sulfur dioxide</th>\n",
       "      <th>total sulfur dioxide</th>\n",
       "      <th>density</th>\n",
       "      <th>pH</th>\n",
       "      <th>sulphates</th>\n",
       "      <th>alcohol</th>\n",
       "      <th>quality</th>\n",
       "    </tr>\n",
       "  </thead>\n",
       "  <tbody>\n",
       "    <tr>\n",
       "      <th>0</th>\n",
       "      <td>7.0</td>\n",
       "      <td>0.27</td>\n",
       "      <td>0.36</td>\n",
       "      <td>20.7</td>\n",
       "      <td>0.045</td>\n",
       "      <td>45.0</td>\n",
       "      <td>170.0</td>\n",
       "      <td>1.0010</td>\n",
       "      <td>3.00</td>\n",
       "      <td>0.45</td>\n",
       "      <td>8.8</td>\n",
       "      <td>6</td>\n",
       "    </tr>\n",
       "    <tr>\n",
       "      <th>1</th>\n",
       "      <td>6.3</td>\n",
       "      <td>0.30</td>\n",
       "      <td>0.34</td>\n",
       "      <td>1.6</td>\n",
       "      <td>0.049</td>\n",
       "      <td>14.0</td>\n",
       "      <td>132.0</td>\n",
       "      <td>0.9940</td>\n",
       "      <td>3.30</td>\n",
       "      <td>0.49</td>\n",
       "      <td>9.5</td>\n",
       "      <td>6</td>\n",
       "    </tr>\n",
       "    <tr>\n",
       "      <th>2</th>\n",
       "      <td>8.1</td>\n",
       "      <td>0.28</td>\n",
       "      <td>0.40</td>\n",
       "      <td>6.9</td>\n",
       "      <td>0.050</td>\n",
       "      <td>30.0</td>\n",
       "      <td>97.0</td>\n",
       "      <td>0.9951</td>\n",
       "      <td>3.26</td>\n",
       "      <td>0.44</td>\n",
       "      <td>10.1</td>\n",
       "      <td>6</td>\n",
       "    </tr>\n",
       "    <tr>\n",
       "      <th>3</th>\n",
       "      <td>7.2</td>\n",
       "      <td>0.23</td>\n",
       "      <td>0.32</td>\n",
       "      <td>8.5</td>\n",
       "      <td>0.058</td>\n",
       "      <td>47.0</td>\n",
       "      <td>186.0</td>\n",
       "      <td>0.9956</td>\n",
       "      <td>3.19</td>\n",
       "      <td>0.40</td>\n",
       "      <td>9.9</td>\n",
       "      <td>6</td>\n",
       "    </tr>\n",
       "    <tr>\n",
       "      <th>4</th>\n",
       "      <td>7.2</td>\n",
       "      <td>0.23</td>\n",
       "      <td>0.32</td>\n",
       "      <td>8.5</td>\n",
       "      <td>0.058</td>\n",
       "      <td>47.0</td>\n",
       "      <td>186.0</td>\n",
       "      <td>0.9956</td>\n",
       "      <td>3.19</td>\n",
       "      <td>0.40</td>\n",
       "      <td>9.9</td>\n",
       "      <td>6</td>\n",
       "    </tr>\n",
       "  </tbody>\n",
       "</table>\n",
       "</div>"
      ],
      "text/plain": [
       "   fixed acidity  volatile acidity  citric acid  residual sugar  chlorides  \\\n",
       "0            7.0              0.27         0.36            20.7      0.045   \n",
       "1            6.3              0.30         0.34             1.6      0.049   \n",
       "2            8.1              0.28         0.40             6.9      0.050   \n",
       "3            7.2              0.23         0.32             8.5      0.058   \n",
       "4            7.2              0.23         0.32             8.5      0.058   \n",
       "\n",
       "   free sulfur dioxide  total sulfur dioxide  density    pH  sulphates  \\\n",
       "0                 45.0                 170.0   1.0010  3.00       0.45   \n",
       "1                 14.0                 132.0   0.9940  3.30       0.49   \n",
       "2                 30.0                  97.0   0.9951  3.26       0.44   \n",
       "3                 47.0                 186.0   0.9956  3.19       0.40   \n",
       "4                 47.0                 186.0   0.9956  3.19       0.40   \n",
       "\n",
       "   alcohol  quality  \n",
       "0      8.8        6  \n",
       "1      9.5        6  \n",
       "2     10.1        6  \n",
       "3      9.9        6  \n",
       "4      9.9        6  "
      ]
     },
     "execution_count": 7,
     "metadata": {},
     "output_type": "execute_result"
    }
   ],
   "source": [
    "wine_white_data.print_head()"
   ]
  },
  {
   "cell_type": "code",
   "execution_count": 8,
   "metadata": {
    "colab": {
     "base_uri": "https://localhost:8080/",
     "height": 240
    },
    "colab_type": "code",
    "id": "rWBBWcRWwBxo",
    "outputId": "f7477611-cf47-49c5-c890-3633ce117b3e"
   },
   "outputs": [
    {
     "name": "stdout",
     "output_type": "stream",
     "text": [
      "Red\n"
     ]
    },
    {
     "data": {
      "text/html": [
       "<div>\n",
       "<style scoped>\n",
       "    .dataframe tbody tr th:only-of-type {\n",
       "        vertical-align: middle;\n",
       "    }\n",
       "\n",
       "    .dataframe tbody tr th {\n",
       "        vertical-align: top;\n",
       "    }\n",
       "\n",
       "    .dataframe thead th {\n",
       "        text-align: right;\n",
       "    }\n",
       "</style>\n",
       "<table border=\"1\" class=\"dataframe\">\n",
       "  <thead>\n",
       "    <tr style=\"text-align: right;\">\n",
       "      <th></th>\n",
       "      <th>fixed acidity</th>\n",
       "      <th>volatile acidity</th>\n",
       "      <th>citric acid</th>\n",
       "      <th>residual sugar</th>\n",
       "      <th>chlorides</th>\n",
       "      <th>free sulfur dioxide</th>\n",
       "      <th>total sulfur dioxide</th>\n",
       "      <th>density</th>\n",
       "      <th>pH</th>\n",
       "      <th>sulphates</th>\n",
       "      <th>alcohol</th>\n",
       "      <th>quality</th>\n",
       "    </tr>\n",
       "  </thead>\n",
       "  <tbody>\n",
       "    <tr>\n",
       "      <th>0</th>\n",
       "      <td>7.4</td>\n",
       "      <td>0.70</td>\n",
       "      <td>0.00</td>\n",
       "      <td>1.9</td>\n",
       "      <td>0.076</td>\n",
       "      <td>11.0</td>\n",
       "      <td>34.0</td>\n",
       "      <td>0.9978</td>\n",
       "      <td>3.51</td>\n",
       "      <td>0.56</td>\n",
       "      <td>9.4</td>\n",
       "      <td>5</td>\n",
       "    </tr>\n",
       "    <tr>\n",
       "      <th>1</th>\n",
       "      <td>7.8</td>\n",
       "      <td>0.88</td>\n",
       "      <td>0.00</td>\n",
       "      <td>2.6</td>\n",
       "      <td>0.098</td>\n",
       "      <td>25.0</td>\n",
       "      <td>67.0</td>\n",
       "      <td>0.9968</td>\n",
       "      <td>3.20</td>\n",
       "      <td>0.68</td>\n",
       "      <td>9.8</td>\n",
       "      <td>5</td>\n",
       "    </tr>\n",
       "    <tr>\n",
       "      <th>2</th>\n",
       "      <td>7.8</td>\n",
       "      <td>0.76</td>\n",
       "      <td>0.04</td>\n",
       "      <td>2.3</td>\n",
       "      <td>0.092</td>\n",
       "      <td>15.0</td>\n",
       "      <td>54.0</td>\n",
       "      <td>0.9970</td>\n",
       "      <td>3.26</td>\n",
       "      <td>0.65</td>\n",
       "      <td>9.8</td>\n",
       "      <td>5</td>\n",
       "    </tr>\n",
       "    <tr>\n",
       "      <th>3</th>\n",
       "      <td>11.2</td>\n",
       "      <td>0.28</td>\n",
       "      <td>0.56</td>\n",
       "      <td>1.9</td>\n",
       "      <td>0.075</td>\n",
       "      <td>17.0</td>\n",
       "      <td>60.0</td>\n",
       "      <td>0.9980</td>\n",
       "      <td>3.16</td>\n",
       "      <td>0.58</td>\n",
       "      <td>9.8</td>\n",
       "      <td>6</td>\n",
       "    </tr>\n",
       "    <tr>\n",
       "      <th>4</th>\n",
       "      <td>7.4</td>\n",
       "      <td>0.70</td>\n",
       "      <td>0.00</td>\n",
       "      <td>1.9</td>\n",
       "      <td>0.076</td>\n",
       "      <td>11.0</td>\n",
       "      <td>34.0</td>\n",
       "      <td>0.9978</td>\n",
       "      <td>3.51</td>\n",
       "      <td>0.56</td>\n",
       "      <td>9.4</td>\n",
       "      <td>5</td>\n",
       "    </tr>\n",
       "  </tbody>\n",
       "</table>\n",
       "</div>"
      ],
      "text/plain": [
       "   fixed acidity  volatile acidity  citric acid  residual sugar  chlorides  \\\n",
       "0            7.4              0.70         0.00             1.9      0.076   \n",
       "1            7.8              0.88         0.00             2.6      0.098   \n",
       "2            7.8              0.76         0.04             2.3      0.092   \n",
       "3           11.2              0.28         0.56             1.9      0.075   \n",
       "4            7.4              0.70         0.00             1.9      0.076   \n",
       "\n",
       "   free sulfur dioxide  total sulfur dioxide  density    pH  sulphates  \\\n",
       "0                 11.0                  34.0   0.9978  3.51       0.56   \n",
       "1                 25.0                  67.0   0.9968  3.20       0.68   \n",
       "2                 15.0                  54.0   0.9970  3.26       0.65   \n",
       "3                 17.0                  60.0   0.9980  3.16       0.58   \n",
       "4                 11.0                  34.0   0.9978  3.51       0.56   \n",
       "\n",
       "   alcohol  quality  \n",
       "0      9.4        5  \n",
       "1      9.8        5  \n",
       "2      9.8        5  \n",
       "3      9.8        6  \n",
       "4      9.4        5  "
      ]
     },
     "execution_count": 8,
     "metadata": {},
     "output_type": "execute_result"
    }
   ],
   "source": [
    "wine_red_data.print_head()"
   ]
  },
  {
   "cell_type": "code",
   "execution_count": 9,
   "metadata": {},
   "outputs": [
    {
     "name": "stdout",
     "output_type": "stream",
     "text": [
      "White-Red\n"
     ]
    },
    {
     "data": {
      "text/html": [
       "<div>\n",
       "<style scoped>\n",
       "    .dataframe tbody tr th:only-of-type {\n",
       "        vertical-align: middle;\n",
       "    }\n",
       "\n",
       "    .dataframe tbody tr th {\n",
       "        vertical-align: top;\n",
       "    }\n",
       "\n",
       "    .dataframe thead th {\n",
       "        text-align: right;\n",
       "    }\n",
       "</style>\n",
       "<table border=\"1\" class=\"dataframe\">\n",
       "  <thead>\n",
       "    <tr style=\"text-align: right;\">\n",
       "      <th></th>\n",
       "      <th>fixed acidity</th>\n",
       "      <th>volatile acidity</th>\n",
       "      <th>citric acid</th>\n",
       "      <th>residual sugar</th>\n",
       "      <th>chlorides</th>\n",
       "      <th>free sulfur dioxide</th>\n",
       "      <th>total sulfur dioxide</th>\n",
       "      <th>density</th>\n",
       "      <th>pH</th>\n",
       "      <th>sulphates</th>\n",
       "      <th>alcohol</th>\n",
       "      <th>quality</th>\n",
       "    </tr>\n",
       "  </thead>\n",
       "  <tbody>\n",
       "    <tr>\n",
       "      <th>0</th>\n",
       "      <td>7.0</td>\n",
       "      <td>0.27</td>\n",
       "      <td>0.36</td>\n",
       "      <td>20.7</td>\n",
       "      <td>0.045</td>\n",
       "      <td>45.0</td>\n",
       "      <td>170.0</td>\n",
       "      <td>1.0010</td>\n",
       "      <td>3.00</td>\n",
       "      <td>0.45</td>\n",
       "      <td>8.8</td>\n",
       "      <td>6</td>\n",
       "    </tr>\n",
       "    <tr>\n",
       "      <th>1</th>\n",
       "      <td>6.3</td>\n",
       "      <td>0.30</td>\n",
       "      <td>0.34</td>\n",
       "      <td>1.6</td>\n",
       "      <td>0.049</td>\n",
       "      <td>14.0</td>\n",
       "      <td>132.0</td>\n",
       "      <td>0.9940</td>\n",
       "      <td>3.30</td>\n",
       "      <td>0.49</td>\n",
       "      <td>9.5</td>\n",
       "      <td>6</td>\n",
       "    </tr>\n",
       "    <tr>\n",
       "      <th>2</th>\n",
       "      <td>8.1</td>\n",
       "      <td>0.28</td>\n",
       "      <td>0.40</td>\n",
       "      <td>6.9</td>\n",
       "      <td>0.050</td>\n",
       "      <td>30.0</td>\n",
       "      <td>97.0</td>\n",
       "      <td>0.9951</td>\n",
       "      <td>3.26</td>\n",
       "      <td>0.44</td>\n",
       "      <td>10.1</td>\n",
       "      <td>6</td>\n",
       "    </tr>\n",
       "    <tr>\n",
       "      <th>3</th>\n",
       "      <td>7.2</td>\n",
       "      <td>0.23</td>\n",
       "      <td>0.32</td>\n",
       "      <td>8.5</td>\n",
       "      <td>0.058</td>\n",
       "      <td>47.0</td>\n",
       "      <td>186.0</td>\n",
       "      <td>0.9956</td>\n",
       "      <td>3.19</td>\n",
       "      <td>0.40</td>\n",
       "      <td>9.9</td>\n",
       "      <td>6</td>\n",
       "    </tr>\n",
       "    <tr>\n",
       "      <th>4</th>\n",
       "      <td>7.2</td>\n",
       "      <td>0.23</td>\n",
       "      <td>0.32</td>\n",
       "      <td>8.5</td>\n",
       "      <td>0.058</td>\n",
       "      <td>47.0</td>\n",
       "      <td>186.0</td>\n",
       "      <td>0.9956</td>\n",
       "      <td>3.19</td>\n",
       "      <td>0.40</td>\n",
       "      <td>9.9</td>\n",
       "      <td>6</td>\n",
       "    </tr>\n",
       "  </tbody>\n",
       "</table>\n",
       "</div>"
      ],
      "text/plain": [
       "   fixed acidity  volatile acidity  citric acid  residual sugar  chlorides  \\\n",
       "0            7.0              0.27         0.36            20.7      0.045   \n",
       "1            6.3              0.30         0.34             1.6      0.049   \n",
       "2            8.1              0.28         0.40             6.9      0.050   \n",
       "3            7.2              0.23         0.32             8.5      0.058   \n",
       "4            7.2              0.23         0.32             8.5      0.058   \n",
       "\n",
       "   free sulfur dioxide  total sulfur dioxide  density    pH  sulphates  \\\n",
       "0                 45.0                 170.0   1.0010  3.00       0.45   \n",
       "1                 14.0                 132.0   0.9940  3.30       0.49   \n",
       "2                 30.0                  97.0   0.9951  3.26       0.44   \n",
       "3                 47.0                 186.0   0.9956  3.19       0.40   \n",
       "4                 47.0                 186.0   0.9956  3.19       0.40   \n",
       "\n",
       "   alcohol  quality  \n",
       "0      8.8        6  \n",
       "1      9.5        6  \n",
       "2     10.1        6  \n",
       "3      9.9        6  \n",
       "4      9.9        6  "
      ]
     },
     "execution_count": 9,
     "metadata": {},
     "output_type": "execute_result"
    }
   ],
   "source": [
    "wine_combine_data.print_head()"
   ]
  },
  {
   "cell_type": "code",
   "execution_count": 10,
   "metadata": {
    "colab": {
     "base_uri": "https://localhost:8080/",
     "height": 345
    },
    "colab_type": "code",
    "id": "iTmoM8dHwDKy",
    "outputId": "4e994125-3a55-4a72-93a9-2ef85c4dd89c"
   },
   "outputs": [
    {
     "name": "stdout",
     "output_type": "stream",
     "text": [
      "White\n"
     ]
    },
    {
     "data": {
      "text/html": [
       "<div>\n",
       "<style scoped>\n",
       "    .dataframe tbody tr th:only-of-type {\n",
       "        vertical-align: middle;\n",
       "    }\n",
       "\n",
       "    .dataframe tbody tr th {\n",
       "        vertical-align: top;\n",
       "    }\n",
       "\n",
       "    .dataframe thead th {\n",
       "        text-align: right;\n",
       "    }\n",
       "</style>\n",
       "<table border=\"1\" class=\"dataframe\">\n",
       "  <thead>\n",
       "    <tr style=\"text-align: right;\">\n",
       "      <th></th>\n",
       "      <th>fixed acidity</th>\n",
       "      <th>volatile acidity</th>\n",
       "      <th>citric acid</th>\n",
       "      <th>residual sugar</th>\n",
       "      <th>chlorides</th>\n",
       "      <th>free sulfur dioxide</th>\n",
       "      <th>total sulfur dioxide</th>\n",
       "      <th>density</th>\n",
       "      <th>pH</th>\n",
       "      <th>sulphates</th>\n",
       "      <th>alcohol</th>\n",
       "      <th>quality</th>\n",
       "    </tr>\n",
       "  </thead>\n",
       "  <tbody>\n",
       "    <tr>\n",
       "      <th>count</th>\n",
       "      <td>4898.000000</td>\n",
       "      <td>4898.000000</td>\n",
       "      <td>4898.000000</td>\n",
       "      <td>4898.000000</td>\n",
       "      <td>4898.000000</td>\n",
       "      <td>4898.000000</td>\n",
       "      <td>4898.000000</td>\n",
       "      <td>4898.000000</td>\n",
       "      <td>4898.000000</td>\n",
       "      <td>4898.000000</td>\n",
       "      <td>4898.000000</td>\n",
       "      <td>4898.000000</td>\n",
       "    </tr>\n",
       "    <tr>\n",
       "      <th>mean</th>\n",
       "      <td>6.854788</td>\n",
       "      <td>0.278241</td>\n",
       "      <td>0.334192</td>\n",
       "      <td>6.391415</td>\n",
       "      <td>0.045772</td>\n",
       "      <td>35.308085</td>\n",
       "      <td>138.360657</td>\n",
       "      <td>0.994027</td>\n",
       "      <td>3.188267</td>\n",
       "      <td>0.489847</td>\n",
       "      <td>10.514267</td>\n",
       "      <td>5.877909</td>\n",
       "    </tr>\n",
       "    <tr>\n",
       "      <th>std</th>\n",
       "      <td>0.843868</td>\n",
       "      <td>0.100795</td>\n",
       "      <td>0.121020</td>\n",
       "      <td>5.072058</td>\n",
       "      <td>0.021848</td>\n",
       "      <td>17.007137</td>\n",
       "      <td>42.498065</td>\n",
       "      <td>0.002991</td>\n",
       "      <td>0.151001</td>\n",
       "      <td>0.114126</td>\n",
       "      <td>1.230621</td>\n",
       "      <td>0.885639</td>\n",
       "    </tr>\n",
       "    <tr>\n",
       "      <th>min</th>\n",
       "      <td>3.800000</td>\n",
       "      <td>0.080000</td>\n",
       "      <td>0.000000</td>\n",
       "      <td>0.600000</td>\n",
       "      <td>0.009000</td>\n",
       "      <td>2.000000</td>\n",
       "      <td>9.000000</td>\n",
       "      <td>0.987110</td>\n",
       "      <td>2.720000</td>\n",
       "      <td>0.220000</td>\n",
       "      <td>8.000000</td>\n",
       "      <td>3.000000</td>\n",
       "    </tr>\n",
       "    <tr>\n",
       "      <th>25%</th>\n",
       "      <td>6.300000</td>\n",
       "      <td>0.210000</td>\n",
       "      <td>0.270000</td>\n",
       "      <td>1.700000</td>\n",
       "      <td>0.036000</td>\n",
       "      <td>23.000000</td>\n",
       "      <td>108.000000</td>\n",
       "      <td>0.991723</td>\n",
       "      <td>3.090000</td>\n",
       "      <td>0.410000</td>\n",
       "      <td>9.500000</td>\n",
       "      <td>5.000000</td>\n",
       "    </tr>\n",
       "    <tr>\n",
       "      <th>50%</th>\n",
       "      <td>6.800000</td>\n",
       "      <td>0.260000</td>\n",
       "      <td>0.320000</td>\n",
       "      <td>5.200000</td>\n",
       "      <td>0.043000</td>\n",
       "      <td>34.000000</td>\n",
       "      <td>134.000000</td>\n",
       "      <td>0.993740</td>\n",
       "      <td>3.180000</td>\n",
       "      <td>0.470000</td>\n",
       "      <td>10.400000</td>\n",
       "      <td>6.000000</td>\n",
       "    </tr>\n",
       "    <tr>\n",
       "      <th>75%</th>\n",
       "      <td>7.300000</td>\n",
       "      <td>0.320000</td>\n",
       "      <td>0.390000</td>\n",
       "      <td>9.900000</td>\n",
       "      <td>0.050000</td>\n",
       "      <td>46.000000</td>\n",
       "      <td>167.000000</td>\n",
       "      <td>0.996100</td>\n",
       "      <td>3.280000</td>\n",
       "      <td>0.550000</td>\n",
       "      <td>11.400000</td>\n",
       "      <td>6.000000</td>\n",
       "    </tr>\n",
       "    <tr>\n",
       "      <th>max</th>\n",
       "      <td>14.200000</td>\n",
       "      <td>1.100000</td>\n",
       "      <td>1.660000</td>\n",
       "      <td>65.800000</td>\n",
       "      <td>0.346000</td>\n",
       "      <td>289.000000</td>\n",
       "      <td>440.000000</td>\n",
       "      <td>1.038980</td>\n",
       "      <td>3.820000</td>\n",
       "      <td>1.080000</td>\n",
       "      <td>14.200000</td>\n",
       "      <td>9.000000</td>\n",
       "    </tr>\n",
       "  </tbody>\n",
       "</table>\n",
       "</div>"
      ],
      "text/plain": [
       "       fixed acidity  volatile acidity  citric acid  residual sugar  \\\n",
       "count    4898.000000       4898.000000  4898.000000     4898.000000   \n",
       "mean        6.854788          0.278241     0.334192        6.391415   \n",
       "std         0.843868          0.100795     0.121020        5.072058   \n",
       "min         3.800000          0.080000     0.000000        0.600000   \n",
       "25%         6.300000          0.210000     0.270000        1.700000   \n",
       "50%         6.800000          0.260000     0.320000        5.200000   \n",
       "75%         7.300000          0.320000     0.390000        9.900000   \n",
       "max        14.200000          1.100000     1.660000       65.800000   \n",
       "\n",
       "         chlorides  free sulfur dioxide  total sulfur dioxide      density  \\\n",
       "count  4898.000000          4898.000000           4898.000000  4898.000000   \n",
       "mean      0.045772            35.308085            138.360657     0.994027   \n",
       "std       0.021848            17.007137             42.498065     0.002991   \n",
       "min       0.009000             2.000000              9.000000     0.987110   \n",
       "25%       0.036000            23.000000            108.000000     0.991723   \n",
       "50%       0.043000            34.000000            134.000000     0.993740   \n",
       "75%       0.050000            46.000000            167.000000     0.996100   \n",
       "max       0.346000           289.000000            440.000000     1.038980   \n",
       "\n",
       "                pH    sulphates      alcohol      quality  \n",
       "count  4898.000000  4898.000000  4898.000000  4898.000000  \n",
       "mean      3.188267     0.489847    10.514267     5.877909  \n",
       "std       0.151001     0.114126     1.230621     0.885639  \n",
       "min       2.720000     0.220000     8.000000     3.000000  \n",
       "25%       3.090000     0.410000     9.500000     5.000000  \n",
       "50%       3.180000     0.470000    10.400000     6.000000  \n",
       "75%       3.280000     0.550000    11.400000     6.000000  \n",
       "max       3.820000     1.080000    14.200000     9.000000  "
      ]
     },
     "execution_count": 10,
     "metadata": {},
     "output_type": "execute_result"
    }
   ],
   "source": [
    "wine_white_data.print_describe_stats_of_data()"
   ]
  },
  {
   "cell_type": "code",
   "execution_count": 11,
   "metadata": {
    "colab": {
     "base_uri": "https://localhost:8080/",
     "height": 345
    },
    "colab_type": "code",
    "id": "6OMeR5FjwEr4",
    "outputId": "0deebfec-fff1-48f9-8dc2-cc55c733c739"
   },
   "outputs": [
    {
     "name": "stdout",
     "output_type": "stream",
     "text": [
      "Red\n"
     ]
    },
    {
     "data": {
      "text/html": [
       "<div>\n",
       "<style scoped>\n",
       "    .dataframe tbody tr th:only-of-type {\n",
       "        vertical-align: middle;\n",
       "    }\n",
       "\n",
       "    .dataframe tbody tr th {\n",
       "        vertical-align: top;\n",
       "    }\n",
       "\n",
       "    .dataframe thead th {\n",
       "        text-align: right;\n",
       "    }\n",
       "</style>\n",
       "<table border=\"1\" class=\"dataframe\">\n",
       "  <thead>\n",
       "    <tr style=\"text-align: right;\">\n",
       "      <th></th>\n",
       "      <th>fixed acidity</th>\n",
       "      <th>volatile acidity</th>\n",
       "      <th>citric acid</th>\n",
       "      <th>residual sugar</th>\n",
       "      <th>chlorides</th>\n",
       "      <th>free sulfur dioxide</th>\n",
       "      <th>total sulfur dioxide</th>\n",
       "      <th>density</th>\n",
       "      <th>pH</th>\n",
       "      <th>sulphates</th>\n",
       "      <th>alcohol</th>\n",
       "      <th>quality</th>\n",
       "    </tr>\n",
       "  </thead>\n",
       "  <tbody>\n",
       "    <tr>\n",
       "      <th>count</th>\n",
       "      <td>1599.000000</td>\n",
       "      <td>1599.000000</td>\n",
       "      <td>1599.000000</td>\n",
       "      <td>1599.000000</td>\n",
       "      <td>1599.000000</td>\n",
       "      <td>1599.000000</td>\n",
       "      <td>1599.000000</td>\n",
       "      <td>1599.000000</td>\n",
       "      <td>1599.000000</td>\n",
       "      <td>1599.000000</td>\n",
       "      <td>1599.000000</td>\n",
       "      <td>1599.000000</td>\n",
       "    </tr>\n",
       "    <tr>\n",
       "      <th>mean</th>\n",
       "      <td>8.319637</td>\n",
       "      <td>0.527821</td>\n",
       "      <td>0.270976</td>\n",
       "      <td>2.538806</td>\n",
       "      <td>0.087467</td>\n",
       "      <td>15.874922</td>\n",
       "      <td>46.467792</td>\n",
       "      <td>0.996747</td>\n",
       "      <td>3.311113</td>\n",
       "      <td>0.658149</td>\n",
       "      <td>10.422983</td>\n",
       "      <td>5.636023</td>\n",
       "    </tr>\n",
       "    <tr>\n",
       "      <th>std</th>\n",
       "      <td>1.741096</td>\n",
       "      <td>0.179060</td>\n",
       "      <td>0.194801</td>\n",
       "      <td>1.409928</td>\n",
       "      <td>0.047065</td>\n",
       "      <td>10.460157</td>\n",
       "      <td>32.895324</td>\n",
       "      <td>0.001887</td>\n",
       "      <td>0.154386</td>\n",
       "      <td>0.169507</td>\n",
       "      <td>1.065668</td>\n",
       "      <td>0.807569</td>\n",
       "    </tr>\n",
       "    <tr>\n",
       "      <th>min</th>\n",
       "      <td>4.600000</td>\n",
       "      <td>0.120000</td>\n",
       "      <td>0.000000</td>\n",
       "      <td>0.900000</td>\n",
       "      <td>0.012000</td>\n",
       "      <td>1.000000</td>\n",
       "      <td>6.000000</td>\n",
       "      <td>0.990070</td>\n",
       "      <td>2.740000</td>\n",
       "      <td>0.330000</td>\n",
       "      <td>8.400000</td>\n",
       "      <td>3.000000</td>\n",
       "    </tr>\n",
       "    <tr>\n",
       "      <th>25%</th>\n",
       "      <td>7.100000</td>\n",
       "      <td>0.390000</td>\n",
       "      <td>0.090000</td>\n",
       "      <td>1.900000</td>\n",
       "      <td>0.070000</td>\n",
       "      <td>7.000000</td>\n",
       "      <td>22.000000</td>\n",
       "      <td>0.995600</td>\n",
       "      <td>3.210000</td>\n",
       "      <td>0.550000</td>\n",
       "      <td>9.500000</td>\n",
       "      <td>5.000000</td>\n",
       "    </tr>\n",
       "    <tr>\n",
       "      <th>50%</th>\n",
       "      <td>7.900000</td>\n",
       "      <td>0.520000</td>\n",
       "      <td>0.260000</td>\n",
       "      <td>2.200000</td>\n",
       "      <td>0.079000</td>\n",
       "      <td>14.000000</td>\n",
       "      <td>38.000000</td>\n",
       "      <td>0.996750</td>\n",
       "      <td>3.310000</td>\n",
       "      <td>0.620000</td>\n",
       "      <td>10.200000</td>\n",
       "      <td>6.000000</td>\n",
       "    </tr>\n",
       "    <tr>\n",
       "      <th>75%</th>\n",
       "      <td>9.200000</td>\n",
       "      <td>0.640000</td>\n",
       "      <td>0.420000</td>\n",
       "      <td>2.600000</td>\n",
       "      <td>0.090000</td>\n",
       "      <td>21.000000</td>\n",
       "      <td>62.000000</td>\n",
       "      <td>0.997835</td>\n",
       "      <td>3.400000</td>\n",
       "      <td>0.730000</td>\n",
       "      <td>11.100000</td>\n",
       "      <td>6.000000</td>\n",
       "    </tr>\n",
       "    <tr>\n",
       "      <th>max</th>\n",
       "      <td>15.900000</td>\n",
       "      <td>1.580000</td>\n",
       "      <td>1.000000</td>\n",
       "      <td>15.500000</td>\n",
       "      <td>0.611000</td>\n",
       "      <td>72.000000</td>\n",
       "      <td>289.000000</td>\n",
       "      <td>1.003690</td>\n",
       "      <td>4.010000</td>\n",
       "      <td>2.000000</td>\n",
       "      <td>14.900000</td>\n",
       "      <td>8.000000</td>\n",
       "    </tr>\n",
       "  </tbody>\n",
       "</table>\n",
       "</div>"
      ],
      "text/plain": [
       "       fixed acidity  volatile acidity  citric acid  residual sugar  \\\n",
       "count    1599.000000       1599.000000  1599.000000     1599.000000   \n",
       "mean        8.319637          0.527821     0.270976        2.538806   \n",
       "std         1.741096          0.179060     0.194801        1.409928   \n",
       "min         4.600000          0.120000     0.000000        0.900000   \n",
       "25%         7.100000          0.390000     0.090000        1.900000   \n",
       "50%         7.900000          0.520000     0.260000        2.200000   \n",
       "75%         9.200000          0.640000     0.420000        2.600000   \n",
       "max        15.900000          1.580000     1.000000       15.500000   \n",
       "\n",
       "         chlorides  free sulfur dioxide  total sulfur dioxide      density  \\\n",
       "count  1599.000000          1599.000000           1599.000000  1599.000000   \n",
       "mean      0.087467            15.874922             46.467792     0.996747   \n",
       "std       0.047065            10.460157             32.895324     0.001887   \n",
       "min       0.012000             1.000000              6.000000     0.990070   \n",
       "25%       0.070000             7.000000             22.000000     0.995600   \n",
       "50%       0.079000            14.000000             38.000000     0.996750   \n",
       "75%       0.090000            21.000000             62.000000     0.997835   \n",
       "max       0.611000            72.000000            289.000000     1.003690   \n",
       "\n",
       "                pH    sulphates      alcohol      quality  \n",
       "count  1599.000000  1599.000000  1599.000000  1599.000000  \n",
       "mean      3.311113     0.658149    10.422983     5.636023  \n",
       "std       0.154386     0.169507     1.065668     0.807569  \n",
       "min       2.740000     0.330000     8.400000     3.000000  \n",
       "25%       3.210000     0.550000     9.500000     5.000000  \n",
       "50%       3.310000     0.620000    10.200000     6.000000  \n",
       "75%       3.400000     0.730000    11.100000     6.000000  \n",
       "max       4.010000     2.000000    14.900000     8.000000  "
      ]
     },
     "execution_count": 11,
     "metadata": {},
     "output_type": "execute_result"
    }
   ],
   "source": [
    "wine_red_data.print_describe_stats_of_data()"
   ]
  },
  {
   "cell_type": "code",
   "execution_count": 12,
   "metadata": {
    "colab": {
     "base_uri": "https://localhost:8080/",
     "height": 345
    },
    "colab_type": "code",
    "id": "VTfcwqgMY3yb",
    "outputId": "7cacb59b-8755-4ab6-cec3-40e95bd5f1a6"
   },
   "outputs": [
    {
     "name": "stdout",
     "output_type": "stream",
     "text": [
      "White-Red\n"
     ]
    },
    {
     "data": {
      "text/html": [
       "<div>\n",
       "<style scoped>\n",
       "    .dataframe tbody tr th:only-of-type {\n",
       "        vertical-align: middle;\n",
       "    }\n",
       "\n",
       "    .dataframe tbody tr th {\n",
       "        vertical-align: top;\n",
       "    }\n",
       "\n",
       "    .dataframe thead th {\n",
       "        text-align: right;\n",
       "    }\n",
       "</style>\n",
       "<table border=\"1\" class=\"dataframe\">\n",
       "  <thead>\n",
       "    <tr style=\"text-align: right;\">\n",
       "      <th></th>\n",
       "      <th>fixed acidity</th>\n",
       "      <th>volatile acidity</th>\n",
       "      <th>citric acid</th>\n",
       "      <th>residual sugar</th>\n",
       "      <th>chlorides</th>\n",
       "      <th>free sulfur dioxide</th>\n",
       "      <th>total sulfur dioxide</th>\n",
       "      <th>density</th>\n",
       "      <th>pH</th>\n",
       "      <th>sulphates</th>\n",
       "      <th>alcohol</th>\n",
       "      <th>quality</th>\n",
       "    </tr>\n",
       "  </thead>\n",
       "  <tbody>\n",
       "    <tr>\n",
       "      <th>count</th>\n",
       "      <td>6497.000000</td>\n",
       "      <td>6497.000000</td>\n",
       "      <td>6497.000000</td>\n",
       "      <td>6497.000000</td>\n",
       "      <td>6497.000000</td>\n",
       "      <td>6497.000000</td>\n",
       "      <td>6497.000000</td>\n",
       "      <td>6497.000000</td>\n",
       "      <td>6497.000000</td>\n",
       "      <td>6497.000000</td>\n",
       "      <td>6497.000000</td>\n",
       "      <td>6497.000000</td>\n",
       "    </tr>\n",
       "    <tr>\n",
       "      <th>mean</th>\n",
       "      <td>7.215307</td>\n",
       "      <td>0.339666</td>\n",
       "      <td>0.318633</td>\n",
       "      <td>5.443235</td>\n",
       "      <td>0.056034</td>\n",
       "      <td>30.525319</td>\n",
       "      <td>115.744574</td>\n",
       "      <td>0.994697</td>\n",
       "      <td>3.218501</td>\n",
       "      <td>0.531268</td>\n",
       "      <td>10.491801</td>\n",
       "      <td>5.818378</td>\n",
       "    </tr>\n",
       "    <tr>\n",
       "      <th>std</th>\n",
       "      <td>1.296434</td>\n",
       "      <td>0.164636</td>\n",
       "      <td>0.145318</td>\n",
       "      <td>4.757804</td>\n",
       "      <td>0.035034</td>\n",
       "      <td>17.749400</td>\n",
       "      <td>56.521855</td>\n",
       "      <td>0.002999</td>\n",
       "      <td>0.160787</td>\n",
       "      <td>0.148806</td>\n",
       "      <td>1.192712</td>\n",
       "      <td>0.873255</td>\n",
       "    </tr>\n",
       "    <tr>\n",
       "      <th>min</th>\n",
       "      <td>3.800000</td>\n",
       "      <td>0.080000</td>\n",
       "      <td>0.000000</td>\n",
       "      <td>0.600000</td>\n",
       "      <td>0.009000</td>\n",
       "      <td>1.000000</td>\n",
       "      <td>6.000000</td>\n",
       "      <td>0.987110</td>\n",
       "      <td>2.720000</td>\n",
       "      <td>0.220000</td>\n",
       "      <td>8.000000</td>\n",
       "      <td>3.000000</td>\n",
       "    </tr>\n",
       "    <tr>\n",
       "      <th>25%</th>\n",
       "      <td>6.400000</td>\n",
       "      <td>0.230000</td>\n",
       "      <td>0.250000</td>\n",
       "      <td>1.800000</td>\n",
       "      <td>0.038000</td>\n",
       "      <td>17.000000</td>\n",
       "      <td>77.000000</td>\n",
       "      <td>0.992340</td>\n",
       "      <td>3.110000</td>\n",
       "      <td>0.430000</td>\n",
       "      <td>9.500000</td>\n",
       "      <td>5.000000</td>\n",
       "    </tr>\n",
       "    <tr>\n",
       "      <th>50%</th>\n",
       "      <td>7.000000</td>\n",
       "      <td>0.290000</td>\n",
       "      <td>0.310000</td>\n",
       "      <td>3.000000</td>\n",
       "      <td>0.047000</td>\n",
       "      <td>29.000000</td>\n",
       "      <td>118.000000</td>\n",
       "      <td>0.994890</td>\n",
       "      <td>3.210000</td>\n",
       "      <td>0.510000</td>\n",
       "      <td>10.300000</td>\n",
       "      <td>6.000000</td>\n",
       "    </tr>\n",
       "    <tr>\n",
       "      <th>75%</th>\n",
       "      <td>7.700000</td>\n",
       "      <td>0.400000</td>\n",
       "      <td>0.390000</td>\n",
       "      <td>8.100000</td>\n",
       "      <td>0.065000</td>\n",
       "      <td>41.000000</td>\n",
       "      <td>156.000000</td>\n",
       "      <td>0.996990</td>\n",
       "      <td>3.320000</td>\n",
       "      <td>0.600000</td>\n",
       "      <td>11.300000</td>\n",
       "      <td>6.000000</td>\n",
       "    </tr>\n",
       "    <tr>\n",
       "      <th>max</th>\n",
       "      <td>15.900000</td>\n",
       "      <td>1.580000</td>\n",
       "      <td>1.660000</td>\n",
       "      <td>65.800000</td>\n",
       "      <td>0.611000</td>\n",
       "      <td>289.000000</td>\n",
       "      <td>440.000000</td>\n",
       "      <td>1.038980</td>\n",
       "      <td>4.010000</td>\n",
       "      <td>2.000000</td>\n",
       "      <td>14.900000</td>\n",
       "      <td>9.000000</td>\n",
       "    </tr>\n",
       "  </tbody>\n",
       "</table>\n",
       "</div>"
      ],
      "text/plain": [
       "       fixed acidity  volatile acidity  citric acid  residual sugar  \\\n",
       "count    6497.000000       6497.000000  6497.000000     6497.000000   \n",
       "mean        7.215307          0.339666     0.318633        5.443235   \n",
       "std         1.296434          0.164636     0.145318        4.757804   \n",
       "min         3.800000          0.080000     0.000000        0.600000   \n",
       "25%         6.400000          0.230000     0.250000        1.800000   \n",
       "50%         7.000000          0.290000     0.310000        3.000000   \n",
       "75%         7.700000          0.400000     0.390000        8.100000   \n",
       "max        15.900000          1.580000     1.660000       65.800000   \n",
       "\n",
       "         chlorides  free sulfur dioxide  total sulfur dioxide      density  \\\n",
       "count  6497.000000          6497.000000           6497.000000  6497.000000   \n",
       "mean      0.056034            30.525319            115.744574     0.994697   \n",
       "std       0.035034            17.749400             56.521855     0.002999   \n",
       "min       0.009000             1.000000              6.000000     0.987110   \n",
       "25%       0.038000            17.000000             77.000000     0.992340   \n",
       "50%       0.047000            29.000000            118.000000     0.994890   \n",
       "75%       0.065000            41.000000            156.000000     0.996990   \n",
       "max       0.611000           289.000000            440.000000     1.038980   \n",
       "\n",
       "                pH    sulphates      alcohol      quality  \n",
       "count  6497.000000  6497.000000  6497.000000  6497.000000  \n",
       "mean      3.218501     0.531268    10.491801     5.818378  \n",
       "std       0.160787     0.148806     1.192712     0.873255  \n",
       "min       2.720000     0.220000     8.000000     3.000000  \n",
       "25%       3.110000     0.430000     9.500000     5.000000  \n",
       "50%       3.210000     0.510000    10.300000     6.000000  \n",
       "75%       3.320000     0.600000    11.300000     6.000000  \n",
       "max       4.010000     2.000000    14.900000     9.000000  "
      ]
     },
     "execution_count": 12,
     "metadata": {},
     "output_type": "execute_result"
    }
   ],
   "source": [
    "wine_combine_data.print_describe_stats_of_data()"
   ]
  },
  {
   "cell_type": "code",
   "execution_count": 13,
   "metadata": {
    "colab": {
     "base_uri": "https://localhost:8080/",
     "height": 178
    },
    "colab_type": "code",
    "id": "3omTHnGNwG81",
    "outputId": "5792a4eb-265f-48c7-9b86-a613c0c09cc3"
   },
   "outputs": [
    {
     "name": "stdout",
     "output_type": "stream",
     "text": [
      "White\n",
      " 6    2198\n",
      "5    1457\n",
      "7     880\n",
      "8     175\n",
      "4     163\n",
      "3      20\n",
      "9       5\n",
      "Name: quality, dtype: int64\n"
     ]
    }
   ],
   "source": [
    "wine_white_data.print_count_occurences_by_target_variable()"
   ]
  },
  {
   "cell_type": "code",
   "execution_count": 14,
   "metadata": {
    "colab": {
     "base_uri": "https://localhost:8080/",
     "height": 160
    },
    "colab_type": "code",
    "id": "bP_IKblNwG28",
    "outputId": "56bd8957-9ae5-4479-87e4-d76bd1ed6e4d"
   },
   "outputs": [
    {
     "name": "stdout",
     "output_type": "stream",
     "text": [
      "Red\n",
      " 5    681\n",
      "6    638\n",
      "7    199\n",
      "4     53\n",
      "8     18\n",
      "3     10\n",
      "Name: quality, dtype: int64\n"
     ]
    }
   ],
   "source": [
    "wine_red_data.print_count_occurences_by_target_variable()"
   ]
  },
  {
   "cell_type": "code",
   "execution_count": 15,
   "metadata": {
    "colab": {
     "base_uri": "https://localhost:8080/",
     "height": 178
    },
    "colab_type": "code",
    "id": "5SHW7ZVWZBIw",
    "outputId": "9a75d413-46f8-46d6-97ab-a55b5498ebf8"
   },
   "outputs": [
    {
     "name": "stdout",
     "output_type": "stream",
     "text": [
      "White-Red\n",
      " 6    2836\n",
      "5    2138\n",
      "7    1079\n",
      "4     216\n",
      "8     193\n",
      "3      30\n",
      "9       5\n",
      "Name: quality, dtype: int64\n"
     ]
    }
   ],
   "source": [
    "wine_combine_data.print_count_occurences_by_target_variable()"
   ]
  },
  {
   "cell_type": "markdown",
   "metadata": {
    "colab_type": "text",
    "id": "BaoHGiVmVqB3"
   },
   "source": [
    "### II.a) Y-a-t-il des valeurs manquantes ?"
   ]
  },
  {
   "cell_type": "code",
   "execution_count": null,
   "metadata": {
    "colab": {},
    "colab_type": "code",
    "id": "qIpbkYxg1W6D"
   },
   "outputs": [],
   "source": []
  },
  {
   "cell_type": "code",
   "execution_count": 16,
   "metadata": {},
   "outputs": [
    {
     "name": "stdout",
     "output_type": "stream",
     "text": [
      "{0: 1640, 1: 3258}\n",
      "label_of_minor_class : 0 size_of_minor_class 1640\n",
      "=============== New shape of White_2_Quality_equilibre Data after split=============\n",
      "(3280, 11)\n",
      "(3280,)\n",
      "{0: 1640, 1: 2198, 2: 1060}\n",
      "label_of_minor_class : 2 size_of_minor_class 1060\n",
      "=============== New shape of White_3_Quality_equilibre Data after split=============\n",
      "(3180, 11)\n",
      "(3180,)\n"
     ]
    }
   ],
   "source": [
    "wine_white_data_2_kind_of_quality_equilibrees.convert_ylabel_into_k_categories_equilibre(2)\n",
    "wine_white_data_3_kind_of_quality_equilibrees.convert_ylabel_into_k_categories_equilibre(3)"
   ]
  },
  {
   "cell_type": "code",
   "execution_count": 17,
   "metadata": {},
   "outputs": [
    {
     "name": "stdout",
     "output_type": "stream",
     "text": [
      "{0: 744, 1: 855}\n",
      "label_of_minor_class : 0 size_of_minor_class 744\n",
      "=============== New shape of Red_2_Quality_equilibre Data after split=============\n",
      "(1488, 11)\n",
      "(1488,)\n",
      "{0: 744, 1: 638, 2: 217}\n",
      "label_of_minor_class : 2 size_of_minor_class 217\n",
      "=============== New shape of Red_3_Quality_equilibre Data after split=============\n",
      "(651, 11)\n",
      "(651,)\n"
     ]
    }
   ],
   "source": [
    "wine_red_data_2_kind_of_quality_equilibrees.convert_ylabel_into_k_categories_equilibre(2)\n",
    "wine_red_data_3_kind_of_quality_equilibrees.convert_ylabel_into_k_categories_equilibre(3)"
   ]
  },
  {
   "cell_type": "code",
   "execution_count": 18,
   "metadata": {},
   "outputs": [
    {
     "name": "stdout",
     "output_type": "stream",
     "text": [
      "{0: 2384, 1: 4113}\n",
      "label_of_minor_class : 0 size_of_minor_class 2384\n",
      "=============== New shape of White-Red_2_Quality_equilibre Data after split=============\n",
      "(4768, 11)\n",
      "(4768,)\n",
      "{0: 2384, 1: 2836, 2: 1277}\n",
      "label_of_minor_class : 2 size_of_minor_class 1277\n",
      "=============== New shape of White-Red_3_Quality_equilibre Data after split=============\n",
      "(3831, 11)\n",
      "(3831,)\n"
     ]
    }
   ],
   "source": [
    "wine_combine_data_2_kind_of_quality_equilibrees.convert_ylabel_into_k_categories_equilibre(2)\n",
    "wine_combine_data_3_kind_of_quality_equilibrees.convert_ylabel_into_k_categories_equilibre(3)"
   ]
  },
  {
   "cell_type": "markdown",
   "metadata": {
    "colab_type": "text",
    "id": "Jc3cNnDsXV1t"
   },
   "source": [
    "### II.b) Split du dataset en X_data (features prédictives) et y_data (variable cible à prédire)"
   ]
  },
  {
   "cell_type": "code",
   "execution_count": 19,
   "metadata": {
    "colab": {
     "base_uri": "https://localhost:8080/",
     "height": 70
    },
    "colab_type": "code",
    "id": "pIMsy1qeXglB",
    "outputId": "3533c8a2-6e36-4206-cb53-16745c1e13aa"
   },
   "outputs": [
    {
     "name": "stdout",
     "output_type": "stream",
     "text": [
      "=============== New shape of White Data after split=============\n",
      "(4898, 11)\n",
      "(4898,)\n"
     ]
    }
   ],
   "source": [
    "wine_white_data.split_data_to_X_and_y()"
   ]
  },
  {
   "cell_type": "code",
   "execution_count": 20,
   "metadata": {
    "colab": {
     "base_uri": "https://localhost:8080/",
     "height": 70
    },
    "colab_type": "code",
    "id": "OuDGVt8rwkyw",
    "outputId": "9ba0f357-3a6b-4484-c6ef-aaa84b6574a8"
   },
   "outputs": [
    {
     "name": "stdout",
     "output_type": "stream",
     "text": [
      "=============== New shape of Red Data after split=============\n",
      "(1599, 11)\n",
      "(1599,)\n"
     ]
    }
   ],
   "source": [
    "wine_red_data.split_data_to_X_and_y()"
   ]
  },
  {
   "cell_type": "code",
   "execution_count": 21,
   "metadata": {
    "colab": {
     "base_uri": "https://localhost:8080/",
     "height": 70
    },
    "colab_type": "code",
    "id": "pRYDY39_ZTx4",
    "outputId": "692ebd67-2ba9-435a-e12c-e634ce9d2c3e"
   },
   "outputs": [
    {
     "name": "stdout",
     "output_type": "stream",
     "text": [
      "=============== New shape of White-Red Data after split=============\n",
      "(6497, 11)\n",
      "(6497,)\n"
     ]
    }
   ],
   "source": [
    "wine_combine_data.split_data_to_X_and_y()"
   ]
  },
  {
   "cell_type": "code",
   "execution_count": 22,
   "metadata": {
    "colab": {
     "base_uri": "https://localhost:8080/",
     "height": 124
    },
    "colab_type": "code",
    "id": "nFRFYNeNBiBY",
    "outputId": "79c7e4e0-4ffc-4f46-82ba-1e2cdf106f90"
   },
   "outputs": [
    {
     "name": "stdout",
     "output_type": "stream",
     "text": [
      "=============== New shape of White_3_Quality_desequilibre Data after split=============\n",
      "(4898, 11)\n",
      "(4898,)\n"
     ]
    }
   ],
   "source": [
    "wine_white_data_3_kind_of_quality_desequilibrees.split_data_to_X_and_y()"
   ]
  },
  {
   "cell_type": "code",
   "execution_count": 23,
   "metadata": {
    "colab": {
     "base_uri": "https://localhost:8080/",
     "height": 124
    },
    "colab_type": "code",
    "id": "oE-CeuGjBht9",
    "outputId": "97e41467-8911-4c89-ddc7-29242223f443"
   },
   "outputs": [
    {
     "name": "stdout",
     "output_type": "stream",
     "text": [
      "=============== New shape of Red_3_Quality_desequilibre Data after split=============\n",
      "(1599, 11)\n",
      "(1599,)\n"
     ]
    }
   ],
   "source": [
    "wine_red_data_3_kind_of_quality_desequilibrees.split_data_to_X_and_y()"
   ]
  },
  {
   "cell_type": "code",
   "execution_count": 24,
   "metadata": {},
   "outputs": [
    {
     "name": "stdout",
     "output_type": "stream",
     "text": [
      "=============== New shape of White-Red_3_Quality_desequilibre Data after split=============\n",
      "(6497, 11)\n",
      "(6497,)\n"
     ]
    }
   ],
   "source": [
    "wine_combine_data_3_kind_of_quality_desequilibrees.split_data_to_X_and_y()"
   ]
  },
  {
   "cell_type": "markdown",
   "metadata": {
    "colab_type": "text",
    "id": "ui9wUgNLUDqX"
   },
   "source": [
    "## III) Visualisation graphique des données"
   ]
  },
  {
   "cell_type": "markdown",
   "metadata": {
    "colab_type": "text",
    "id": "wB0cpuqmaeIi"
   },
   "source": [
    "- On remarque en particulier que ces variables prennent des valeurs dans des ensembles différents. Par exemple, “sulphates” varie de 0 à 1 tandis que “total sulfur dioxide” varie de 0 à 440. Il va donc nous falloir standardiser les données pour que la deuxième ne domine pas complètement la première.\n",
    "\n"
   ]
  },
  {
   "cell_type": "markdown",
   "metadata": {
    "colab_type": "text",
    "id": "En_Yc771mB_z"
   },
   "source": [
    "### Plot des histogrammes de features pour le White Wine Dataset"
   ]
  },
  {
   "cell_type": "code",
   "execution_count": 25,
   "metadata": {
    "colab": {},
    "colab_type": "code",
    "id": "pHz0CaW55SmE"
   },
   "outputs": [],
   "source": [
    "#wine_white_data.show_histogram_of_features()\n",
    "#wine_white_data_3_kind_of_quality_desequilibrees.show_histogram_of_features()"
   ]
  },
  {
   "cell_type": "markdown",
   "metadata": {
    "colab_type": "text",
    "id": "ztxLoYlTmKwZ"
   },
   "source": [
    "### Plot des histogrammes de features pour le Red Wine Dataset"
   ]
  },
  {
   "cell_type": "code",
   "execution_count": 26,
   "metadata": {
    "colab": {},
    "colab_type": "code",
    "id": "sH2yr7F-nMvu"
   },
   "outputs": [],
   "source": [
    "#wine_red_data.show_histogram_of_features()\n",
    "#wine_white_data_3_kind_of_quality_equilibrees.show_histogram_of_features()"
   ]
  },
  {
   "cell_type": "markdown",
   "metadata": {},
   "source": [
    "### Plot des histogrammes de features pour le White & Red Wine combines Dataset"
   ]
  },
  {
   "cell_type": "code",
   "execution_count": 27,
   "metadata": {},
   "outputs": [],
   "source": [
    "#wine_combine_data.show_histogram_of_features()"
   ]
  },
  {
   "cell_type": "markdown",
   "metadata": {
    "colab_type": "text",
    "id": "tZsZBNVxnLEG"
   },
   "source": [
    "### **Il serait peut être intéressant d'étudier (les performances de deux manières) :**  \n",
    "- 1) La possibilité de découper nos labels de prédiction en : {3, 4, 5} = **low quality**;  { 6 } = **medium quality**;  et {7, 8, 9} = **high quality**;\n",
    "- 2) La possibilité de découper nos labels de prédiction en : {3, 4, 5} = **low quality**;  { 6, 7, 8, 9} = **high quality**;\n",
    "- 3) Ou en laissant le label de qualité comme il était : {3, 4, 5, 6, 7, 8, 9}"
   ]
  },
  {
   "cell_type": "code",
   "execution_count": 28,
   "metadata": {
    "colab": {
     "base_uri": "https://localhost:8080/",
     "height": 381
    },
    "colab_type": "code",
    "id": "jPq_hU4jiUc2",
    "outputId": "f46ccd13-68c1-409f-e9ce-fa8eb035fdac"
   },
   "outputs": [
    {
     "data": {
      "image/png": "[encoded data removed]",
      "text/plain": [
       "<matplotlib.figure.Figure at 0x2148ab930b8>"
      ]
     },
     "metadata": {},
     "output_type": "display_data"
    },
    {
     "name": "stdout",
     "output_type": "stream",
     "text": [
      "Repartition des : (label, count_of_occurence)  {3: 20, 4: 163, 5: 1457, 6: 2198, 7: 880, 8: 175, 9: 5}\n"
     ]
    }
   ],
   "source": [
    "wine_white_data.show_target_variable_histogram()"
   ]
  },
  {
   "cell_type": "code",
   "execution_count": 29,
   "metadata": {
    "colab": {
     "base_uri": "https://localhost:8080/",
     "height": 381
    },
    "colab_type": "code",
    "id": "pZzVEChMn2Or",
    "outputId": "f59d2c72-7c7a-4a1d-d722-0fa5fd9c1a40"
   },
   "outputs": [
    {
     "data": {
      "image/png": "[encoded data removed]",
      "text/plain": [
       "<matplotlib.figure.Figure at 0x2148aad67b8>"
      ]
     },
     "metadata": {},
     "output_type": "display_data"
    },
    {
     "name": "stdout",
     "output_type": "stream",
     "text": [
      "Repartition des : (label, count_of_occurence)  {3: 10, 4: 53, 5: 681, 6: 638, 7: 199, 8: 18}\n"
     ]
    }
   ],
   "source": [
    "wine_red_data.show_target_variable_histogram()"
   ]
  },
  {
   "cell_type": "code",
   "execution_count": 30,
   "metadata": {
    "colab": {
     "base_uri": "https://localhost:8080/",
     "height": 381
    },
    "colab_type": "code",
    "id": "uwxNp8wUZdRw",
    "outputId": "958076f8-b910-4228-c56e-85ed3a3f4097"
   },
   "outputs": [
    {
     "data": {
      "image/png": "[encoded data removed]",
      "text/plain": [
       "<matplotlib.figure.Figure at 0x2148aa9fef0>"
      ]
     },
     "metadata": {},
     "output_type": "display_data"
    },
    {
     "name": "stdout",
     "output_type": "stream",
     "text": [
      "Repartition des : (label, count_of_occurence)  {3: 30, 4: 216, 5: 2138, 6: 2836, 7: 1079, 8: 193, 9: 5}\n"
     ]
    }
   ],
   "source": [
    "wine_combine_data.show_target_variable_histogram()"
   ]
  },
  {
   "cell_type": "markdown",
   "metadata": {
    "colab_type": "text",
    "id": "8UAx-aKnB45g"
   },
   "source": [
    "## IV) Split du dataset en X_train, X_test, Y_train, Y_test\n"
   ]
  },
  {
   "cell_type": "markdown",
   "metadata": {
    "colab_type": "text",
    "id": "RRuj97NCB9cn"
   },
   "source": [
    "### IV.A) Repartition des datasets en labels EQUILIBRES pour \"White\", \"Red\" et la combinaison de \"White-Red\" wine.\n"
   ]
  },
  {
   "cell_type": "code",
   "execution_count": 31,
   "metadata": {
    "colab": {},
    "colab_type": "code",
    "id": "aT7_lH0-CXEI"
   },
   "outputs": [],
   "source": [
    "wine_combine_data_3_kind_of_quality_desequilibrees.convert_ylabel_into_k_categories_desequilibre(3)\n",
    "\n",
    "wine_white_data_3_kind_of_quality_desequilibrees.convert_ylabel_into_k_categories_desequilibre(3)\n",
    "\n",
    "wine_red_data_3_kind_of_quality_desequilibrees.convert_ylabel_into_k_categories_desequilibre(3)"
   ]
  },
  {
   "cell_type": "code",
   "execution_count": 32,
   "metadata": {
    "colab": {
     "base_uri": "https://localhost:8080/",
     "height": 853
    },
    "colab_type": "code",
    "id": "L8ui-knYCW5F",
    "outputId": "0d2afc88-b298-42be-e10c-962488ff5071"
   },
   "outputs": [],
   "source": [
    "#wine_combine_data_2_kind_of_quality_equilibrees.show_ylabel_repartition_info()\n",
    "#wine_white_data_2_kind_of_quality_equilibrees.show_ylabel_repartition_info()\n",
    "#wine_red_data_2_kind_of_quality_equilibrees.show_ylabel_repartition_info()"
   ]
  },
  {
   "cell_type": "code",
   "execution_count": 34,
   "metadata": {
    "colab": {
     "base_uri": "https://localhost:8080/",
     "height": 889
    },
    "colab_type": "code",
    "id": "I51N2oTGCWgy",
    "outputId": "f4c4c1c6-e6df-4280-d999-41a3641d9a0a"
   },
   "outputs": [
    {
     "data": {
      "image/png": "[encoded data removed]",
      "text/plain": [
       "<matplotlib.figure.Figure at 0x2148af88208>"
      ]
     },
     "metadata": {},
     "output_type": "display_data"
    },
    {
     "name": "stdout",
     "output_type": "stream",
     "text": [
      "Repartition des : (label, count_of_occurence)  {0: 2384, 1: 2836, 2: 1277}\n",
      "======= If Quality of White-Red_3_Quality_desequilibre Wine was splited into 3 categories =======\n",
      "Low quality : 2384 rows (36.69%)\n",
      "Medium quality : 2836 rows (43.65%)\n",
      "High quality : 1277 rows (19.66%)\n"
     ]
    },
    {
     "data": {
      "image/png": "[encoded data removed]",
      "text/plain": [
       "<matplotlib.figure.Figure at 0x2148af768d0>"
      ]
     },
     "metadata": {},
     "output_type": "display_data"
    },
    {
     "name": "stdout",
     "output_type": "stream",
     "text": [
      "Repartition des : (label, count_of_occurence)  {0: 1640, 1: 2198, 2: 1060}\n",
      "======= If Quality of White_3_Quality_desequilibre Wine was splited into 3 categories =======\n",
      "Low quality : 1640 rows (33.48%)\n",
      "Medium quality : 2198 rows (44.88%)\n",
      "High quality : 1060 rows (21.64%)\n"
     ]
    },
    {
     "data": {
      "image/png": "[encoded data removed]",
      "text/plain": [
       "<matplotlib.figure.Figure at 0x2148af76048>"
      ]
     },
     "metadata": {},
     "output_type": "display_data"
    },
    {
     "name": "stdout",
     "output_type": "stream",
     "text": [
      "Repartition des : (label, count_of_occurence)  {0: 744, 1: 638, 2: 217}\n",
      "======= If Quality of Red_3_Quality_desequilibre Wine was splited into 3 categories =======\n",
      "Low quality : 744 rows (46.53%)\n",
      "Medium quality : 638 rows (39.90%)\n",
      "High quality : 217 rows (13.57%)\n"
     ]
    }
   ],
   "source": [
    "#wine_combine_data_3_kind_of_quality_equilibrees.show_ylabel_repartition_info()\n",
    "#wine_white_data_3_kind_of_quality_equilibrees.show_ylabel_repartition_info()\n",
    "#wine_red_data_3_kind_of_quality_equilibrees.show_ylabel_repartition_info()\n",
    "\n",
    "wine_combine_data_3_kind_of_quality_desequilibrees.show_ylabel_repartition_info()\n",
    "wine_white_data_3_kind_of_quality_desequilibrees.show_ylabel_repartition_info()\n",
    "wine_red_data_3_kind_of_quality_desequilibrees.show_ylabel_repartition_info()"
   ]
  },
  {
   "cell_type": "code",
   "execution_count": null,
   "metadata": {
    "colab": {},
    "colab_type": "code",
    "id": "aT7_lH0-CXEI"
   },
   "outputs": [],
   "source": []
  },
  {
   "cell_type": "code",
   "execution_count": 35,
   "metadata": {
    "colab": {
     "base_uri": "https://localhost:8080/",
     "height": 853
    },
    "colab_type": "code",
    "id": "L8ui-knYCW5F",
    "outputId": "0d2afc88-b298-42be-e10c-962488ff5071"
   },
   "outputs": [
    {
     "data": {
      "image/png": "[encoded data removed]",
      "text/plain": [
       "<matplotlib.figure.Figure at 0x2148aadd780>"
      ]
     },
     "metadata": {},
     "output_type": "display_data"
    },
    {
     "name": "stdout",
     "output_type": "stream",
     "text": [
      "Repartition des : (label, count_of_occurence)  {0: 2384, 1: 2384}\n",
      "======= If Quality of White-Red_2_Quality_equilibre Wine was splited into 0 categories =======\n"
     ]
    },
    {
     "data": {
      "image/png": "[encoded data removed]",
      "text/plain": [
       "<matplotlib.figure.Figure at 0x2148aadd668>"
      ]
     },
     "metadata": {},
     "output_type": "display_data"
    },
    {
     "name": "stdout",
     "output_type": "stream",
     "text": [
      "Repartition des : (label, count_of_occurence)  {0: 1640, 1: 1640}\n",
      "======= If Quality of White_2_Quality_equilibre Wine was splited into 0 categories =======\n"
     ]
    },
    {
     "data": {
      "image/png": "[encoded data removed]",
      "text/plain": [
       "<matplotlib.figure.Figure at 0x2148afe9400>"
      ]
     },
     "metadata": {},
     "output_type": "display_data"
    },
    {
     "name": "stdout",
     "output_type": "stream",
     "text": [
      "Repartition des : (label, count_of_occurence)  {0: 744, 1: 744}\n",
      "======= If Quality of Red_2_Quality_equilibre Wine was splited into 0 categories =======\n"
     ]
    }
   ],
   "source": [
    "wine_combine_data_2_kind_of_quality_equilibrees.show_ylabel_repartition_info()\n",
    "wine_white_data_2_kind_of_quality_equilibrees.show_ylabel_repartition_info()\n",
    "wine_red_data_2_kind_of_quality_equilibrees.show_ylabel_repartition_info()"
   ]
  },
  {
   "cell_type": "code",
   "execution_count": 36,
   "metadata": {
    "colab": {
     "base_uri": "https://localhost:8080/",
     "height": 889
    },
    "colab_type": "code",
    "id": "I51N2oTGCWgy",
    "outputId": "f4c4c1c6-e6df-4280-d999-41a3641d9a0a"
   },
   "outputs": [
    {
     "data": {
      "image/png": "[encoded data removed]",
      "text/plain": [
       "<matplotlib.figure.Figure at 0x2148aeec400>"
      ]
     },
     "metadata": {},
     "output_type": "display_data"
    },
    {
     "name": "stdout",
     "output_type": "stream",
     "text": [
      "Repartition des : (label, count_of_occurence)  {0: 1277, 1: 1277, 2: 1277}\n",
      "======= If Quality of White-Red_3_Quality_equilibre Wine was splited into 0 categories =======\n"
     ]
    },
    {
     "data": {
      "image/png": "[encoded data removed]",
      "text/plain": [
       "<matplotlib.figure.Figure at 0x2148bfe1cf8>"
      ]
     },
     "metadata": {},
     "output_type": "display_data"
    },
    {
     "name": "stdout",
     "output_type": "stream",
     "text": [
      "Repartition des : (label, count_of_occurence)  {0: 1060, 1: 1060, 2: 1060}\n",
      "======= If Quality of White_3_Quality_equilibre Wine was splited into 0 categories =======\n"
     ]
    },
    {
     "data": {
      "image/png": "[encoded data removed]",
      "text/plain": [
       "<matplotlib.figure.Figure at 0x2148c074518>"
      ]
     },
     "metadata": {},
     "output_type": "display_data"
    },
    {
     "name": "stdout",
     "output_type": "stream",
     "text": [
      "Repartition des : (label, count_of_occurence)  {0: 217, 1: 217, 2: 217}\n",
      "======= If Quality of Red_3_Quality_equilibre Wine was splited into 0 categories =======\n"
     ]
    }
   ],
   "source": [
    "wine_combine_data_3_kind_of_quality_equilibrees.show_ylabel_repartition_info()\n",
    "wine_white_data_3_kind_of_quality_equilibrees.show_ylabel_repartition_info()\n",
    "wine_red_data_3_kind_of_quality_equilibrees.show_ylabel_repartition_info()"
   ]
  },
  {
   "cell_type": "markdown",
   "metadata": {},
   "source": [
    "### IV.B) Split du dataset en X_train, X_test, Y_train, Y_test\n"
   ]
  },
  {
   "cell_type": "code",
   "execution_count": 37,
   "metadata": {
    "colab": {
     "base_uri": "https://localhost:8080/",
     "height": 738
    },
    "colab_type": "code",
    "id": "EgHVor3hCwcT",
    "outputId": "39463c17-5b8f-45bc-d9ad-7818dab7884b",
    "scrolled": true
   },
   "outputs": [
    {
     "name": "stdout",
     "output_type": "stream",
     "text": [
      "=============== New shape of White-Red Data after X_{train, test} and y_{train, test} split=============\n",
      "X_White-Red_train  (5197, 11)\n",
      "X_White-Red_test  (1300, 11)\n",
      "y_White-Red_train  (5197,)\n",
      "y_White-Red_test  (1300,)\n",
      "=============== New shape of White-Red_2_Quality_equilibre Data after X_{train, test} and y_{train, test} split=============\n",
      "X_White-Red_2_Quality_equilibre_train  (3814, 11)\n",
      "X_White-Red_2_Quality_equilibre_test  (954, 11)\n",
      "y_White-Red_2_Quality_equilibre_train  (3814,)\n",
      "y_White-Red_2_Quality_equilibre_test  (954,)\n",
      "=============== New shape of White-Red_3_Quality_equilibre Data after X_{train, test} and y_{train, test} split=============\n",
      "X_White-Red_3_Quality_equilibre_train  (3064, 11)\n",
      "X_White-Red_3_Quality_equilibre_test  (767, 11)\n",
      "y_White-Red_3_Quality_equilibre_train  (3064,)\n",
      "y_White-Red_3_Quality_equilibre_test  (767,)\n"
     ]
    }
   ],
   "source": [
    "wine_combine_data.split_into_train_test(0.2)\n",
    "wine_combine_data_2_kind_of_quality_equilibrees.split_into_train_test(0.2)\n",
    "wine_combine_data_3_kind_of_quality_equilibrees.split_into_train_test(0.2)"
   ]
  },
  {
   "cell_type": "code",
   "execution_count": 38,
   "metadata": {},
   "outputs": [
    {
     "name": "stdout",
     "output_type": "stream",
     "text": [
      "=============== New shape of White Data after X_{train, test} and y_{train, test} split=============\n",
      "X_White_train  (3918, 11)\n",
      "X_White_test  (980, 11)\n",
      "y_White_train  (3918,)\n",
      "y_White_test  (980,)\n",
      "=============== New shape of White_2_Quality_equilibre Data after X_{train, test} and y_{train, test} split=============\n",
      "X_White_2_Quality_equilibre_train  (2624, 11)\n",
      "X_White_2_Quality_equilibre_test  (656, 11)\n",
      "y_White_2_Quality_equilibre_train  (2624,)\n",
      "y_White_2_Quality_equilibre_test  (656,)\n",
      "=============== New shape of White_3_Quality_equilibre Data after X_{train, test} and y_{train, test} split=============\n",
      "X_White_3_Quality_equilibre_train  (2544, 11)\n",
      "X_White_3_Quality_equilibre_test  (636, 11)\n",
      "y_White_3_Quality_equilibre_train  (2544,)\n",
      "y_White_3_Quality_equilibre_test  (636,)\n"
     ]
    }
   ],
   "source": [
    "wine_white_data.split_into_train_test(0.2)\n",
    "wine_white_data_2_kind_of_quality_equilibrees.split_into_train_test(0.2)\n",
    "wine_white_data_3_kind_of_quality_equilibrees.split_into_train_test(0.2)"
   ]
  },
  {
   "cell_type": "code",
   "execution_count": 39,
   "metadata": {},
   "outputs": [
    {
     "name": "stdout",
     "output_type": "stream",
     "text": [
      "=============== New shape of Red Data after X_{train, test} and y_{train, test} split=============\n",
      "X_Red_train  (1279, 11)\n",
      "X_Red_test  (320, 11)\n",
      "y_Red_train  (1279,)\n",
      "y_Red_test  (320,)\n",
      "=============== New shape of Red_2_Quality_equilibre Data after X_{train, test} and y_{train, test} split=============\n",
      "X_Red_2_Quality_equilibre_train  (1190, 11)\n",
      "X_Red_2_Quality_equilibre_test  (298, 11)\n",
      "y_Red_2_Quality_equilibre_train  (1190,)\n",
      "y_Red_2_Quality_equilibre_test  (298,)\n",
      "=============== New shape of Red_3_Quality_equilibre Data after X_{train, test} and y_{train, test} split=============\n",
      "X_Red_3_Quality_equilibre_train  (520, 11)\n",
      "X_Red_3_Quality_equilibre_test  (131, 11)\n",
      "y_Red_3_Quality_equilibre_train  (520,)\n",
      "y_Red_3_Quality_equilibre_test  (131,)\n"
     ]
    }
   ],
   "source": [
    "wine_red_data.split_into_train_test(0.2)\n",
    "wine_red_data_2_kind_of_quality_equilibrees.split_into_train_test(0.2)\n",
    "wine_red_data_3_kind_of_quality_equilibrees.split_into_train_test(0.2)"
   ]
  },
  {
   "cell_type": "code",
   "execution_count": 40,
   "metadata": {},
   "outputs": [
    {
     "name": "stdout",
     "output_type": "stream",
     "text": [
      "=============== New shape of White-Red_3_Quality_desequilibre Data after X_{train, test} and y_{train, test} split=============\n",
      "X_White-Red_3_Quality_desequilibre_train  (5197, 11)\n",
      "X_White-Red_3_Quality_desequilibre_test  (1300, 11)\n",
      "y_White-Red_3_Quality_desequilibre_train  (5197,)\n",
      "y_White-Red_3_Quality_desequilibre_test  (1300,)\n",
      "=============== New shape of White_3_Quality_desequilibre Data after X_{train, test} and y_{train, test} split=============\n",
      "X_White_3_Quality_desequilibre_train  (3918, 11)\n",
      "X_White_3_Quality_desequilibre_test  (980, 11)\n",
      "y_White_3_Quality_desequilibre_train  (3918,)\n",
      "y_White_3_Quality_desequilibre_test  (980,)\n",
      "=============== New shape of Red_3_Quality_desequilibre Data after X_{train, test} and y_{train, test} split=============\n",
      "X_Red_3_Quality_desequilibre_train  (1279, 11)\n",
      "X_Red_3_Quality_desequilibre_test  (320, 11)\n",
      "y_Red_3_Quality_desequilibre_train  (1279,)\n",
      "y_Red_3_Quality_desequilibre_test  (320,)\n"
     ]
    }
   ],
   "source": [
    "# Rajouter le 28/11\n",
    "wine_combine_data_3_kind_of_quality_desequilibrees.split_into_train_test(0.2)\n",
    "wine_white_data_3_kind_of_quality_desequilibrees.split_into_train_test(0.2)\n",
    "wine_red_data_3_kind_of_quality_desequilibrees.split_into_train_test(0.2)"
   ]
  },
  {
   "cell_type": "markdown",
   "metadata": {
    "colab_type": "text",
    "id": "MN_TGlWgmVk6"
   },
   "source": [
    "\n",
    "## V) Features scaling"
   ]
  },
  {
   "cell_type": "markdown",
   "metadata": {
    "colab_type": "text",
    "id": "NpEMhL1s9r6b"
   },
   "source": [
    "- On normalise les features de manière à ce que certain attribut ne prenne pas le dessus sur d'autres attributs (notamment lors des caculs de distance)"
   ]
  },
  {
   "cell_type": "code",
   "execution_count": 41,
   "metadata": {
    "colab": {},
    "colab_type": "code",
    "id": "vYqluch7iEvJ"
   },
   "outputs": [],
   "source": [
    "wine_combine_data.preprocessing_feature_scaling_for_Xtrain_Xtest()\n",
    "wine_combine_data_2_kind_of_quality_equilibrees.preprocessing_feature_scaling_for_Xtrain_Xtest()\n",
    "wine_combine_data_3_kind_of_quality_equilibrees.preprocessing_feature_scaling_for_Xtrain_Xtest()\n",
    "wine_combine_data_3_kind_of_quality_desequilibrees.preprocessing_feature_scaling_for_Xtrain_Xtest()\n",
    "\n",
    "wine_white_data.preprocessing_feature_scaling_for_Xtrain_Xtest()\n",
    "wine_white_data_2_kind_of_quality_equilibrees.preprocessing_feature_scaling_for_Xtrain_Xtest()\n",
    "wine_white_data_3_kind_of_quality_equilibrees.preprocessing_feature_scaling_for_Xtrain_Xtest()\n",
    "wine_white_data_3_kind_of_quality_desequilibrees.preprocessing_feature_scaling_for_Xtrain_Xtest()\n",
    "\n",
    "wine_red_data.preprocessing_feature_scaling_for_Xtrain_Xtest()\n",
    "wine_red_data_2_kind_of_quality_equilibrees.preprocessing_feature_scaling_for_Xtrain_Xtest()\n",
    "wine_red_data_3_kind_of_quality_equilibrees.preprocessing_feature_scaling_for_Xtrain_Xtest()\n",
    "wine_red_data_3_kind_of_quality_desequilibrees.preprocessing_feature_scaling_for_Xtrain_Xtest()\n"
   ]
  },
  {
   "cell_type": "markdown",
   "metadata": {
    "colab_type": "text",
    "id": "Nccfy8oY2h8o"
   },
   "source": [
    "## VI) Prédiction de la qualité avec SVM"
   ]
  },
  {
   "cell_type": "code",
   "execution_count": 78,
   "metadata": {
    "colab": {},
    "colab_type": "code",
    "id": "fjqiMGV865kL"
   },
   "outputs": [],
   "source": [
    "import itertools\n",
    "from sklearn.svm import SVC\n",
    "from sklearn.decomposition import PCA\n",
    "from sklearn.pipeline import Pipeline\n",
    "from sklearn.model_selection import GridSearchCV\n",
    "from sklearn.metrics import accuracy_score\n",
    "from sklearn.metrics import confusion_matrix\n",
    "from sklearn.metrics import classification_report\n",
    "\n",
    "\n",
    "class svm_model:\n",
    "    \n",
    "    def __init__(self, wine_data, C_value = 1, gamma_value = 0.4, kernel_value = 'rbf'):\n",
    "        self.wine_data = wine_data\n",
    "        self.classifier = SVC(C= C_value, gamma = gamma_value, kernel = kernel_value, random_state=0)\n",
    "    \n",
    "    def svm_train(self, X_train, y_train):\n",
    "        self.classifier.fit(X_train, y_train)\n",
    "\n",
    "    def svm_train(self):\n",
    "        self.classifier.fit(self.wine_data.X_train, self.wine_data.y_train)\n",
    "        \n",
    "    def svm_predict(self, X_test):\n",
    "        self.y_pred = self.classifier.predict(X_test)\n",
    "        \n",
    "    def svm_predict(self):\n",
    "        self.y_pred = self.classifier.predict(self.wine_data.X_test)\n",
    "        \n",
    "    def svm_print_accuracy_score(self, y_test):\n",
    "        print(\"\\n============= Summary of perf on \"+self.wine_data.wine_name+\" ==================\\n\")\n",
    "        print(\"Accuracy score : \", accuracy_score(y_test, self.y_pred))\n",
    "        #cm = confusion_matrix(y_test, self.y_pred)\n",
    "        #print(classification_report(y_test, self.y_pred))\n",
    "\n",
    "    def svm_print_accuracy_score(self):\n",
    "        print(\"\\n============= Summary of perf on \"+self.wine_data.wine_name+\" ==================\\n\")\n",
    "        print(\"Accuracy score : \", accuracy_score(self.wine_data.y_test, self.y_pred))\n",
    "        print(\"list of unique_predicted_class \", np.unique( self.y_pred ) )\n",
    "        self.plot_confusion_matrix()\n",
    "        print(classification_report(self.wine_data.y_test, self.y_pred))        \n",
    "        \n",
    "    def search_by_gridSearch_with_PCA_and_SVM(self, n_components, C_values, gamma_values, cv=10):\n",
    "        pipe = Pipeline(steps=[('pca', PCA()), ('svm', SVC())])\n",
    "        hyerparams = [{'svm__C': C_values, 'svm__kernel': ['linear'], 'pca__n_components': n_components},\n",
    "                    {'svm__C': C_values, 'svm__kernel': ['rbf'], 'svm__gamma': gamma_values, 'pca__n_components': n_components}]\n",
    "        self.grid_search = GridSearchCV(pipe,\n",
    "                                      param_grid = hyerparams,\n",
    "                                      scoring = 'accuracy',\n",
    "                                      cv = cv,\n",
    "                                      n_jobs = -1)\n",
    "        self.grid_search.fit(self.wine_data.X_train, self.wine_data.y_train)\n",
    "      \n",
    "    def search_by_gridSearch_with_only_SVM(self, C_values, gamma_values, cv=10): \n",
    "        hyerparams = [{'C': C_values, 'kernel': ['linear']},\n",
    "                    {'C': C_values, 'kernel': ['rbf'], 'gamma': gamma_values}]\n",
    "        self.grid_search = GridSearchCV(SVC(),\n",
    "                                      param_grid = hyerparams,\n",
    "                                      scoring = 'accuracy',\n",
    "                                      cv = cv,\n",
    "                                      n_jobs = -1)\n",
    "        self.grid_search.fit(self.wine_data.X_train, self.wine_data.y_train)\n",
    "      \n",
    "    def print_best_score_find_by_gridSearch(self):\n",
    "        print(\"Meilleur résultat de la validation croisée :\", self.grid_search.best_score_)\n",
    "        print(\"Meilleur(s) hyperparamètre(s) sur le jeu d'entraînement:\", self.grid_search.best_params_)\n",
    "      \n",
    "    def print_score_of_generalisation_on_test_set(self):\n",
    "        # Après avoir trouvé la meilleure combinaison de paramètres, il est \n",
    "        # important de calculer l'erreur de généralisation sur le test_set\n",
    "        y_pred = self.grid_search.predict(self.wine_data.X_test)\n",
    "        print(\"\\nResultat sur le jeu de test : %0.3f\" % metrics.accuracy_score(self.wine_data.y_test, y_pred))\n",
    "        \n",
    "    def plot_confusion_matrix(self, normalize=False):\n",
    "        cm = confusion_matrix(self.wine_data.y_test, self.y_pred)\n",
    "        cmap=plt.cm.Blues\n",
    "        \n",
    "        plt.imshow(cm, interpolation='nearest', cmap=cmap)\n",
    "        plt.title('Confusion Matrix for Test Data')\n",
    "        plt.colorbar()\n",
    "        \n",
    "        fmt = '.2f' if normalize else 'd'\n",
    "        thresh = cm.max() / 2.\n",
    "        for i, j in itertools.product(range(cm.shape[0]), range(cm.shape[1])):\n",
    "            plt.text(j, i, format(cm[i, j], fmt),\n",
    "                     horizontalalignment=\"center\")\n",
    "\n",
    "        plt.ylabel('True label')\n",
    "        plt.xlabel('Predicted label')\n",
    "        plt.tight_layout()\n",
    "        plt.show()\n",
    "        \n",
    "    def compute_roc(self):\n",
    "        from sklearn.metrics import roc_auc_score                \n",
    "        print(\"roc :\",roc_auc_score(self.wine_data.y_test, self.y_pred))"
   ]
  },
  {
   "cell_type": "code",
   "execution_count": 79,
   "metadata": {
    "colab": {
     "base_uri": "https://localhost:8080/",
     "height": 88
    },
    "colab_type": "code",
    "id": "VSrAGbtbhXvx",
    "outputId": "775bca3a-d78d-44a6-fd7e-b6a0266f6fac",
    "scrolled": false
   },
   "outputs": [
    {
     "name": "stdout",
     "output_type": "stream",
     "text": [
      "\n",
      "============= Summary of perf on White-Red ==================\n",
      "\n",
      "Accuracy score :  0.62\n",
      "list of unique_predicted_class  [4 5 6 7 8]\n"
     ]
    },
    {
     "data": {
      "image/png": "[encoded data removed]",
      "text/plain": [
       "<matplotlib.figure.Figure at 0x214908c8198>"
      ]
     },
     "metadata": {},
     "output_type": "display_data"
    },
    {
     "name": "stderr",
     "output_type": "stream",
     "text": [
      "C:\\Users\\aden\\Anaconda3\\lib\\site-packages\\sklearn\\metrics\\classification.py:1135: UndefinedMetricWarning: Precision and F-score are ill-defined and being set to 0.0 in labels with no predicted samples.\n",
      "  'precision', 'predicted', average, warn_for)\n"
     ]
    },
    {
     "name": "stdout",
     "output_type": "stream",
     "text": [
      "             precision    recall  f1-score   support\n",
      "\n",
      "          3       0.00      0.00      0.00         2\n",
      "          4       1.00      0.02      0.04        46\n",
      "          5       0.67      0.72      0.69       420\n",
      "          6       0.61      0.74      0.67       579\n",
      "          7       0.55      0.33      0.41       221\n",
      "          8       0.00      0.00      0.00        32\n",
      "\n",
      "avg / total       0.61      0.62      0.59      1300\n",
      "\n",
      "\n",
      "============= Summary of perf on White-Red_2_Quality_equilibre ==================\n",
      "\n",
      "Accuracy score :  0.7809224318658281\n",
      "list of unique_predicted_class  [0 1]\n"
     ]
    },
    {
     "data": {
      "image/png": "[encoded data removed]",
      "text/plain": [
       "<matplotlib.figure.Figure at 0x2148c26e2b0>"
      ]
     },
     "metadata": {},
     "output_type": "display_data"
    },
    {
     "name": "stdout",
     "output_type": "stream",
     "text": [
      "             precision    recall  f1-score   support\n",
      "\n",
      "          0       0.75      0.84      0.79       473\n",
      "          1       0.82      0.72      0.77       481\n",
      "\n",
      "avg / total       0.79      0.78      0.78       954\n",
      "\n",
      "roc : 0.7814080953615837\n",
      "\n",
      "============= Summary of perf on White-Red_3_Quality_equilibre ==================\n",
      "\n",
      "Accuracy score :  0.6336375488917861\n",
      "list of unique_predicted_class  [0 1 2]\n"
     ]
    },
    {
     "data": {
      "image/png": "[encoded data removed]",
      "text/plain": [
       "<matplotlib.figure.Figure at 0x214907d5dd8>"
      ]
     },
     "metadata": {},
     "output_type": "display_data"
    },
    {
     "name": "stdout",
     "output_type": "stream",
     "text": [
      "             precision    recall  f1-score   support\n",
      "\n",
      "          0       0.71      0.69      0.70       267\n",
      "          1       0.48      0.45      0.46       239\n",
      "          2       0.69      0.75      0.72       261\n",
      "\n",
      "avg / total       0.63      0.63      0.63       767\n",
      "\n",
      "\n",
      "============= Summary of perf on White-Red_3_Quality_desequilibre ==================\n",
      "\n",
      "Accuracy score :  0.66\n",
      "list of unique_predicted_class  [0 1 2]\n"
     ]
    },
    {
     "data": {
      "image/png": "[encoded data removed]",
      "text/plain": [
       "<matplotlib.figure.Figure at 0x21490858a90>"
      ]
     },
     "metadata": {},
     "output_type": "display_data"
    },
    {
     "name": "stdout",
     "output_type": "stream",
     "text": [
      "             precision    recall  f1-score   support\n",
      "\n",
      "          0       0.71      0.75      0.73       468\n",
      "          1       0.63      0.68      0.65       579\n",
      "          2       0.63      0.45      0.52       253\n",
      "\n",
      "avg / total       0.66      0.66      0.66      1300\n",
      "\n"
     ]
    }
   ],
   "source": [
    "#===================== Prédiction Dataset combined wine ======================\n",
    "# Les 10 classes normales\n",
    "svm_wine_combine_data = svm_model(wine_combine_data)\n",
    "svm_wine_combine_data.svm_train()\n",
    "svm_wine_combine_data.svm_predict()\n",
    "svm_wine_combine_data.svm_print_accuracy_score()\n",
    "\n",
    "# Classes splitées en 2 qualités et équilibrées\n",
    "svm_wine_combine_data_2_kind_of_quality_equilibrees = svm_model(wine_combine_data_2_kind_of_quality_equilibrees)\n",
    "svm_wine_combine_data_2_kind_of_quality_equilibrees.svm_train()\n",
    "svm_wine_combine_data_2_kind_of_quality_equilibrees.svm_predict()\n",
    "svm_wine_combine_data_2_kind_of_quality_equilibrees.svm_print_accuracy_score()\n",
    "svm_wine_combine_data_2_kind_of_quality_equilibrees.compute_roc()\n",
    "\n",
    "# Classes splitées en 3 qualités et équilibrées\n",
    "svm_wine_combine_data_3_kind_of_quality_equilibrees = svm_model(wine_combine_data_3_kind_of_quality_equilibrees)\n",
    "svm_wine_combine_data_3_kind_of_quality_equilibrees.svm_train()\n",
    "svm_wine_combine_data_3_kind_of_quality_equilibrees.svm_predict()\n",
    "svm_wine_combine_data_3_kind_of_quality_equilibrees.svm_print_accuracy_score()\n",
    "\n",
    "# Classes splitées en 3 qualités et desequilibrées\n",
    "svm_wine_combine_data_3_kind_of_quality_desequilibrees = svm_model(wine_combine_data_3_kind_of_quality_desequilibrees)\n",
    "svm_wine_combine_data_3_kind_of_quality_desequilibrees.svm_train()\n",
    "svm_wine_combine_data_3_kind_of_quality_desequilibrees.svm_predict()\n",
    "svm_wine_combine_data_3_kind_of_quality_desequilibrees.svm_print_accuracy_score()"
   ]
  },
  {
   "cell_type": "code",
   "execution_count": 70,
   "metadata": {
    "colab": {
     "base_uri": "https://localhost:8080/",
     "height": 232
    },
    "colab_type": "code",
    "id": "WzdNVjCVh8F6",
    "outputId": "f27a172a-10a5-4739-a7e8-da4e08cc3983"
   },
   "outputs": [
    {
     "name": "stdout",
     "output_type": "stream",
     "text": [
      "\n",
      "============= Summary of perf on White ==================\n",
      "\n",
      "Accuracy score :  0.6122448979591837\n",
      "list of unique_predicted_class  [4 5 6 7 8]\n"
     ]
    },
    {
     "data": {
      "image/png": "[encoded data removed]",
      "text/plain": [
       "<matplotlib.figure.Figure at 0x2149082cba8>"
      ]
     },
     "metadata": {},
     "output_type": "display_data"
    },
    {
     "name": "stderr",
     "output_type": "stream",
     "text": [
      "C:\\Users\\aden\\Anaconda3\\lib\\site-packages\\sklearn\\metrics\\classification.py:1135: UndefinedMetricWarning: Precision and F-score are ill-defined and being set to 0.0 in labels with no predicted samples.\n",
      "  'precision', 'predicted', average, warn_for)\n"
     ]
    },
    {
     "name": "stdout",
     "output_type": "stream",
     "text": [
      "             precision    recall  f1-score   support\n",
      "\n",
      "          3       0.00      0.00      0.00         5\n",
      "          4       0.75      0.12      0.21        25\n",
      "          5       0.67      0.61      0.64       291\n",
      "          6       0.58      0.79      0.66       432\n",
      "          7       0.67      0.40      0.50       192\n",
      "          8       0.80      0.11      0.20        35\n",
      "\n",
      "avg / total       0.63      0.61      0.59       980\n",
      "\n",
      "\n",
      "============= Summary of perf on White_2_Quality_equilibre ==================\n",
      "\n",
      "Accuracy score :  0.8003048780487805\n",
      "list of unique_predicted_class  [0 1]\n"
     ]
    },
    {
     "data": {
      "image/png": "[encoded data removed]",
      "text/plain": [
       "<matplotlib.figure.Figure at 0x2149065c320>"
      ]
     },
     "metadata": {},
     "output_type": "display_data"
    },
    {
     "name": "stdout",
     "output_type": "stream",
     "text": [
      "             precision    recall  f1-score   support\n",
      "\n",
      "          0       0.77      0.85      0.81       320\n",
      "          1       0.84      0.75      0.79       336\n",
      "\n",
      "avg / total       0.80      0.80      0.80       656\n",
      "\n",
      "roc : 0.8014880952380952\n",
      "\n",
      "============= Summary of perf on White_3_Quality_equilibre ==================\n",
      "\n",
      "Accuracy score :  0.639937106918239\n",
      "list of unique_predicted_class  [0 1 2]\n"
     ]
    },
    {
     "data": {
      "image/png": "[encoded data removed]",
      "text/plain": [
       "<matplotlib.figure.Figure at 0x21490946c18>"
      ]
     },
     "metadata": {},
     "output_type": "display_data"
    },
    {
     "name": "stdout",
     "output_type": "stream",
     "text": [
      "             precision    recall  f1-score   support\n",
      "\n",
      "          0       0.68      0.72      0.70       229\n",
      "          1       0.52      0.48      0.50       203\n",
      "          2       0.70      0.70      0.70       204\n",
      "\n",
      "avg / total       0.64      0.64      0.64       636\n",
      "\n",
      "\n",
      "============= Summary of perf on White_3_Quality_desequilibre ==================\n",
      "\n",
      "Accuracy score :  0.6663265306122449\n",
      "list of unique_predicted_class  [0 1 2]\n"
     ]
    },
    {
     "data": {
      "image/png": "[encoded data removed]",
      "text/plain": [
       "<matplotlib.figure.Figure at 0x2148aae8208>"
      ]
     },
     "metadata": {},
     "output_type": "display_data"
    },
    {
     "name": "stdout",
     "output_type": "stream",
     "text": [
      "             precision    recall  f1-score   support\n",
      "\n",
      "          0       0.70      0.66      0.68       321\n",
      "          1       0.62      0.74      0.67       432\n",
      "          2       0.76      0.54      0.63       227\n",
      "\n",
      "avg / total       0.68      0.67      0.66       980\n",
      "\n"
     ]
    }
   ],
   "source": [
    "#===================== Prédiction Dataset white wine =========================\n",
    "# Les 10 classes normales\n",
    "svm_wine_white_data = svm_model(wine_white_data)\n",
    "svm_wine_white_data.svm_train()\n",
    "svm_wine_white_data.svm_predict()\n",
    "svm_wine_white_data.svm_print_accuracy_score()\n",
    "\n",
    "# Classes splitées en 2 qualités et équilibrées\n",
    "svm_wine_white_data_2_kind_of_quality_equilibrees = svm_model(wine_white_data_2_kind_of_quality_equilibrees)\n",
    "svm_wine_white_data_2_kind_of_quality_equilibrees.svm_train()\n",
    "svm_wine_white_data_2_kind_of_quality_equilibrees.svm_predict()\n",
    "svm_wine_white_data_2_kind_of_quality_equilibrees.svm_print_accuracy_score()\n",
    "svm_wine_white_data_2_kind_of_quality_equilibrees.compute_roc()\n",
    "\n",
    "# Classes splitées en 3 qualités et équilibrées\n",
    "svm_wine_white_data_3_kind_of_quality_equilibrees = svm_model(wine_white_data_3_kind_of_quality_equilibrees)\n",
    "svm_wine_white_data_3_kind_of_quality_equilibrees.svm_train()\n",
    "svm_wine_white_data_3_kind_of_quality_equilibrees.svm_predict()\n",
    "svm_wine_white_data_3_kind_of_quality_equilibrees.svm_print_accuracy_score()\n",
    "\n",
    "# Classes splitées en 3 qualités et desequilibrées\n",
    "svm_wine_white_data_3_kind_of_quality_desequilibrees = svm_model(wine_white_data_3_kind_of_quality_desequilibrees)\n",
    "svm_wine_white_data_3_kind_of_quality_desequilibrees.svm_train()\n",
    "svm_wine_white_data_3_kind_of_quality_desequilibrees.svm_predict()\n",
    "svm_wine_white_data_3_kind_of_quality_desequilibrees.svm_print_accuracy_score()\n"
   ]
  },
  {
   "cell_type": "code",
   "execution_count": 71,
   "metadata": {
    "colab": {
     "base_uri": "https://localhost:8080/",
     "height": 232
    },
    "colab_type": "code",
    "id": "XVTegT1zXWPh",
    "outputId": "b7da60c3-757c-433e-d443-d5b322ce1b57"
   },
   "outputs": [
    {
     "name": "stdout",
     "output_type": "stream",
     "text": [
      "\n",
      "============= Summary of perf on Red ==================\n",
      "\n",
      "Accuracy score :  0.584375\n",
      "list of unique_predicted_class  [5 6 7]\n"
     ]
    },
    {
     "data": {
      "image/png": "[encoded data removed]",
      "text/plain": [
       "<matplotlib.figure.Figure at 0x2149059ab00>"
      ]
     },
     "metadata": {},
     "output_type": "display_data"
    },
    {
     "name": "stderr",
     "output_type": "stream",
     "text": [
      "C:\\Users\\aden\\Anaconda3\\lib\\site-packages\\sklearn\\metrics\\classification.py:1135: UndefinedMetricWarning: Precision and F-score are ill-defined and being set to 0.0 in labels with no predicted samples.\n",
      "  'precision', 'predicted', average, warn_for)\n"
     ]
    },
    {
     "name": "stdout",
     "output_type": "stream",
     "text": [
      "             precision    recall  f1-score   support\n",
      "\n",
      "          3       0.00      0.00      0.00         1\n",
      "          4       0.00      0.00      0.00        10\n",
      "          5       0.62      0.74      0.67       130\n",
      "          6       0.54      0.57      0.55       132\n",
      "          7       0.64      0.38      0.48        42\n",
      "          8       0.00      0.00      0.00         5\n",
      "\n",
      "avg / total       0.56      0.58      0.56       320\n",
      "\n",
      "\n",
      "============= Summary of perf on Red_2_Quality_equilibre ==================\n",
      "\n",
      "Accuracy score :  0.7684563758389261\n",
      "list of unique_predicted_class  [0 1]\n"
     ]
    },
    {
     "data": {
      "image/png": "[encoded data removed]",
      "text/plain": [
       "<matplotlib.figure.Figure at 0x2149085c470>"
      ]
     },
     "metadata": {},
     "output_type": "display_data"
    },
    {
     "name": "stdout",
     "output_type": "stream",
     "text": [
      "             precision    recall  f1-score   support\n",
      "\n",
      "          0       0.76      0.78      0.77       149\n",
      "          1       0.77      0.76      0.77       149\n",
      "\n",
      "avg / total       0.77      0.77      0.77       298\n",
      "\n",
      "\n",
      "============= Summary of perf on Red_3_Quality_equilibre ==================\n",
      "\n",
      "Accuracy score :  0.6259541984732825\n",
      "list of unique_predicted_class  [0 1 2]\n"
     ]
    },
    {
     "data": {
      "image/png": "[encoded data removed]",
      "text/plain": [
       "<matplotlib.figure.Figure at 0x2149082d940>"
      ]
     },
     "metadata": {},
     "output_type": "display_data"
    },
    {
     "name": "stdout",
     "output_type": "stream",
     "text": [
      "             precision    recall  f1-score   support\n",
      "\n",
      "          0       0.72      0.65      0.69        52\n",
      "          1       0.43      0.46      0.44        39\n",
      "          2       0.71      0.75      0.73        40\n",
      "\n",
      "avg / total       0.63      0.63      0.63       131\n",
      "\n",
      "\n",
      "============= Summary of perf on Red_3_Quality_desequilibre ==================\n",
      "\n",
      "Accuracy score :  0.61875\n",
      "list of unique_predicted_class  [0 1 2]\n"
     ]
    },
    {
     "data": {
      "image/png": "[encoded data removed]",
      "text/plain": [
       "<matplotlib.figure.Figure at 0x2149070d5c0>"
      ]
     },
     "metadata": {},
     "output_type": "display_data"
    },
    {
     "name": "stdout",
     "output_type": "stream",
     "text": [
      "             precision    recall  f1-score   support\n",
      "\n",
      "          0       0.66      0.77      0.71       141\n",
      "          1       0.55      0.54      0.54       132\n",
      "          2       0.73      0.40      0.52        47\n",
      "\n",
      "avg / total       0.62      0.62      0.61       320\n",
      "\n"
     ]
    }
   ],
   "source": [
    "#===================== Prédiction Dataset red wine =========================\n",
    "# Les 10 classes normales\n",
    "svm_wine_red_data = svm_model(wine_red_data)\n",
    "svm_wine_red_data.svm_train()\n",
    "svm_wine_red_data.svm_predict()\n",
    "svm_wine_red_data.svm_print_accuracy_score()\n",
    "\n",
    "# Classes splitées en 2 qualités et équilibrées\n",
    "svm_wine_red_data_2_kind_of_quality_equilibrees = svm_model(wine_red_data_2_kind_of_quality_equilibrees)\n",
    "svm_wine_red_data_2_kind_of_quality_equilibrees.svm_train()\n",
    "svm_wine_red_data_2_kind_of_quality_equilibrees.svm_predict()\n",
    "svm_wine_red_data_2_kind_of_quality_equilibrees.svm_print_accuracy_score()\n",
    "\n",
    "# Classes splitées en 3 qualités et équilibrées\n",
    "svm_wine_red_data_3_kind_of_quality_equilibrees = svm_model(wine_red_data_3_kind_of_quality_equilibrees)\n",
    "svm_wine_red_data_3_kind_of_quality_equilibrees.svm_train()\n",
    "svm_wine_red_data_3_kind_of_quality_equilibrees.svm_predict()\n",
    "svm_wine_red_data_3_kind_of_quality_equilibrees.svm_print_accuracy_score()\n",
    "\n",
    "# Classes splitées en 3 qualités et desequilibrées\n",
    "svm_wine_red_data_3_kind_of_quality_desequilibrees = svm_model(wine_red_data_3_kind_of_quality_desequilibrees)\n",
    "svm_wine_red_data_3_kind_of_quality_desequilibrees.svm_train()\n",
    "svm_wine_red_data_3_kind_of_quality_desequilibrees.svm_predict()\n",
    "svm_wine_red_data_3_kind_of_quality_desequilibrees.svm_print_accuracy_score()"
   ]
  },
  {
   "cell_type": "markdown",
   "metadata": {
    "colab_type": "text",
    "id": "S7uzUk-ZQVuP"
   },
   "source": [
    "### VI.A.1) Recherche des meilleurs paramètres  pour le PCA + SVM sur le \"White Wine\""
   ]
  },
  {
   "cell_type": "code",
   "execution_count": 39,
   "metadata": {
    "colab": {},
    "colab_type": "code",
    "id": "x8lDjpf5gp-F"
   },
   "outputs": [],
   "source": [
    "n_components = [2, 3, 4, 5, 6, 7, 8, 9, 10, 11]\n",
    "C_values = [1, 10, 100]\n",
    "gamma_values = [0.01, 0.1, 1]\n"
   ]
  },
  {
   "cell_type": "code",
   "execution_count": 43,
   "metadata": {
    "colab": {},
    "colab_type": "code",
    "id": "yHzyme9y2lra"
   },
   "outputs": [],
   "source": [
    "svm_wine_white_data.search_by_gridSearch_with_PCA_and_SVM(n_components, C_values, gamma_values, cv=5)"
   ]
  },
  {
   "cell_type": "code",
   "execution_count": 40,
   "metadata": {
    "colab": {},
    "colab_type": "code",
    "id": "_G5bxa9SgVlF"
   },
   "outputs": [],
   "source": [
    "svm_wine_white_data_2_kind_of_quality_equilibrees.search_by_gridSearch_with_PCA_and_SVM(n_components, C_values, gamma_values)"
   ]
  },
  {
   "cell_type": "code",
   "execution_count": 58,
   "metadata": {},
   "outputs": [
    {
     "name": "stdout",
     "output_type": "stream",
     "text": [
      "Meilleur résultat de la validation croisée : 0.6296579887697805\n",
      "Meilleur(s) hyperparamètre(s) sur le jeu d'entraînement: {'pca__n_components': 9, 'svm__C': 100, 'svm__gamma': 1, 'svm__kernel': 'rbf'}\n",
      "Meilleur résultat de la validation croisée : 0.7922409392547218\n",
      "Meilleur(s) hyperparamètre(s) sur le jeu d'entraînement: {'C': 1, 'gamma': 1, 'kernel': 'rbf'}\n"
     ]
    }
   ],
   "source": [
    "svm_wine_white_data.print_best_score_find_by_gridSearch()\n",
    "svm_wine_white_data_2_kind_of_quality_equilibrees.print_best_score_find_by_gridSearch()"
   ]
  },
  {
   "cell_type": "code",
   "execution_count": null,
   "metadata": {
    "colab": {},
    "colab_type": "code",
    "id": "2x2B3K02gVQK"
   },
   "outputs": [],
   "source": [
    "svm_wine_white_data_3_kind_of_quality_equilibrees.search_by_gridSearch_with_PCA_and_SVM(n_components, C_values, gamma_values)"
   ]
  },
  {
   "cell_type": "markdown",
   "metadata": {
    "colab_type": "text",
    "id": "_uhXmM3Y3Ryf"
   },
   "source": [
    "### VI.A.2) Recherche des meilleurs paramètres  pour le SVM (sans PCA) sur le \"White Wine\""
   ]
  },
  {
   "cell_type": "code",
   "execution_count": 41,
   "metadata": {
    "colab": {},
    "colab_type": "code",
    "id": "aBhjoOdN3RCT"
   },
   "outputs": [],
   "source": [
    "svm_wine_white_data.search_by_gridSearch_with_only_SVM(C_values, gamma_values, cv=5)"
   ]
  },
  {
   "cell_type": "code",
   "execution_count": 42,
   "metadata": {
    "colab": {},
    "colab_type": "code",
    "id": "Najpm_yNRviW"
   },
   "outputs": [],
   "source": [
    "svm_wine_white_data_2_kind_of_quality_equilibrees.search_by_gridSearch_with_only_SVM(C_values, gamma_values)"
   ]
  },
  {
   "cell_type": "code",
   "execution_count": 59,
   "metadata": {},
   "outputs": [
    {
     "name": "stdout",
     "output_type": "stream",
     "text": [
      "\n",
      "============= Summary of perf on White ==================\n",
      "\n",
      "Accuracy score :  0.6122448979591837\n",
      "\n",
      "============= Summary of perf on White_2_Quality_equilibre ==================\n",
      "\n",
      "Accuracy score :  0.8\n"
     ]
    }
   ],
   "source": [
    "svm_wine_white_data.svm_print_accuracy_score()\n",
    "#svm_wine_white_data.print_score_of_generalisation_on_test_set()\n",
    "svm_wine_white_data_2_kind_of_quality_equilibrees.svm_print_accuracy_score()\n",
    "#svm_wine_white_data_2_kind_of_quality_equilibrees.print_score_of_generalisation_on_test_set()"
   ]
  },
  {
   "cell_type": "code",
   "execution_count": null,
   "metadata": {
    "colab": {},
    "colab_type": "code",
    "id": "rVnmc14bhjvY"
   },
   "outputs": [],
   "source": [
    "svm_wine_white_data_3_kind_of_quality_equilibrees.search_by_gridSearch_with_only_SVM(C_values, gamma_values)"
   ]
  },
  {
   "cell_type": "markdown",
   "metadata": {},
   "source": [
    "### VI.B.1) Recherche des meilleurs paramètres  pour le PCA + SVM sur le \"Red Wine\""
   ]
  },
  {
   "cell_type": "code",
   "execution_count": 44,
   "metadata": {},
   "outputs": [],
   "source": [
    "svm_wine_red_data.search_by_gridSearch_with_PCA_and_SVM(n_components, C_values, gamma_values, cv=5)"
   ]
  },
  {
   "cell_type": "code",
   "execution_count": 45,
   "metadata": {},
   "outputs": [],
   "source": [
    "svm_wine_red_data_2_kind_of_quality_equilibrees.search_by_gridSearch_with_PCA_and_SVM(n_components, C_values, gamma_values)"
   ]
  },
  {
   "cell_type": "code",
   "execution_count": 53,
   "metadata": {
    "scrolled": true
   },
   "outputs": [
    {
     "name": "stdout",
     "output_type": "stream",
     "text": [
      "Meilleur résultat de la validation croisée : 0.6528537920250196\n",
      "Meilleur(s) hyperparamètre(s) sur le jeu d'entraînement: {'C': 1, 'gamma': 1, 'kernel': 'rbf'}\n",
      "Meilleur résultat de la validation croisée : 0.691164972634871\n",
      "Meilleur(s) hyperparamètre(s) sur le jeu d'entraînement: {'C': 1, 'gamma': 1, 'kernel': 'rbf'}\n"
     ]
    }
   ],
   "source": [
    "svm_wine_red_data.print_best_score_find_by_gridSearch()\n",
    "svm_wine_red_data_2_kind_of_quality_equilibrees.print_best_score_find_by_gridSearch()"
   ]
  },
  {
   "cell_type": "code",
   "execution_count": null,
   "metadata": {},
   "outputs": [],
   "source": [
    "svm_wine_red_data_3_kind_of_quality_equilibrees.search_by_gridSearch_with_PCA_and_SVM(n_components, C_values, gamma_values)"
   ]
  },
  {
   "cell_type": "markdown",
   "metadata": {},
   "source": [
    "### VI.B.2) Recherche des meilleurs paramètres  pour le SVM (sans PCA) sur le \"Red Wine\""
   ]
  },
  {
   "cell_type": "code",
   "execution_count": 46,
   "metadata": {},
   "outputs": [],
   "source": [
    "svm_wine_red_data.search_by_gridSearch_with_only_SVM(C_values, gamma_values, cv=5)"
   ]
  },
  {
   "cell_type": "code",
   "execution_count": 47,
   "metadata": {},
   "outputs": [],
   "source": [
    "svm_wine_red_data_2_kind_of_quality_equilibrees.search_by_gridSearch_with_only_SVM(C_values, gamma_values)"
   ]
  },
  {
   "cell_type": "code",
   "execution_count": 55,
   "metadata": {},
   "outputs": [
    {
     "name": "stdout",
     "output_type": "stream",
     "text": [
      "\n",
      "============= Summary of perf on Red ==================\n",
      "\n",
      "Accuracy score :  0.584375\n",
      "\n",
      "============= Summary of perf on Red_3_Quality_equilibre ==================\n",
      "\n",
      "Accuracy score :  0.61875\n"
     ]
    }
   ],
   "source": [
    "svm_wine_red_data.svm_print_accuracy_score()\n",
    "svm_wine_red_data_2_kind_of_quality_equilibrees.svm_print_accuracy_score()"
   ]
  },
  {
   "cell_type": "code",
   "execution_count": null,
   "metadata": {},
   "outputs": [],
   "source": [
    "svm_wine_red_data_3_kind_of_quality_equilibrees.search_by_gridSearch_with_only_SVM(C_values, gamma_values)"
   ]
  },
  {
   "cell_type": "markdown",
   "metadata": {},
   "source": [
    "### VI.C.1) Recherche des meilleurs paramètres  pour le PCA + SVM sur la combinaison de \"White-Red Wine\""
   ]
  },
  {
   "cell_type": "code",
   "execution_count": null,
   "metadata": {},
   "outputs": [],
   "source": [
    "svm_wine_combine_data.search_by_gridSearch_with_PCA_and_SVM(n_components, C_values, gamma_values, cv=5)"
   ]
  },
  {
   "cell_type": "code",
   "execution_count": null,
   "metadata": {},
   "outputs": [],
   "source": [
    "svm_wine_combine_data_2_kind_of_quality_equilibrees.search_by_gridSearch_with_PCA_and_SVM(n_components, C_values, gamma_values)"
   ]
  },
  {
   "cell_type": "code",
   "execution_count": null,
   "metadata": {},
   "outputs": [],
   "source": [
    "svm_wine_combine_data_3_kind_of_quality_equilibrees.search_by_gridSearch_with_PCA_and_SVM(n_components, C_values, gamma_values)"
   ]
  },
  {
   "cell_type": "markdown",
   "metadata": {},
   "source": [
    "### VI.C.2) Recherche des meilleurs paramètres  pour le SVM (sans PCA) sur la combinaison de \"White-Red Wine\""
   ]
  },
  {
   "cell_type": "code",
   "execution_count": null,
   "metadata": {},
   "outputs": [],
   "source": [
    "svm_wine_combine_data.search_by_gridSearch_with_only_SVM(C_values, gamma_values, cv=5)"
   ]
  },
  {
   "cell_type": "code",
   "execution_count": null,
   "metadata": {},
   "outputs": [],
   "source": [
    "svm_wine_combine_data_2_kind_of_quality_equilibrees.search_by_gridSearch_with_only_SVM(C_values, gamma_values)"
   ]
  },
  {
   "cell_type": "code",
   "execution_count": null,
   "metadata": {},
   "outputs": [],
   "source": [
    "svm_wine_combine_data_3_kind_of_quality_equilibrees.search_by_gridSearch_with_only_SVM(C_values, gamma_values)"
   ]
  }
 ],
 "metadata": {
  "colab": {
   "collapsed_sections": [],
   "name": "IFT6390_Projet",
   "provenance": [],
   "version": "0.3.2"
  },
  "kernelspec": {
   "display_name": "Python 3",
   "language": "python",
   "name": "python3"
  },
  "language_info": {
   "codemirror_mode": {
    "name": "ipython",
    "version": 3
   },
   "file_extension": ".py",
   "mimetype": "text/x-python",
   "name": "python",
   "nbconvert_exporter": "python",
   "pygments_lexer": "ipython3",
   "version": "3.6.4"
  }
 },
 "nbformat": 4,
 "nbformat_minor": 1
}
